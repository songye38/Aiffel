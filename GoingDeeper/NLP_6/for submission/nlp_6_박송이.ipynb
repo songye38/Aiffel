{
 "cells": [
  {
   "cell_type": "markdown",
   "id": "75388bc4",
   "metadata": {},
   "source": [
    "# 6-4. WEAT 구현하기 "
   ]
  },
  {
   "cell_type": "code",
   "execution_count": 1,
   "id": "02ba7f51",
   "metadata": {},
   "outputs": [],
   "source": [
    "import numpy as np\n",
    "from numpy import dot\n",
    "from numpy.linalg import norm"
   ]
  },
  {
   "cell_type": "code",
   "execution_count": 2,
   "id": "8ccf5cad",
   "metadata": {},
   "outputs": [],
   "source": [
    "target_X = {\n",
    "    '장미': [4.1, 1.2, -2.4, 0.5, 4.1],\n",
    "    '튤립': [3.1, 0.5, 3.6, 1.7, 5.8],\n",
    "    '백합': [2.9, -1.3, 0.4, 1.1, 3.7],\n",
    "    '데이지': [5.4, 2.5, 4.6, -1.0, 3.6]\n",
    "}\n",
    "target_Y = {\n",
    "    '거미': [-1.5, 0.2, -0.6, -4.6, -5.3],\n",
    "    '모기': [0.4, 0.7, -1.9, -4.5, -2.9],\n",
    "    '파리': [0.9, 1.4, -2.3, -3.9, -4.7],\n",
    "    '메뚜기': [0.7, 0.9, -0.4, -4.1, -3.9]\n",
    "}\n",
    "attribute_A = {\n",
    "    '사랑':[2.8,  4.2, 4.3,  0.3, 5.0],\n",
    "    '행복':[3.8,  3. , -1.2,  4.4, 4.9],\n",
    "    '웃음':[3.7, -0.3,  1.2, -2.5, 3.9]\n",
    "}\n",
    "attribute_B = {\n",
    "    '재난': [-0.2, -2.8, -4.7, -4.3, -4.7],\n",
    "    '고통': [-4.5, -2.1,  -3.8, -3.6, -3.1],\n",
    "    '증오': [-3.6, -3.3, -3.5,  -3.7, -4.4]\n",
    "}"
   ]
  },
  {
   "cell_type": "code",
   "execution_count": 3,
   "id": "e6c5e55e",
   "metadata": {},
   "outputs": [
    {
     "name": "stdout",
     "output_type": "stream",
     "text": [
      "[[ 4.1  1.2 -2.4  0.5  4.1]\n",
      " [ 3.1  0.5  3.6  1.7  5.8]\n",
      " [ 2.9 -1.3  0.4  1.1  3.7]\n",
      " [ 5.4  2.5  4.6 -1.   3.6]]\n",
      "[[-1.5  0.2 -0.6 -4.6 -5.3]\n",
      " [ 0.4  0.7 -1.9 -4.5 -2.9]\n",
      " [ 0.9  1.4 -2.3 -3.9 -4.7]\n",
      " [ 0.7  0.9 -0.4 -4.1 -3.9]]\n"
     ]
    }
   ],
   "source": [
    "X = np.array([v for v in target_X.values()])\n",
    "Y = np.array([v for v in target_Y.values()])\n",
    "print(X)\n",
    "print(Y)"
   ]
  },
  {
   "cell_type": "code",
   "execution_count": 4,
   "id": "c0293704",
   "metadata": {},
   "outputs": [
    {
     "name": "stdout",
     "output_type": "stream",
     "text": [
      "[[ 2.8  4.2  4.3  0.3  5. ]\n",
      " [ 3.8  3.  -1.2  4.4  4.9]\n",
      " [ 3.7 -0.3  1.2 -2.5  3.9]]\n",
      "[[-0.2 -2.8 -4.7 -4.3 -4.7]\n",
      " [-4.5 -2.1 -3.8 -3.6 -3.1]\n",
      " [-3.6 -3.3 -3.5 -3.7 -4.4]]\n"
     ]
    }
   ],
   "source": [
    "A = np.array([v for v in attribute_A.values()])\n",
    "B = np.array([v for v in attribute_B.values()])\n",
    "print(A)\n",
    "print(B)"
   ]
  },
  {
   "cell_type": "code",
   "execution_count": 5,
   "id": "14a9093d",
   "metadata": {},
   "outputs": [
    {
     "name": "stdout",
     "output_type": "stream",
     "text": [
      "0.6457646122337399\n"
     ]
    }
   ],
   "source": [
    "def cos_sim(i,j):\n",
    "    return dot(i,j.T)/(norm(i)*norm(j))\n",
    "\n",
    "def s(w,A,B):\n",
    "    c_a = cos_sim(w,A)\n",
    "    c_b = cos_sim(w,B)\n",
    "    mean_A = np.mean(c_a,axis=-1)\n",
    "    mean_B = np.mean(c_b,axis=-1)\n",
    "    return mean_A - mean_B\n",
    "\n",
    "print(s(target_X['장미'],A,B))"
   ]
  },
  {
   "cell_type": "code",
   "execution_count": 6,
   "id": "da0086d6",
   "metadata": {},
   "outputs": [
    {
     "name": "stdout",
     "output_type": "stream",
     "text": [
      "-0.794002342033094\n"
     ]
    }
   ],
   "source": [
    "print(s(target_Y['거미'],A,B))"
   ]
  },
  {
   "cell_type": "code",
   "execution_count": 7,
   "id": "5f9a9727",
   "metadata": {},
   "outputs": [
    {
     "name": "stdout",
     "output_type": "stream",
     "text": [
      "[0.29551989 0.51723181 0.26499096 0.50924109]\n"
     ]
    }
   ],
   "source": [
    "print(s(X,A,B))"
   ]
  },
  {
   "cell_type": "code",
   "execution_count": 8,
   "id": "230ed173",
   "metadata": {},
   "outputs": [
    {
     "name": "stdout",
     "output_type": "stream",
     "text": [
      "0.397\n"
     ]
    }
   ],
   "source": [
    "print(round(np.mean(s(X,A,B)),3))"
   ]
  },
  {
   "cell_type": "code",
   "execution_count": 9,
   "id": "70803a90",
   "metadata": {},
   "outputs": [
    {
     "name": "stdout",
     "output_type": "stream",
     "text": [
      "-0.33\n"
     ]
    }
   ],
   "source": [
    "print(round(np.mean(s(Y,A,B)),3))"
   ]
  },
  {
   "cell_type": "code",
   "execution_count": 10,
   "id": "dbb1f0d5",
   "metadata": {},
   "outputs": [
    {
     "name": "stdout",
     "output_type": "stream",
     "text": [
      "1.932\n"
     ]
    }
   ],
   "source": [
    "def weat_score(X,Y,A,B):\n",
    "    s_X = s(X,A,B)\n",
    "    s_Y = s(Y,A,B)\n",
    "    \n",
    "    mean_X = np.mean(s_X)\n",
    "    mean_Y = np.mean(s_Y)\n",
    "    \n",
    "    std_dev = np.std(np.concatenate([s_X,s_Y],axis=0))\n",
    "    \n",
    "    return (mean_X - mean_Y) / std_dev\n",
    "\n",
    "print(round(weat_score(X,Y,A,B),3))"
   ]
  },
  {
   "cell_type": "markdown",
   "id": "3377e025",
   "metadata": {},
   "source": [
    "### 시각적으로 확인해보기 "
   ]
  },
  {
   "cell_type": "code",
   "execution_count": 11,
   "id": "67653b84",
   "metadata": {},
   "outputs": [
    {
     "data": {
      "text/plain": [
       "<matplotlib.collections.PathCollection at 0x7ff317582690>"
      ]
     },
     "execution_count": 11,
     "metadata": {},
     "output_type": "execute_result"
    },
    {
     "data": {
      "image/png": "[encoded data removed]",
      "text/plain": [
       "<Figure size 432x288 with 1 Axes>"
      ]
     },
     "metadata": {
      "needs_background": "light"
     },
     "output_type": "display_data"
    }
   ],
   "source": [
    "from sklearn.decomposition import PCA\n",
    "pca = PCA(n_components=2)\n",
    "pc_A = pca.fit_transform(A)\n",
    "pc_B = pca.fit_transform(B)\n",
    "pc_X = pca.fit_transform(X)\n",
    "pc_Y = pca.fit_transform(Y)\n",
    "\n",
    "import matplotlib.pyplot as plt\n",
    "fig,ax = plt.subplots()\n",
    "ax.scatter(pc_A[:,0],pc_A[:,1],c='blue',label='A')\n",
    "ax.scatter(pc_B[:,0],pc_B[:,1],c='red',label='B')\n",
    "ax.scatter(pc_X[:,0],pc_X[:,1],c='skyblue',label='X')\n",
    "ax.scatter(pc_Y[:,0],pc_Y[:,1],c='pink',label='Y')"
   ]
  },
  {
   "cell_type": "markdown",
   "id": "66e86553",
   "metadata": {},
   "source": [
    "# 6-5. 사전학습된 Word Embedding에 WEAT 적용"
   ]
  },
  {
   "cell_type": "code",
   "execution_count": 12,
   "id": "d5e98f48",
   "metadata": {},
   "outputs": [],
   "source": [
    "model_dir = './data/GoogleNews-vectors-negative300.bin'\n",
    "from gensim.models import KeyedVectors\n",
    "\n",
    "w2v = KeyedVectors.load_word2vec_format(model_dir,binary=True,limit=500000)"
   ]
  },
  {
   "cell_type": "code",
   "execution_count": 13,
   "id": "64136e00",
   "metadata": {},
   "outputs": [
    {
     "data": {
      "text/plain": [
       "<gensim.models.keyedvectors.KeyedVectors at 0x7ff317e53790>"
      ]
     },
     "execution_count": 13,
     "metadata": {},
     "output_type": "execute_result"
    }
   ],
   "source": [
    "w2v"
   ]
  },
  {
   "cell_type": "code",
   "execution_count": 14,
   "id": "abb2ded2",
   "metadata": {},
   "outputs": [
    {
     "name": "stdout",
     "output_type": "stream",
     "text": [
      "500000\n",
      "300\n",
      "(500000, 300)\n"
     ]
    }
   ],
   "source": [
    "print(len(w2v.index_to_key))\n",
    "print(len(w2v['I']))\n",
    "print(w2v.vectors.shape)"
   ]
  },
  {
   "cell_type": "code",
   "execution_count": 15,
   "id": "d21907bd",
   "metadata": {},
   "outputs": [
    {
     "data": {
      "text/plain": [
       "array([-5.18798828e-04,  1.60156250e-01,  1.60980225e-03,  2.53906250e-02,\n",
       "        9.91210938e-02, -8.59375000e-02,  3.24218750e-01, -2.17285156e-02,\n",
       "        1.34765625e-01,  1.10351562e-01, -1.04980469e-01, -2.90527344e-02,\n",
       "       -2.38037109e-02, -4.02832031e-02, -3.68652344e-02,  2.32421875e-01,\n",
       "        3.20312500e-01,  1.01074219e-01,  5.83496094e-02, -2.91824341e-04,\n",
       "       -3.29589844e-02,  2.11914062e-01,  4.32128906e-02, -8.59375000e-02,\n",
       "        2.81250000e-01, -1.78222656e-02,  3.79943848e-03, -1.71875000e-01,\n",
       "        2.06054688e-01, -1.85546875e-01,  3.73535156e-02, -1.21459961e-02,\n",
       "        2.04101562e-01, -3.80859375e-02,  3.61328125e-02, -8.15429688e-02,\n",
       "        8.44726562e-02,  9.37500000e-02,  1.44531250e-01,  7.42187500e-02,\n",
       "        2.51953125e-01, -7.91015625e-02,  8.69140625e-02,  1.58691406e-02,\n",
       "        1.09375000e-01, -2.23632812e-01, -5.15747070e-03,  1.68945312e-01,\n",
       "       -1.36718750e-01, -2.51464844e-02, -3.85742188e-02, -1.33056641e-02,\n",
       "        1.38671875e-01,  1.76757812e-01,  1.10351562e-01,  1.51367188e-01,\n",
       "        7.86132812e-02, -1.69921875e-01,  1.20605469e-01, -4.37500000e-01,\n",
       "       -4.32128906e-02,  1.34765625e-01, -3.45703125e-01,  9.13085938e-02,\n",
       "        4.71191406e-02,  9.66796875e-02, -1.61132812e-02, -4.71191406e-02,\n",
       "       -4.68750000e-02,  1.37695312e-01,  9.96093750e-02,  4.49218750e-02,\n",
       "       -2.49023438e-02,  1.58203125e-01, -3.57421875e-01, -1.21093750e-01,\n",
       "        1.15722656e-01,  9.08203125e-02,  1.40625000e-01,  1.60156250e-01,\n",
       "       -4.42504883e-03,  5.34667969e-02,  2.28515625e-01,  1.88476562e-01,\n",
       "       -3.88183594e-02, -2.53906250e-01, -1.74804688e-01,  9.81445312e-02,\n",
       "        1.08642578e-02,  1.41601562e-01,  7.81250000e-03,  1.36718750e-01,\n",
       "       -2.08007812e-01, -3.41796875e-02, -2.50000000e-01,  1.25976562e-01,\n",
       "        1.57226562e-01,  3.31115723e-03, -1.51367188e-01, -6.98242188e-02,\n",
       "       -1.40625000e-01,  2.06054688e-01, -3.54003906e-02,  1.57226562e-01,\n",
       "        5.83496094e-02, -3.58886719e-02,  2.12890625e-01, -1.13769531e-01,\n",
       "        1.41601562e-01, -1.29394531e-02,  9.13085938e-02, -3.95507812e-02,\n",
       "        9.76562500e-02, -2.69775391e-02,  1.30004883e-02, -1.30859375e-01,\n",
       "        3.32031250e-01, -3.53515625e-01, -5.44433594e-02, -2.50244141e-02,\n",
       "       -1.42578125e-01,  6.49414062e-02,  5.54199219e-02, -4.83398438e-02,\n",
       "       -1.12304688e-01, -1.32812500e-01, -6.73828125e-02, -1.41601562e-01,\n",
       "       -2.05078125e-01, -1.29882812e-01, -1.04003906e-01, -8.10546875e-02,\n",
       "       -1.67968750e-01,  1.63085938e-01, -1.13769531e-01, -5.17578125e-02,\n",
       "        7.61718750e-02,  3.59375000e-01,  1.04003906e-01,  3.59375000e-01,\n",
       "       -8.74023438e-02,  6.54296875e-02, -1.09863281e-02, -1.88476562e-01,\n",
       "       -6.59179688e-02,  2.30468750e-01, -2.96875000e-01,  6.59179688e-03,\n",
       "        1.49414062e-01, -1.73828125e-01,  1.31835938e-01,  2.36328125e-01,\n",
       "       -9.22851562e-02,  1.70898438e-01, -1.70898438e-02,  3.12500000e-02,\n",
       "       -3.37219238e-03,  9.66796875e-02, -2.61718750e-01, -1.84326172e-02,\n",
       "       -1.85546875e-01,  1.24023438e-01,  3.00781250e-01,  2.43164062e-01,\n",
       "        3.06640625e-01, -3.28125000e-01, -5.05371094e-02,  1.01562500e-01,\n",
       "        7.86132812e-02, -1.44531250e-01, -1.25976562e-01, -2.41699219e-02,\n",
       "        2.94921875e-01, -1.50390625e-01, -3.97949219e-02,  2.75390625e-01,\n",
       "        1.26953125e-01, -9.86328125e-02, -1.39648438e-01,  2.52685547e-02,\n",
       "       -8.54492188e-02, -1.72119141e-02,  9.17968750e-02,  1.39648438e-01,\n",
       "       -2.39257812e-01, -2.11914062e-01, -2.21679688e-01,  1.53320312e-01,\n",
       "       -1.58691406e-02, -2.00195312e-01, -2.07519531e-02,  3.58886719e-02,\n",
       "       -6.96629286e-07, -2.13867188e-01,  2.00195312e-01, -1.09375000e-01,\n",
       "       -5.15136719e-02,  6.22558594e-02, -3.22265625e-01, -7.86132812e-02,\n",
       "        5.02929688e-02,  7.08007812e-02,  1.20117188e-01, -1.79687500e-01,\n",
       "        1.59179688e-01, -1.02233887e-03, -3.49609375e-01,  1.25000000e-01,\n",
       "        6.44531250e-02,  8.10546875e-02, -3.39355469e-02,  7.42187500e-02,\n",
       "       -3.08837891e-02, -1.38671875e-01, -3.19824219e-02,  1.99218750e-01,\n",
       "        1.25000000e-01,  5.68847656e-02, -1.67968750e-01,  1.30859375e-01,\n",
       "        2.90527344e-02, -1.49536133e-02, -1.39648438e-01,  4.07714844e-02,\n",
       "       -1.05590820e-02, -1.74804688e-01,  2.12890625e-01, -1.41601562e-01,\n",
       "        2.30712891e-02, -3.36914062e-02, -8.78906250e-02, -6.64062500e-02,\n",
       "       -6.93359375e-02, -7.42187500e-02,  7.03125000e-02, -2.01416016e-02,\n",
       "       -1.26953125e-01, -3.63769531e-02,  5.93261719e-02,  1.18164062e-01,\n",
       "       -6.34765625e-03, -7.42187500e-02,  3.19824219e-02,  6.68945312e-02,\n",
       "       -2.27539062e-01,  6.54296875e-02,  1.79443359e-02,  1.46484375e-01,\n",
       "       -5.49316406e-02, -1.15234375e-01, -2.16796875e-01,  8.74023438e-02,\n",
       "        2.61718750e-01,  1.54296875e-01,  6.71386719e-03, -2.78320312e-02,\n",
       "       -4.15039062e-03, -2.09960938e-02, -5.51757812e-02, -9.76562500e-03,\n",
       "       -1.29882812e-01,  1.31835938e-01, -8.42285156e-03,  2.29492188e-01,\n",
       "        1.78710938e-01,  1.94335938e-01,  4.68750000e-02,  2.18505859e-02,\n",
       "       -2.75878906e-02,  1.73828125e-01,  1.33789062e-01,  1.36718750e-01,\n",
       "        3.10546875e-01,  9.39941406e-03,  9.22851562e-02, -2.44140625e-01,\n",
       "       -5.10253906e-02,  7.81250000e-02, -1.43554688e-01,  9.17968750e-02,\n",
       "        2.96630859e-02,  9.46044922e-03, -2.04101562e-01,  1.60156250e-01,\n",
       "        1.43554688e-01, -2.02636719e-02,  2.13623047e-02, -6.98242188e-02,\n",
       "       -3.11279297e-03, -2.52685547e-02, -1.09863281e-01,  1.07910156e-01,\n",
       "       -7.03125000e-02, -1.27929688e-01, -5.07812500e-02,  4.27246094e-02,\n",
       "       -7.32421875e-02, -3.54003906e-02,  8.88671875e-02, -3.02734375e-01],\n",
       "      dtype=float32)"
      ]
     },
     "execution_count": 15,
     "metadata": {},
     "output_type": "execute_result"
    }
   ],
   "source": [
    "w2v['happy']"
   ]
  },
  {
   "cell_type": "code",
   "execution_count": 16,
   "id": "37f5631b",
   "metadata": {},
   "outputs": [
    {
     "data": {
      "text/plain": [
       "[('glad', 0.7408890724182129),\n",
       " ('pleased', 0.6632170677185059),\n",
       " ('ecstatic', 0.6626912355422974),\n",
       " ('overjoyed', 0.6599286794662476),\n",
       " ('thrilled', 0.6514049172401428),\n",
       " ('satisfied', 0.6437949538230896),\n",
       " ('proud', 0.636042058467865),\n",
       " ('delighted', 0.627237856388092),\n",
       " ('disappointed', 0.6269949674606323),\n",
       " ('excited', 0.6247665286064148)]"
      ]
     },
     "execution_count": 16,
     "metadata": {},
     "output_type": "execute_result"
    }
   ],
   "source": [
    "w2v.most_similar(positive=['happy'])"
   ]
  },
  {
   "cell_type": "code",
   "execution_count": 17,
   "id": "2e78c73f",
   "metadata": {},
   "outputs": [
    {
     "data": {
      "text/plain": [
       "[('relatives', 0.6662653088569641),\n",
       " ('familiy', 0.6517067551612854),\n",
       " ('families', 0.6252894997596741),\n",
       " ('siblings', 0.6140849590301514),\n",
       " ('friends', 0.6128394603729248),\n",
       " ('mother', 0.6065612435340881),\n",
       " ('aunt', 0.5811319947242737),\n",
       " ('grandparents', 0.5762072205543518),\n",
       " ('father', 0.5717043876647949),\n",
       " ('Family', 0.5672314763069153)]"
      ]
     },
     "execution_count": 17,
     "metadata": {},
     "output_type": "execute_result"
    }
   ],
   "source": [
    "w2v.most_similar(positive=['family'])"
   ]
  },
  {
   "cell_type": "code",
   "execution_count": 18,
   "id": "7764b904",
   "metadata": {},
   "outputs": [
    {
     "data": {
      "text/plain": [
       "[('elementary', 0.7868632078170776),\n",
       " ('schools', 0.7411909103393555),\n",
       " ('elementary_schools', 0.6597153544425964),\n",
       " ('kindergarten', 0.6529811024665833),\n",
       " ('eighth_grade', 0.6488089561462402),\n",
       " ('School', 0.6477997303009033),\n",
       " ('teacher', 0.63824063539505),\n",
       " ('students', 0.6301522850990295),\n",
       " ('classroom', 0.6281620264053345),\n",
       " ('Schools', 0.6172096133232117)]"
      ]
     },
     "execution_count": 18,
     "metadata": {},
     "output_type": "execute_result"
    }
   ],
   "source": [
    "w2v.most_similar(positive=['school'])"
   ]
  },
  {
   "cell_type": "code",
   "execution_count": 19,
   "id": "0c81ae31",
   "metadata": {},
   "outputs": [
    {
     "data": {
      "text/plain": [
       "1.2624874"
      ]
     },
     "execution_count": 19,
     "metadata": {},
     "output_type": "execute_result"
    }
   ],
   "source": [
    "target_X = ['science', 'technology', 'physics', 'chemistry', 'Einstein', 'NASA', 'experiment', 'astronomy']\n",
    "target_Y = ['poetry', 'art', 'Shakespeare', 'dance', 'literature', 'novel', 'symphony', 'drama']\n",
    "attribute_A = ['brother', 'father', 'uncle', 'grandfather', 'son', 'he', 'his', 'him']\n",
    "attribute_B = ['sister', 'mother', 'aunt', 'grandmother', 'daughter', 'she', 'hers', 'her']\n",
    "\n",
    "X = np.array([w2v[word] for word in target_X])\n",
    "Y = np.array([w2v[word] for word in target_Y])\n",
    "A = np.array([w2v[word] for word in attribute_A])\n",
    "B = np.array([w2v[word] for word in attribute_B])\n",
    "\n",
    "weat_score(X, Y, A, B)"
   ]
  },
  {
   "cell_type": "code",
   "execution_count": 20,
   "id": "997be441",
   "metadata": {},
   "outputs": [
    {
     "data": {
      "text/plain": [
       "1.6909266"
      ]
     },
     "execution_count": 20,
     "metadata": {},
     "output_type": "execute_result"
    }
   ],
   "source": [
    "target_X = ['pizza', 'coke', 'hamburger', 'ham', 'ramen', 'icecream', 'candy']\n",
    "target_Y = ['salad', 'fruit', 'vegetable', 'herb', 'root', 'greens', 'wholesome']\n",
    "attribute_A = ['junk', 'canned', 'convenience', 'frozen', 'fast']\n",
    "attribute_B = ['health', 'beneficial', 'good', 'nourishing', 'nutritious']\n",
    "\n",
    "X = np.array([w2v[word] for word in target_X])\n",
    "Y = np.array([w2v[word] for word in target_Y])\n",
    "A = np.array([w2v[word] for word in attribute_A])\n",
    "B = np.array([w2v[word] for word in attribute_B])\n",
    "\n",
    "weat_score(X, Y, A, B)"
   ]
  },
  {
   "cell_type": "code",
   "execution_count": 21,
   "id": "efc6b537",
   "metadata": {},
   "outputs": [
    {
     "data": {
      "text/plain": [
       "-0.05137869"
      ]
     },
     "execution_count": 21,
     "metadata": {},
     "output_type": "execute_result"
    }
   ],
   "source": [
    "target_X = ['pizza', 'coke', 'hamburger', 'ham', 'ramen', 'icecream', 'candy']\n",
    "target_Y = ['salad', 'fruit', 'vegetable', 'herb', 'root', 'greens', 'wholesome']\n",
    "attribute_A = ['book', 'essay', 'dictionary', 'magazine', 'novel']\n",
    "attribute_B = ['news', 'report', 'statement', 'broadcast', 'word']\n",
    "\n",
    "X = np.array([w2v[word] for word in target_X])\n",
    "Y = np.array([w2v[word] for word in target_Y])\n",
    "A = np.array([w2v[word] for word in attribute_A])\n",
    "B = np.array([w2v[word] for word in attribute_B])\n",
    "\n",
    "weat_score(X, Y, A, B)"
   ]
  },
  {
   "cell_type": "code",
   "execution_count": 22,
   "id": "d552316c",
   "metadata": {},
   "outputs": [
    {
     "data": {
      "text/plain": [
       "0.4825992"
      ]
     },
     "execution_count": 22,
     "metadata": {},
     "output_type": "execute_result"
    }
   ],
   "source": [
    "target_X = [\"history\",\"origin\",'legend',\"modern\",\"historical\"]\n",
    "target_Y = [\"detail\",'sensitive','accurate','careful','selfless']\n",
    "attribute_A = ['brother', 'father', 'uncle', 'grandfather', 'son', 'he', 'his', 'him']\n",
    "attribute_B = ['sister', 'mother', 'aunt', 'grandmother', 'daughter', 'she', 'hers', 'her']\n",
    "\n",
    "X = np.array([w2v[word] for word in target_X])\n",
    "Y = np.array([w2v[word] for word in target_Y])\n",
    "A = np.array([w2v[word] for word in attribute_A])\n",
    "B = np.array([w2v[word] for word in attribute_B])\n",
    "\n",
    "weat_score(X, Y, A, B)"
   ]
  },
  {
   "cell_type": "code",
   "execution_count": 23,
   "id": "04802653",
   "metadata": {},
   "outputs": [
    {
     "name": "stdout",
     "output_type": "stream",
     "text": [
      "삭제 완료\n"
     ]
    }
   ],
   "source": [
    "#메모리를 다시 비워줍시다.\n",
    "del w2v\n",
    "print(\"삭제 완료\")"
   ]
  },
  {
   "cell_type": "markdown",
   "id": "054f2f00",
   "metadata": {},
   "source": [
    "# 6-6. 직접 만드는 Word Embedding에 WEAT 적용(1)"
   ]
  },
  {
   "cell_type": "markdown",
   "id": "41727e19",
   "metadata": {},
   "source": [
    "### 형태소 분석기를 이용하여 품사가 명사인 경우, 해당 단어를 추출하기"
   ]
  },
  {
   "cell_type": "code",
   "execution_count": 24,
   "id": "39f78a80",
   "metadata": {},
   "outputs": [
    {
     "name": "stdout",
     "output_type": "stream",
     "text": [
      "[('사운드', 'Noun'), ('엔지니어', 'Noun'), ('상우', 'Noun'), ('(', 'Punctuation'), ('유지태', 'Noun'), ('분', 'Noun'), (')', 'Punctuation'), ('늘다', 'Verb'), ('치매', 'Noun'), ('에', 'Josa'), ('걸리다', 'Verb'), ('할머니', 'Noun'), ('(', 'Punctuation'), ('백성희', 'Noun'), ('분', 'Noun'), (')', 'Punctuation'), ('오다', 'Verb'), ('\\n', 'Foreign')]\n"
     ]
    }
   ],
   "source": [
    "import os\n",
    "from konlpy.tag import Okt\n",
    "okt = Okt()\n",
    "with open(\"./data/synopsis/synopsis.txt\",'r') as file:\n",
    "    for i in range(1):\n",
    "        line = file.readline()\n",
    "        word = okt.pos(line,stem=True,norm=True)\n",
    "        print(word)\n",
    "        #print(file.readline(),end='')\n",
    "        "
   ]
  },
  {
   "cell_type": "code",
   "execution_count": 25,
   "id": "b4079136",
   "metadata": {},
   "outputs": [
    {
     "name": "stdout",
     "output_type": "stream",
     "text": [
      "슝~\n"
     ]
    }
   ],
   "source": [
    "from konlpy.tag import Okt\n",
    "okt = Okt()\n",
    "tokenized = []\n",
    "with open(\"./data/synopsis/synopsis.txt\",'r') as file:\n",
    "    while True:\n",
    "        line = file.readline()\n",
    "        if not line: break\n",
    "        words = okt.pos(line, stem=True, norm=True)\n",
    "        res = []\n",
    "        for w in words:\n",
    "            if w[1] in [\"Noun\"]:      # \"Adjective\", \"Verb\" 등을 포함할 수도 있습니다.\n",
    "                res.append(w[0])    # 명사일 때만 tokenized 에 저장하게 됩니다. \n",
    "        tokenized.append(res)\n",
    "\n",
    "print(\"슝~\")"
   ]
  },
  {
   "cell_type": "code",
   "execution_count": 26,
   "id": "3bbc7de2",
   "metadata": {},
   "outputs": [
    {
     "name": "stdout",
     "output_type": "stream",
     "text": [
      "71156\n"
     ]
    }
   ],
   "source": [
    "print(len(tokenized))"
   ]
  },
  {
   "cell_type": "code",
   "execution_count": 27,
   "id": "db9461dc",
   "metadata": {},
   "outputs": [
    {
     "data": {
      "text/plain": [
       "[['사운드', '엔지니어', '상우', '유지태', '분', '치매', '할머니', '백성희', '분'],\n",
       " ['시절', '상처', '아버지', '박인환', '분', '고모', '신신애', '분', '살'],\n",
       " ['겨울', '그', '지방', '방송국', '라디오', '은수', '이영애', '분', '를']]"
      ]
     },
     "execution_count": 27,
     "metadata": {},
     "output_type": "execute_result"
    }
   ],
   "source": [
    "tokenized[:3]\n",
    "#명사만 골라서 토큰으로 만들었다. "
   ]
  },
  {
   "cell_type": "markdown",
   "id": "a607be42",
   "metadata": {},
   "source": [
    "### 추출된 결과로 embedding model 만들기"
   ]
  },
  {
   "cell_type": "code",
   "execution_count": 28,
   "id": "ff36f429",
   "metadata": {},
   "outputs": [
    {
     "data": {
      "text/plain": [
       "[('작품', 0.8832857608795166),\n",
       " ('다큐멘터리', 0.8551143407821655),\n",
       " ('드라마', 0.8190868496894836),\n",
       " ('영화로', 0.8055230975151062),\n",
       " ('차이밍량', 0.7864207029342651),\n",
       " ('형식', 0.7813020944595337),\n",
       " ('코미디', 0.77657151222229),\n",
       " ('주제', 0.7721237540245056),\n",
       " ('소재', 0.7712924480438232),\n",
       " ('스토리', 0.7644290924072266)]"
      ]
     },
     "execution_count": 28,
     "metadata": {},
     "output_type": "execute_result"
    }
   ],
   "source": [
    "from gensim.models import Word2Vec\n",
    "\n",
    "model = Word2Vec(tokenized,vector_size=100,window=5,min_count=3,sg=0)\n",
    "model.wv.most_similar(positive=['영화'])"
   ]
  },
  {
   "cell_type": "code",
   "execution_count": 29,
   "id": "8653a4c1",
   "metadata": {},
   "outputs": [
    {
     "data": {
      "text/plain": [
       "[('첫사랑', 0.7006891965866089),\n",
       " ('하은', 0.689112663269043),\n",
       " ('행복', 0.6783649921417236),\n",
       " ('진심', 0.6775755286216736),\n",
       " ('덕훈', 0.670796275138855),\n",
       " ('만인', 0.670369565486908),\n",
       " ('연애', 0.6652839183807373),\n",
       " ('이별', 0.6621940732002258),\n",
       " ('만남', 0.6548107266426086),\n",
       " ('가슴', 0.6532548069953918)]"
      ]
     },
     "execution_count": 29,
     "metadata": {},
     "output_type": "execute_result"
    }
   ],
   "source": [
    "model.wv.most_similar(positive=['사랑'])"
   ]
  },
  {
   "cell_type": "code",
   "execution_count": 30,
   "id": "4451cbd1",
   "metadata": {},
   "outputs": [
    {
     "data": {
      "text/plain": [
       "[('시나리오', 0.8982678055763245),\n",
       " ('영화감독', 0.8927478194236755),\n",
       " ('영감', 0.8866177797317505),\n",
       " ('배우', 0.8840557932853699),\n",
       " ('각색', 0.8740944862365723),\n",
       " ('예술', 0.8638562560081482),\n",
       " ('캐스팅', 0.8638441562652588),\n",
       " ('영화로', 0.8616122603416443),\n",
       " ('공연', 0.8605164885520935),\n",
       " ('예술가', 0.8531793355941772)]"
      ]
     },
     "execution_count": 30,
     "metadata": {},
     "output_type": "execute_result"
    }
   ],
   "source": [
    "model.wv.most_similar(positive=['연극'])\n",
    "#선택한 단어와 유사한 단어 뽑아내기 "
   ]
  },
  {
   "cell_type": "markdown",
   "id": "c4aae160",
   "metadata": {},
   "source": [
    "### TF/IDF로 해당 데이터를 가장 잘 표현하는 단어 셋 만들기"
   ]
  },
  {
   "cell_type": "code",
   "execution_count": 31,
   "id": "41f78460",
   "metadata": {},
   "outputs": [
    {
     "name": "stdout",
     "output_type": "stream",
     "text": [
      "슝~\n"
     ]
    }
   ],
   "source": [
    "import os\n",
    "from sklearn.feature_extraction.text import TfidfVectorizer\n",
    "import numpy as np\n",
    "from konlpy.tag import Okt\n",
    "\n",
    "art_txt = 'synopsis_art.txt'\n",
    "gen_txt = 'synopsis_gen.txt'\n",
    "\n",
    "def read_token(file_name):\n",
    "    okt = Okt()\n",
    "    result = []\n",
    "    with open('./data/synopsis/'+file_name, 'r') as fread: \n",
    "        print(file_name, '파일을 읽고 있습니다.')\n",
    "        while True:\n",
    "            line = fread.readline() \n",
    "            if not line: break \n",
    "            tokenlist = okt.pos(line, stem=True, norm=True) \n",
    "            for word in tokenlist:\n",
    "                if word[1] in [\"Noun\"]:#, \"Adjective\", \"Verb\"]:\n",
    "                    result.append((word[0])) \n",
    "    return ' '.join(result)\n",
    "\n",
    "print(\"슝~\")"
   ]
  },
  {
   "cell_type": "code",
   "execution_count": 32,
   "id": "37606757",
   "metadata": {},
   "outputs": [
    {
     "name": "stdout",
     "output_type": "stream",
     "text": [
      "synopsis_art.txt 파일을 읽고 있습니다.\n",
      "synopsis_gen.txt 파일을 읽고 있습니다.\n"
     ]
    }
   ],
   "source": [
    "art = read_token(art_txt)\n",
    "gen = read_token(gen_txt)"
   ]
  },
  {
   "cell_type": "code",
   "execution_count": 33,
   "id": "f7a151b0",
   "metadata": {},
   "outputs": [
    {
     "name": "stdout",
     "output_type": "stream",
     "text": [
      "사운드 엔지니어 상우 유지태 분 치매 할머니 백성희 분 시절 상처 아버지 박인환 분 고모 신신애 분 살 겨울 그 지방 방송국 라디오 은수 이영애 분 를 자연 소리 채집 라디오 프로\n"
     ]
    }
   ],
   "source": [
    "print(art[:100])"
   ]
  },
  {
   "cell_type": "code",
   "execution_count": 35,
   "id": "294007b4",
   "metadata": {},
   "outputs": [
    {
     "data": {
      "text/html": [
       "<div>\n",
       "<style scoped>\n",
       "    .dataframe tbody tr th:only-of-type {\n",
       "        vertical-align: middle;\n",
       "    }\n",
       "\n",
       "    .dataframe tbody tr th {\n",
       "        vertical-align: top;\n",
       "    }\n",
       "\n",
       "    .dataframe thead th {\n",
       "        text-align: right;\n",
       "    }\n",
       "</style>\n",
       "<table border=\"1\" class=\"dataframe\">\n",
       "  <thead>\n",
       "    <tr style=\"text-align: right;\">\n",
       "      <th></th>\n",
       "      <th>0</th>\n",
       "      <th>1</th>\n",
       "      <th>2</th>\n",
       "      <th>3</th>\n",
       "      <th>4</th>\n",
       "      <th>5</th>\n",
       "      <th>6</th>\n",
       "      <th>7</th>\n",
       "      <th>8</th>\n",
       "      <th>9</th>\n",
       "      <th>...</th>\n",
       "      <th>41072</th>\n",
       "      <th>41073</th>\n",
       "      <th>41074</th>\n",
       "      <th>41075</th>\n",
       "      <th>41076</th>\n",
       "      <th>41077</th>\n",
       "      <th>41078</th>\n",
       "      <th>41079</th>\n",
       "      <th>41080</th>\n",
       "      <th>41081</th>\n",
       "    </tr>\n",
       "  </thead>\n",
       "  <tbody>\n",
       "    <tr>\n",
       "      <th>0</th>\n",
       "      <td>0.000000</td>\n",
       "      <td>0.000363</td>\n",
       "      <td>0.000000</td>\n",
       "      <td>0.000363</td>\n",
       "      <td>0.016684</td>\n",
       "      <td>0.000907</td>\n",
       "      <td>0.000181</td>\n",
       "      <td>0.000000</td>\n",
       "      <td>0.000181</td>\n",
       "      <td>0.000000</td>\n",
       "      <td>...</td>\n",
       "      <td>0.000255</td>\n",
       "      <td>0.000181</td>\n",
       "      <td>0.000000</td>\n",
       "      <td>0.000181</td>\n",
       "      <td>0.000000</td>\n",
       "      <td>0.000000</td>\n",
       "      <td>0.001813</td>\n",
       "      <td>0.000000</td>\n",
       "      <td>0.000255</td>\n",
       "      <td>0.000000</td>\n",
       "    </tr>\n",
       "    <tr>\n",
       "      <th>1</th>\n",
       "      <td>0.001498</td>\n",
       "      <td>0.000076</td>\n",
       "      <td>0.000053</td>\n",
       "      <td>0.000343</td>\n",
       "      <td>0.019941</td>\n",
       "      <td>0.001066</td>\n",
       "      <td>0.000038</td>\n",
       "      <td>0.000053</td>\n",
       "      <td>0.000304</td>\n",
       "      <td>0.000053</td>\n",
       "      <td>...</td>\n",
       "      <td>0.000000</td>\n",
       "      <td>0.000076</td>\n",
       "      <td>0.000107</td>\n",
       "      <td>0.000228</td>\n",
       "      <td>0.000053</td>\n",
       "      <td>0.000053</td>\n",
       "      <td>0.001104</td>\n",
       "      <td>0.000053</td>\n",
       "      <td>0.000000</td>\n",
       "      <td>0.000053</td>\n",
       "    </tr>\n",
       "  </tbody>\n",
       "</table>\n",
       "<p>2 rows × 41082 columns</p>\n",
       "</div>"
      ],
      "text/plain": [
       "      0         1         2         3         4         5         6      \\\n",
       "0  0.000000  0.000363  0.000000  0.000363  0.016684  0.000907  0.000181   \n",
       "1  0.001498  0.000076  0.000053  0.000343  0.019941  0.001066  0.000038   \n",
       "\n",
       "      7         8         9      ...     41072     41073     41074     41075  \\\n",
       "0  0.000000  0.000181  0.000000  ...  0.000255  0.000181  0.000000  0.000181   \n",
       "1  0.000053  0.000304  0.000053  ...  0.000000  0.000076  0.000107  0.000228   \n",
       "\n",
       "      41076     41077     41078     41079     41080     41081  \n",
       "0  0.000000  0.000000  0.001813  0.000000  0.000255  0.000000  \n",
       "1  0.000053  0.000053  0.001104  0.000053  0.000000  0.000053  \n",
       "\n",
       "[2 rows x 41082 columns]"
      ]
     },
     "execution_count": 35,
     "metadata": {},
     "output_type": "execute_result"
    }
   ],
   "source": [
    "import pandas as pd\n",
    "vectorizer = TfidfVectorizer(smooth_idf=True) \n",
    "X = vectorizer.fit_transform([art,gen])\n",
    "tfidf_ = pd.DataFrame(X.toarray()) #데이터프레임으로 표현하기 \n",
    "tfidf_\n",
    "\n",
    "#사실 lsa를 이용하려고 했었는데 지금은 문서가 2개밖에 없어서 토픽 모델링이 제대로 안되지 않을까?"
   ]
  },
  {
   "cell_type": "markdown",
   "id": "ddf699b8",
   "metadata": {},
   "source": [
    "# TF-IDF는 기본적으로 단어의 빈도 수를 이용한 수치화 방법이기 때문에 단어의 의미를 고려하지 못한다는 단점이 있었습니다.\n",
    "-> lsa 이용해서 단어의 의미를 고려해서 단어셋 선정하기(로 하려고 했으나 그냥 tf-idf 이용하라고 하네요...)\n",
    "tf-idf는 dtm을 기반으로 다른 문서에서는 자주 보이지 않고 해당 문서에서만 자주 나오는 단어를 뽑아낼 수 있다고 하는데 이건 의미적으로 이 단어가 이 문서에서 제일 중요하다고 말할수는 없지 않을까요?\n",
    "nlp를 통해서 상위의 개념을 추출할 수는 없을까요? "
   ]
  },
  {
   "cell_type": "code",
   "execution_count": 36,
   "id": "f6f4e824",
   "metadata": {},
   "outputs": [
    {
     "name": "stdout",
     "output_type": "stream",
     "text": [
      "23976\n",
      "영화\n"
     ]
    },
    {
     "name": "stderr",
     "output_type": "stream",
     "text": [
      "/Users/songye/opt/anaconda3/envs/aiffel/lib/python3.7/site-packages/sklearn/utils/deprecation.py:87: FutureWarning: Function get_feature_names is deprecated; get_feature_names is deprecated in 1.0 and will be removed in 1.2. Please use get_feature_names_out instead.\n",
      "  warnings.warn(msg, category=FutureWarning)\n"
     ]
    }
   ],
   "source": [
    "print(vectorizer.vocabulary_['영화'])\n",
    "print(vectorizer.get_feature_names()[23976])"
   ]
  },
  {
   "cell_type": "code",
   "execution_count": 37,
   "id": "4082730c",
   "metadata": {},
   "outputs": [
    {
     "name": "stdout",
     "output_type": "stream",
     "text": [
      "  (0, 24288)\t0.0001813433827312183\n",
      "  (0, 30456)\t0.0001813433827312183\n",
      "  (0, 11824)\t0.00025487179701503193\n",
      "  (0, 20957)\t0.00025487179701503193\n",
      "  (0, 23539)\t0.0001813433827312183\n",
      "  (0, 15055)\t0.0005440301481936549\n",
      "  (0, 22947)\t0.00025487179701503193\n",
      "  (0, 19974)\t0.0001813433827312183\n",
      "  (0, 22314)\t0.0001813433827312183\n",
      "  (0, 36911)\t0.0005097435940300639\n",
      "  (0, 36545)\t0.0001813433827312183\n",
      "  (0, 16222)\t0.00025487179701503193\n",
      "  (0, 870)\t0.0001813433827312183\n",
      "  (0, 10861)\t0.0001813433827312183\n",
      "  (0, 22324)\t0.0001813433827312183\n",
      "  (0, 5551)\t0.0001813433827312183\n",
      "  (0, 14795)\t0.0001813433827312183\n",
      "  (0, 17245)\t0.0001813433827312183\n",
      "  (0, 7774)\t0.0001813433827312183\n",
      "  (0, 36535)\t0.00025487179701503193\n",
      "  (0, 6081)\t0.0001813433827312183\n",
      "  (0, 17587)\t0.0001813433827312183\n",
      "  (0, 33441)\t0.0001813433827312183\n",
      "  (0, 23952)\t0.0001813433827312183\n",
      "  (0, 3794)\t0.0007646153910450958\n",
      "  :\t:\n",
      "  (0, 5484)\t0.0023574639755058377\n",
      "  (0, 30736)\t0.03717539345989975\n",
      "  (0, 37858)\t0.00743507869197995\n",
      "  (0, 32086)\t0.0003626867654624366\n",
      "  (0, 18416)\t0.0148701573839599\n",
      "  (0, 28257)\t0.010155229432948224\n",
      "  (0, 27166)\t0.0001813433827312183\n",
      "  (0, 26500)\t0.0010880602963873097\n",
      "  (0, 8220)\t0.0063470183955926405\n",
      "  (0, 13322)\t0.0027201507409682743\n",
      "  (0, 31138)\t0.0063470183955926405\n",
      "  (0, 1222)\t0.010336572815679443\n",
      "  (0, 20672)\t0.00025487179701503193\n",
      "  (0, 1682)\t0.0029014941236994926\n",
      "  (0, 12890)\t0.0003626867654624366\n",
      "  (0, 21403)\t0.09502393255115839\n",
      "  (0, 17008)\t0.03082837506430711\n",
      "  (0, 20436)\t0.02756419417514518\n",
      "  (0, 13570)\t0.0001813433827312183\n",
      "  (0, 38818)\t0.03064703168157589\n",
      "  (0, 33282)\t0.004533584568280458\n",
      "  (0, 26211)\t0.0003626867654624366\n",
      "  (0, 16979)\t0.003989554420086802\n",
      "  (0, 23276)\t0.0007253735309248732\n",
      "  (0, 16393)\t0.002538807358237056\n",
      "예술영화를 대표하는 단어들 : \n",
      "그녀,자신,시작,위해,사랑,사람,영화,친구,남자,가족,이야기,마을,사건,마음,세상,아버지,아이,엄마,모든,여자,대한,서로,과연,다시,시간,아들,소녀,아내,다른,사이,영화제,세계,사실,하나,점점,남편,감독,여행,인생,발견,모두,순간,우리,가장,마지막,생활,아빠,모습,통해,죽음,기억,비밀,학교,음악,한편,소년,생각,도시,명의,사고,결혼,전쟁,때문,위기,이제,최고,이자,과거,일상,경찰,상황,간다,미국,결심,운명,현실,관계,지금,단편,여인,하루,이름,이후,준비,인간,감정,만난,국제,처음,충격,살인,누구,동안,존재,그린,어머니,연인,계속,동생,작품,\n",
      "\n",
      "일반영화를 대표하는 단어들 : \n",
      "자신, 그녀, 영화제, 위해, 사람, 시작, 국제, 영화, 친구, 사랑, 남자, 이야기, 대한, 서울, 여자, 사건, 남편, 아이, 가족, 아버지, 다른, 마을, 시간, 엄마, 아들, 모든, 단편, 마음, 사실, 다시, 세계, 모습, 작품, 통해, 생각, 서로, 세상, 발견, 감독, 아내, 관계, 소녀, 사이, 하나, 우리, 애니메이션, 때문, 여성, 죽음, 과연, 점점, 인간, 생활, 한편, 결혼, 상황, 모두, 기억, 명의, 소년, 여행, 가장, 간다, 순간, 이제, 도시, 비밀, 학교, 과거, 가지, 이자, 경찰, 마지막, 미국, 동안, 전쟁, 주인공, 대해, 존재, 현실, 연출, 사고, 살인, 일상, 어머니, 계속, 사회, 인생, 다큐멘터리, 부문, 섹스, 최고, 바로, 동생, 의도, 하루, 위기, 계획, 정체, 한국, "
     ]
    }
   ],
   "source": [
    "m1 = X[0].tocoo()\n",
    "print(m1)\n",
    "m2 = X[1].tocoo()\n",
    "\n",
    "w1 = [[i,j] for i,j in zip(m1.col,m1.data)]\n",
    "w2 = [[i,j] for i,j in zip(m2.col,m2.data)]\n",
    "\n",
    "w1.sort(key=lambda x : x[1],reverse=True)\n",
    "w2.sort(key=lambda x : x[1],reverse=True)\n",
    "\n",
    "print(\"예술영화를 대표하는 단어들 : \") #어떻게 대표할 수 있을까? 이걸 대표한다고 말해도 되는건가?\n",
    "for i in range(100):\n",
    "    print(vectorizer.get_feature_names() [w1[i][0]],end=',')\n",
    "    \n",
    "print('\\n')\n",
    "print(\"일반영화를 대표하는 단어들 : \")\n",
    "for i in range(100):\n",
    "    print(vectorizer.get_feature_names()[w2[i][0]], end=', ')"
   ]
  },
  {
   "cell_type": "code",
   "execution_count": 38,
   "id": "da1dfcaa",
   "metadata": {},
   "outputs": [],
   "source": [
    "#위에서 뽑은 100개의 단어 중에서 중복을 제거하고 15개의 단어를 선택하는 과정\n",
    "n = 15\n",
    "w1_, w2_ = [], []\n",
    "for i in range(100):\n",
    "    w1_.append(vectorizer.get_feature_names()[w1[i][0]])\n",
    "    w2_.append(vectorizer.get_feature_names()[w2[i][0]])\n",
    "\n",
    "# w1에만 있고 w2에는 없는, 예술영화를 잘 대표하는 단어를 15개 추출한다.\n",
    "target_art, target_gen = [], []\n",
    "for i in range(100):\n",
    "    if (w1_[i] not in w2_) and (w1_[i] in model.wv): target_art.append(w1_[i])\n",
    "    if len(target_art) == n: break \n",
    "\n",
    "# w2에만 있고 w1에는 없는, 일반영화를 잘 대표하는 단어를 15개 추출한다.\n",
    "for i in range(100):\n",
    "    if (w2_[i] not in w1_) and (w2_[i] in model.wv): target_gen.append(w2_[i])\n",
    "    if len(target_gen) == n: break"
   ]
  },
  {
   "cell_type": "code",
   "execution_count": 39,
   "id": "c3b1c56b",
   "metadata": {},
   "outputs": [
    {
     "name": "stdout",
     "output_type": "stream",
     "text": [
      "['아빠', '음악', '결심', '운명', '지금', '여인', '이름', '이후', '준비', '감정', '만난', '처음', '충격', '누구', '그린']\n",
      "['서울', '애니메이션', '여성', '가지', '주인공', '대해', '연출', '사회', '다큐멘터리', '부문', '섹스', '바로', '의도', '계획', '정체']\n"
     ]
    }
   ],
   "source": [
    "print(target_art)\n",
    "print(target_gen)"
   ]
  },
  {
   "cell_type": "code",
   "execution_count": null,
   "id": "288ed80d",
   "metadata": {},
   "outputs": [],
   "source": [
    "target_art = ['음악','결심','운명','지금','이후']\n",
    "target_gen = ['여성','주인공','사회','계획','정체']"
   ]
  },
  {
   "cell_type": "code",
   "execution_count": 44,
   "id": "5843b87f",
   "metadata": {},
   "outputs": [],
   "source": [
    "genre_txt = ['synopsis_action.txt', 'synopsis_adult.txt', 'synopsis_adventure.txt', 'synopsis_animation.txt', 'synopsis_comedy.txt', 'synopsis_crime.txt','synopsis_documentary.txt','synopsis_drama.txt','synopsis_etc.txt','synopsis_family.txt','synopsis_fantasy.txt','synopsis_historical.txt','synopsis_horror.txt','synopsis_musical.txt','synopsis_mystery.txt','synopsis_romance.txt','synopsis_SF.txt','synopsis_show.txt','synopsis_thriller.txt','synopsis_war.txt','synopsis_western.txt']\n",
    "genre_name = ['액션', '성인','모험','애니메이션','코메디','범죄','다큐멘터리','드라마','기타','가족','판타지','역사','호러','뮤지컬','미스테리','로맨스','SF','쇼','스릴러','전쟁','서부극']"
   ]
  },
  {
   "cell_type": "code",
   "execution_count": 45,
   "id": "18e16642",
   "metadata": {},
   "outputs": [
    {
     "name": "stderr",
     "output_type": "stream",
     "text": [
      "\r",
      "  0%|                                                                                                                   | 0/21 [00:00<?, ?it/s]"
     ]
    },
    {
     "name": "stdout",
     "output_type": "stream",
     "text": [
      "synopsis_action.txt 파일을 읽고 있습니다.\n"
     ]
    },
    {
     "name": "stderr",
     "output_type": "stream",
     "text": [
      "\r",
      "  5%|█████                                                                                                      | 1/21 [00:57<19:14, 57.70s/it]"
     ]
    },
    {
     "name": "stdout",
     "output_type": "stream",
     "text": [
      "synopsis_adult.txt 파일을 읽고 있습니다.\n"
     ]
    },
    {
     "name": "stderr",
     "output_type": "stream",
     "text": [
      "\r",
      " 10%|██████████▏                                                                                                | 2/21 [01:24<12:35, 39.75s/it]"
     ]
    },
    {
     "name": "stdout",
     "output_type": "stream",
     "text": [
      "synopsis_adventure.txt 파일을 읽고 있습니다.\n"
     ]
    },
    {
     "name": "stderr",
     "output_type": "stream",
     "text": [
      "\r",
      " 14%|███████████████▎                                                                                           | 3/21 [01:29<07:10, 23.93s/it]"
     ]
    },
    {
     "name": "stdout",
     "output_type": "stream",
     "text": [
      "synopsis_animation.txt 파일을 읽고 있습니다.\n"
     ]
    },
    {
     "name": "stderr",
     "output_type": "stream",
     "text": [
      "\r",
      " 19%|████████████████████▍                                                                                      | 4/21 [02:39<11:51, 41.87s/it]"
     ]
    },
    {
     "name": "stdout",
     "output_type": "stream",
     "text": [
      "synopsis_comedy.txt 파일을 읽고 있습니다.\n"
     ]
    },
    {
     "name": "stderr",
     "output_type": "stream",
     "text": [
      "\r",
      " 24%|█████████████████████████▍                                                                                 | 5/21 [03:34<12:29, 46.83s/it]"
     ]
    },
    {
     "name": "stdout",
     "output_type": "stream",
     "text": [
      "synopsis_crime.txt 파일을 읽고 있습니다.\n"
     ]
    },
    {
     "name": "stderr",
     "output_type": "stream",
     "text": [
      "\r",
      " 29%|██████████████████████████████▌                                                                            | 6/21 [03:51<09:06, 36.42s/it]"
     ]
    },
    {
     "name": "stdout",
     "output_type": "stream",
     "text": [
      "synopsis_documentary.txt 파일을 읽고 있습니다.\n"
     ]
    },
    {
     "name": "stderr",
     "output_type": "stream",
     "text": [
      "\r",
      " 33%|███████████████████████████████████▋                                                                       | 7/21 [05:20<12:32, 53.73s/it]"
     ]
    },
    {
     "name": "stdout",
     "output_type": "stream",
     "text": [
      "synopsis_drama.txt 파일을 읽고 있습니다.\n"
     ]
    },
    {
     "name": "stderr",
     "output_type": "stream",
     "text": [
      "\r",
      " 38%|████████████████████████████████████████▍                                                                 | 8/21 [09:18<24:20, 112.33s/it]"
     ]
    },
    {
     "name": "stdout",
     "output_type": "stream",
     "text": [
      "synopsis_etc.txt 파일을 읽고 있습니다.\n"
     ]
    },
    {
     "name": "stderr",
     "output_type": "stream",
     "text": [
      "\r",
      " 43%|█████████████████████████████████████████████▊                                                             | 9/21 [09:54<17:42, 88.58s/it]"
     ]
    },
    {
     "name": "stdout",
     "output_type": "stream",
     "text": [
      "synopsis_family.txt 파일을 읽고 있습니다.\n"
     ]
    },
    {
     "name": "stderr",
     "output_type": "stream",
     "text": [
      "\r",
      " 48%|██████████████████████████████████████████████████▍                                                       | 10/21 [10:01<11:34, 63.18s/it]"
     ]
    },
    {
     "name": "stdout",
     "output_type": "stream",
     "text": [
      "synopsis_fantasy.txt 파일을 읽고 있습니다.\n"
     ]
    },
    {
     "name": "stderr",
     "output_type": "stream",
     "text": [
      "\r",
      " 52%|███████████████████████████████████████████████████████▌                                                  | 11/21 [10:07<07:39, 45.95s/it]"
     ]
    },
    {
     "name": "stdout",
     "output_type": "stream",
     "text": [
      "synopsis_historical.txt 파일을 읽고 있습니다.\n"
     ]
    },
    {
     "name": "stderr",
     "output_type": "stream",
     "text": [
      "\r",
      " 57%|████████████████████████████████████████████████████████████▌                                             | 12/21 [10:09<04:52, 32.46s/it]"
     ]
    },
    {
     "name": "stdout",
     "output_type": "stream",
     "text": [
      "synopsis_horror.txt 파일을 읽고 있습니다.\n"
     ]
    },
    {
     "name": "stderr",
     "output_type": "stream",
     "text": [
      "\r",
      " 62%|█████████████████████████████████████████████████████████████████▌                                        | 13/21 [10:40<04:15, 31.99s/it]"
     ]
    },
    {
     "name": "stdout",
     "output_type": "stream",
     "text": [
      "synopsis_musical.txt 파일을 읽고 있습니다.\n"
     ]
    },
    {
     "name": "stderr",
     "output_type": "stream",
     "text": [
      "\r",
      " 67%|██████████████████████████████████████████████████████████████████████▋                                   | 14/21 [10:42<02:39, 22.85s/it]"
     ]
    },
    {
     "name": "stdout",
     "output_type": "stream",
     "text": [
      "synopsis_mystery.txt 파일을 읽고 있습니다.\n"
     ]
    },
    {
     "name": "stderr",
     "output_type": "stream",
     "text": [
      "\r",
      " 71%|███████████████████████████████████████████████████████████████████████████▋                              | 15/21 [10:49<01:49, 18.30s/it]"
     ]
    },
    {
     "name": "stdout",
     "output_type": "stream",
     "text": [
      "synopsis_romance.txt 파일을 읽고 있습니다.\n"
     ]
    },
    {
     "name": "stderr",
     "output_type": "stream",
     "text": [
      "\r",
      " 76%|████████████████████████████████████████████████████████████████████████████████▊                         | 16/21 [11:41<02:21, 28.23s/it]"
     ]
    },
    {
     "name": "stdout",
     "output_type": "stream",
     "text": [
      "synopsis_SF.txt 파일을 읽고 있습니다.\n"
     ]
    },
    {
     "name": "stderr",
     "output_type": "stream",
     "text": [
      "\r",
      " 81%|█████████████████████████████████████████████████████████████████████████████████████▊                    | 17/21 [11:51<01:31, 22.91s/it]"
     ]
    },
    {
     "name": "stdout",
     "output_type": "stream",
     "text": [
      "synopsis_show.txt 파일을 읽고 있습니다.\n"
     ]
    },
    {
     "name": "stderr",
     "output_type": "stream",
     "text": [
      "\r",
      " 86%|██████████████████████████████████████████████████████████████████████████████████████████▊               | 18/21 [11:56<00:51, 17.31s/it]"
     ]
    },
    {
     "name": "stdout",
     "output_type": "stream",
     "text": [
      "synopsis_thriller.txt 파일을 읽고 있습니다.\n"
     ]
    },
    {
     "name": "stderr",
     "output_type": "stream",
     "text": [
      "\r",
      " 90%|███████████████████████████████████████████████████████████████████████████████████████████████▉          | 19/21 [12:17<00:37, 18.51s/it]"
     ]
    },
    {
     "name": "stdout",
     "output_type": "stream",
     "text": [
      "synopsis_war.txt 파일을 읽고 있습니다.\n"
     ]
    },
    {
     "name": "stderr",
     "output_type": "stream",
     "text": [
      "\r",
      " 95%|████████████████████████████████████████████████████████████████████████████████████████████████████▉     | 20/21 [12:21<00:14, 14.24s/it]"
     ]
    },
    {
     "name": "stdout",
     "output_type": "stream",
     "text": [
      "synopsis_western.txt 파일을 읽고 있습니다.\n"
     ]
    },
    {
     "name": "stderr",
     "output_type": "stream",
     "text": [
      "100%|██████████████████████████████████████████████████████████████████████████████████████████████████████████| 21/21 [12:22<00:00, 35.33s/it]\n"
     ]
    }
   ],
   "source": [
    "from tqdm import tqdm\n",
    "genre = []\n",
    "for file_name in tqdm(genre_txt):\n",
    "    genre.append(read_token(file_name))"
   ]
  },
  {
   "cell_type": "code",
   "execution_count": 46,
   "id": "40cf777c",
   "metadata": {},
   "outputs": [
    {
     "name": "stdout",
     "output_type": "stream",
     "text": [
      "(21, 42191)\n"
     ]
    }
   ],
   "source": [
    "#각 장르별 시놉시스 텍스트에 대한 tf-idf 만들기 \n",
    "vectorizer = TfidfVectorizer()\n",
    "X = vectorizer.fit_transform(genre)\n",
    "print(X.shape)"
   ]
  },
  {
   "cell_type": "code",
   "execution_count": 47,
   "id": "e92ecd1d",
   "metadata": {},
   "outputs": [
    {
     "name": "stdout",
     "output_type": "stream",
     "text": [
      "액션: 위해, 자신, "
     ]
    },
    {
     "name": "stderr",
     "output_type": "stream",
     "text": [
      "/Users/songye/opt/anaconda3/envs/aiffel/lib/python3.7/site-packages/sklearn/utils/deprecation.py:87: FutureWarning: Function get_feature_names is deprecated; get_feature_names is deprecated in 1.0 and will be removed in 1.2. Please use get_feature_names_out instead.\n",
      "  warnings.warn(msg, category=FutureWarning)\n"
     ]
    },
    {
     "name": "stdout",
     "output_type": "stream",
     "text": [
      "시작, 조직, 사건, 사람, 그녀, 경찰, 전쟁, 모든, 목숨, 사실, 친구, 가족, 요원, \n",
      "성인: 그녀, 남편, 마사지, 자신, 섹스, 관계, 영화, 정사, 남자, 위해, 시작, 여자, 유부녀, 마음, 사랑, \n",
      "모험: 위해, 자신, 시작, 친구, 마을, 아버지, 영화, 아이, 사람, 여행, 세계, 앤트, 세상, 가족, 모험, \n",
      "애니메이션: 애니메이션, 국제, 영화제, 친구, 인디애니페스트, 위해, 자신, 시작, 사람, 페스티벌, 서울, 이야기, 아이, 마을, 소녀, \n",
      "코메디: 그녀, 자신, 시작, 위해, 사랑, 사람, 친구, 영화, 남자, 여자, 영화제, 가족, 과연, 마을, 사건, \n",
      "범죄: 사건, 위해, 자신, 경찰, 시작, 그녀, 범죄, 조직, 살인, 사람, 마약, 형사, 남자, 모든, 살해, \n",
      "다큐멘터리: 영화제, 영화, 다큐, 국제, 다큐멘터리, 사람, 이야기, 대한, 자신, 감독, 위해, 서울, 우리, 시작, 세계, \n",
      "드라마: 자신, 영화제, 그녀, 사람, 사랑, 영화, 위해, 시작, 국제, 남자, 친구, 이야기, 엄마, 여자, 아버지, \n",
      "기타: 영화제, 국제, 서울, 단편, 영화, 자신, 사람, 이야기, 그녀, 남자, 위해, 시작, 사랑, 뉴미디어, 페스티벌, \n",
      "가족: 엄마, 아빠, 가족, 영화제, 자신, 위해, 친구, 아주르, 아버지, 시작, 그녀, 아들, 국제, 마을, 낙타, \n",
      "판타지: 자신, 그녀, 시작, 위해, 사람, 사랑, 요괴, 영화제, 이야기, 영화, 소녀, 남자, 인간, 세상, 마을, \n",
      "역사: 조선, 위해, 시작, 신기전, 사랑, 자신, 아가멤논, 황제, 그녀, 루안, 최고, 사람, 운명, 하선, 전쟁, \n",
      "호러: 시작, 위해, 사람, 자신, 친구, 그녀, 사건, 공포, 발견, 죽음, 마을, 가족, 악령, 남자, 좀비, \n",
      "뮤지컬: 뮤지컬, 사랑, 에스메랄다, 그녀, 음악, 충무로, 모차르트, 영화, 토스카, 자신, 니웨, 카바, 영화제, 바흐, 페뷔스, \n",
      "미스테리: 사건, 그녀, 시작, 자신, 위해, 사람, 발견, 사고, 진실, 죽음, 기억, 살인, 친구, 아내, 아이, \n",
      "로맨스: 그녀, 사랑, 자신, 시작, 남편, 남자, 여자, 사람, 친구, 섹스, 위해, 마음, 결혼, 서로, 아내, \n",
      "SF: 위해, 자신, 지구, 시작, 사람, 인류, 인간, 미래, 우주, 그녀, 로봇, 세계, 모든, 박사, 우주선, \n",
      "쇼: 오페라, 사랑, 토스카, 실황, 올레, 자신, 카바, 그녀, 공연, 오텔로, 리골레토, 백작, 프레, 베르디, 위해, \n",
      "스릴러: 자신, 그녀, 사건, 시작, 위해, 사람, 살인, 남자, 발견, 아내, 경찰, 친구, 모든, 사실, 살해, \n",
      "전쟁: 전쟁, 독일군, 전투, 위해, 작전, 시작, 부대, 윈터스, 독일, 연합군, 미군, 임무, 자신, 사람, 나치, \n",
      "서부극: 서부, 보안관, 위해, 벌린, 카우보이, 그레이프바인, 헨리, 마을, 자신, 개릿, 아이, 시작, 무법자, 프린트, 태구, \n"
     ]
    }
   ],
   "source": [
    "#만들어진 tf-idf를 이용해서 각 장르를 대표하는 단어셋 찾기 \n",
    "#단어를 15개 찾아주기 \n",
    "m = [X[i].tocoo() for i in range(X.shape[0])]\n",
    "\n",
    "w = [[[i, j] for i, j in zip(mm.col, mm.data)] for mm in m]\n",
    "\n",
    "for i in range(len(w)):\n",
    "    w[i].sort(key=lambda x: x[1], reverse=True)\n",
    "attributes = []\n",
    "for i in range(len(w)):\n",
    "    print(genre_name[i], end=': ')\n",
    "    attr = []\n",
    "    j = 0\n",
    "    while (len(attr) < 15):\n",
    "        if vectorizer.get_feature_names()[w[i][j][0]] in model.wv:\n",
    "            attr.append(vectorizer.get_feature_names()[w[i][j][0]])\n",
    "            print(vectorizer.get_feature_names()[w[i][j][0]], end=', ')\n",
    "        j += 1\n",
    "    attributes.append(attr)\n",
    "    print()"
   ]
  },
  {
   "cell_type": "markdown",
   "id": "a1222f9e",
   "metadata": {},
   "source": [
    "### embedding model과 단어 셋으로 WEAT score 구해보기"
   ]
  },
  {
   "cell_type": "code",
   "execution_count": 48,
   "id": "08d50d3c",
   "metadata": {},
   "outputs": [],
   "source": [
    "matrix = [[0 for _ in range(len(genre_name))] for _ in range(len(genre_name))]"
   ]
  },
  {
   "cell_type": "code",
   "execution_count": 49,
   "id": "479121e8",
   "metadata": {},
   "outputs": [
    {
     "data": {
      "text/plain": [
       "[[0, 0, 0, 0, 0, 0, 0, 0, 0, 0, 0, 0, 0, 0, 0, 0, 0, 0, 0, 0, 0],\n",
       " [0, 0, 0, 0, 0, 0, 0, 0, 0, 0, 0, 0, 0, 0, 0, 0, 0, 0, 0, 0, 0],\n",
       " [0, 0, 0, 0, 0, 0, 0, 0, 0, 0, 0, 0, 0, 0, 0, 0, 0, 0, 0, 0, 0],\n",
       " [0, 0, 0, 0, 0, 0, 0, 0, 0, 0, 0, 0, 0, 0, 0, 0, 0, 0, 0, 0, 0],\n",
       " [0, 0, 0, 0, 0, 0, 0, 0, 0, 0, 0, 0, 0, 0, 0, 0, 0, 0, 0, 0, 0],\n",
       " [0, 0, 0, 0, 0, 0, 0, 0, 0, 0, 0, 0, 0, 0, 0, 0, 0, 0, 0, 0, 0],\n",
       " [0, 0, 0, 0, 0, 0, 0, 0, 0, 0, 0, 0, 0, 0, 0, 0, 0, 0, 0, 0, 0],\n",
       " [0, 0, 0, 0, 0, 0, 0, 0, 0, 0, 0, 0, 0, 0, 0, 0, 0, 0, 0, 0, 0],\n",
       " [0, 0, 0, 0, 0, 0, 0, 0, 0, 0, 0, 0, 0, 0, 0, 0, 0, 0, 0, 0, 0],\n",
       " [0, 0, 0, 0, 0, 0, 0, 0, 0, 0, 0, 0, 0, 0, 0, 0, 0, 0, 0, 0, 0],\n",
       " [0, 0, 0, 0, 0, 0, 0, 0, 0, 0, 0, 0, 0, 0, 0, 0, 0, 0, 0, 0, 0],\n",
       " [0, 0, 0, 0, 0, 0, 0, 0, 0, 0, 0, 0, 0, 0, 0, 0, 0, 0, 0, 0, 0],\n",
       " [0, 0, 0, 0, 0, 0, 0, 0, 0, 0, 0, 0, 0, 0, 0, 0, 0, 0, 0, 0, 0],\n",
       " [0, 0, 0, 0, 0, 0, 0, 0, 0, 0, 0, 0, 0, 0, 0, 0, 0, 0, 0, 0, 0],\n",
       " [0, 0, 0, 0, 0, 0, 0, 0, 0, 0, 0, 0, 0, 0, 0, 0, 0, 0, 0, 0, 0],\n",
       " [0, 0, 0, 0, 0, 0, 0, 0, 0, 0, 0, 0, 0, 0, 0, 0, 0, 0, 0, 0, 0],\n",
       " [0, 0, 0, 0, 0, 0, 0, 0, 0, 0, 0, 0, 0, 0, 0, 0, 0, 0, 0, 0, 0],\n",
       " [0, 0, 0, 0, 0, 0, 0, 0, 0, 0, 0, 0, 0, 0, 0, 0, 0, 0, 0, 0, 0],\n",
       " [0, 0, 0, 0, 0, 0, 0, 0, 0, 0, 0, 0, 0, 0, 0, 0, 0, 0, 0, 0, 0],\n",
       " [0, 0, 0, 0, 0, 0, 0, 0, 0, 0, 0, 0, 0, 0, 0, 0, 0, 0, 0, 0, 0],\n",
       " [0, 0, 0, 0, 0, 0, 0, 0, 0, 0, 0, 0, 0, 0, 0, 0, 0, 0, 0, 0, 0]]"
      ]
     },
     "execution_count": 49,
     "metadata": {},
     "output_type": "execute_result"
    }
   ],
   "source": [
    "matrix"
   ]
  },
  {
   "cell_type": "code",
   "execution_count": 50,
   "id": "646cf734",
   "metadata": {},
   "outputs": [
    {
     "name": "stdout",
     "output_type": "stream",
     "text": [
      "completed\n"
     ]
    }
   ],
   "source": [
    "#art, gen을 타겟으로 삼기 \n",
    "X = np.array([model.wv[word] for word in target_art])\n",
    "Y = np.array([model.wv[word] for word in target_gen])\n",
    "\n",
    "for i in range(len(genre_name)-1):\n",
    "    for j in range(i+1, len(genre_name)):\n",
    "        A = np.array([model.wv[word] for word in attributes[i]])\n",
    "        B = np.array([model.wv[word] for word in attributes[j]])\n",
    "        matrix[i][j] = weat_score(X,Y,A,B) #이 부분에서 weat 스코어 계산해주기 \n",
    "        \n",
    "print(\"completed\")"
   ]
  },
  {
   "cell_type": "code",
   "execution_count": 51,
   "id": "f7605a21",
   "metadata": {},
   "outputs": [
    {
     "name": "stdout",
     "output_type": "stream",
     "text": [
      "액션 성인 -0.37333557\n",
      "액션 모험 -0.14760818\n",
      "액션 애니메이션 0.48325965\n",
      "액션 코메디 0.04002542\n",
      "액션 범죄 0.35986513\n",
      "액션 다큐멘터리 0.5963703\n",
      "액션 드라마 0.027220802\n",
      "액션 기타 0.47099096\n",
      "액션 가족 -0.12889135\n",
      "액션 판타지 0.22654001\n",
      "액션 역사 -0.21014895\n",
      "액션 호러 -0.54299825\n",
      "액션 뮤지컬 0.46896616\n",
      "액션 미스테리 -0.78580296\n",
      "액션 로맨스 -0.7511152\n",
      "액션 SF 0.44456226\n",
      "액션 쇼 0.025821317\n",
      "액션 스릴러 -0.5347538\n",
      "액션 전쟁 0.53458995\n",
      "액션 서부극 0.07653774\n",
      "성인 모험 0.27753523\n",
      "성인 애니메이션 0.7420825\n",
      "성인 코메디 0.55781776\n",
      "성인 범죄 0.4915562\n",
      "성인 다큐멘터리 0.80671144\n",
      "성인 드라마 0.5420326\n",
      "성인 기타 0.79214144\n",
      "성인 가족 0.28626677\n",
      "성인 판타지 0.60161346\n",
      "성인 역사 0.29646966\n",
      "성인 호러 0.19757394\n",
      "성인 뮤지컬 0.7687803\n",
      "성인 미스테리 0.051620893\n",
      "성인 로맨스 -0.8482401\n",
      "성인 SF 0.5525682\n",
      "성인 쇼 0.46231115\n",
      "성인 스릴러 0.19601361\n",
      "성인 전쟁 0.5955228\n",
      "성인 서부극 0.42885277\n",
      "모험 애니메이션 0.88690263\n",
      "모험 코메디 0.3669065\n",
      "모험 범죄 0.23626901\n",
      "모험 다큐멘터리 0.9443739\n",
      "모험 드라마 0.30304953\n",
      "모험 기타 0.81136525\n",
      "모험 가족 0.015020515\n",
      "모험 판타지 0.78228426\n",
      "모험 역사 -0.06555125\n",
      "모험 호러 -0.17464851\n",
      "모험 뮤지컬 0.8057428\n",
      "모험 미스테리 -0.30275112\n",
      "모험 로맨스 -0.5840789\n",
      "모험 SF 0.80019677\n",
      "모험 쇼 0.22633126\n",
      "모험 스릴러 -0.12174743\n",
      "모험 전쟁 0.6867033\n",
      "모험 서부극 0.36037785\n",
      "애니메이션 코메디 -0.73004526\n",
      "애니메이션 범죄 -0.37051302\n",
      "애니메이션 다큐멘터리 0.53855556\n",
      "애니메이션 드라마 -0.8760737\n",
      "애니메이션 기타 0.05964515\n",
      "애니메이션 가족 -0.8619634\n",
      "애니메이션 판타지 -0.68492997\n",
      "애니메이션 역사 -0.82291967\n",
      "애니메이션 호러 -0.6617417\n",
      "애니메이션 뮤지컬 0.09766302\n",
      "애니메이션 미스테리 -0.6700332\n",
      "애니메이션 로맨스 -0.85793537\n",
      "애니메이션 SF -0.35791934\n",
      "애니메이션 쇼 -0.86399406\n",
      "애니메이션 스릴러 -0.5673469\n",
      "애니메이션 전쟁 -0.23299222\n",
      "애니메이션 서부극 -0.6781832\n",
      "코메디 범죄 0.11191295\n",
      "코메디 다큐멘터리 0.8108192\n",
      "코메디 드라마 -0.012280666\n",
      "코메디 기타 0.7299074\n",
      "코메디 가족 -0.23243308\n",
      "코메디 판타지 0.5112774\n",
      "코메디 역사 -0.45942912\n",
      "코메디 호러 -0.45813805\n",
      "코메디 뮤지컬 0.69885844\n",
      "코메디 미스테리 -0.52867603\n",
      "코메디 로맨스 -0.8804148\n",
      "코메디 SF 0.4510862\n",
      "코메디 쇼 -0.0069478685\n",
      "코메디 스릴러 -0.3209734\n",
      "코메디 전쟁 0.50696605\n",
      "코메디 서부극 0.03823298\n",
      "범죄 다큐멘터리 0.49419802\n",
      "범죄 드라마 -0.091619596\n",
      "범죄 기타 0.37227094\n",
      "범죄 가족 -0.22755231\n",
      "범죄 판타지 0.089626156\n",
      "범죄 역사 -0.3114285\n",
      "범죄 호러 -0.6633689\n",
      "범죄 뮤지컬 0.36914337\n",
      "범죄 미스테리 -0.9098501\n",
      "범죄 로맨스 -0.8610898\n",
      "범죄 SF 0.22215056\n",
      "범죄 쇼 -0.088390335\n",
      "범죄 스릴러 -1.0042393\n",
      "범죄 전쟁 0.3509479\n",
      "범죄 서부극 -0.09787981\n",
      "다큐멘터리 드라마 -0.9025386\n",
      "다큐멘터리 기타 -0.59345996\n",
      "다큐멘터리 가족 -0.8223343\n",
      "다큐멘터리 판타지 -0.88026035\n",
      "다큐멘터리 역사 -0.8954761\n",
      "다큐멘터리 호러 -0.7426438\n",
      "다큐멘터리 뮤지컬 -0.6881225\n",
      "다큐멘터리 미스테리 -0.75129396\n",
      "다큐멘터리 로맨스 -0.87764204\n",
      "다큐멘터리 SF -0.5891789\n",
      "다큐멘터리 쇼 -0.8950972\n",
      "다큐멘터리 스릴러 -0.64633614\n",
      "다큐멘터리 전쟁 -0.4476355\n",
      "다큐멘터리 서부극 -0.71749717\n",
      "드라마 기타 0.8846831\n",
      "드라마 가족 -0.23605913\n",
      "드라마 판타지 0.546951\n",
      "드라마 역사 -0.33866602\n",
      "드라마 호러 -0.3178818\n",
      "드라마 뮤지컬 0.8340041\n",
      "드라마 미스테리 -0.40792996\n",
      "드라마 로맨스 -0.8098972\n",
      "드라마 SF 0.38887826\n",
      "드라마 쇼 -0.00061090733\n",
      "드라마 스릴러 -0.25013205\n",
      "드라마 전쟁 0.46819347\n",
      "드라마 서부극 0.037176345\n",
      "기타 가족 -0.7533863\n",
      "기타 판타지 -0.69292575\n",
      "기타 역사 -0.82203346\n",
      "기타 호러 -0.64521915\n",
      "기타 뮤지컬 0.092760734\n",
      "기타 미스테리 -0.65796703\n",
      "기타 로맨스 -0.87513274\n",
      "기타 SF -0.3447409\n",
      "기타 쇼 -0.8949967\n",
      "기타 스릴러 -0.5613897\n",
      "기타 전쟁 -0.2316706\n",
      "기타 서부극 -0.6161764\n",
      "가족 판타지 0.44658136\n",
      "가족 역사 -0.054127462\n",
      "가족 호러 -0.15413842\n",
      "가족 뮤지컬 0.71883994\n",
      "가족 미스테리 -0.28227055\n",
      "가족 로맨스 -0.6058493\n",
      "가족 SF 0.52094644\n",
      "가족 쇼 0.20490636\n",
      "가족 스릴러 -0.12815583\n",
      "가족 전쟁 0.6413509\n",
      "가족 서부극 0.42317173\n",
      "판타지 역사 -0.661167\n",
      "판타지 호러 -0.53852487\n",
      "판타지 뮤지컬 0.6846462\n",
      "판타지 미스테리 -0.5721085\n",
      "판타지 로맨스 -0.81168854\n",
      "판타지 SF 0.18934253\n",
      "판타지 쇼 -0.3357136\n",
      "판타지 스릴러 -0.39944452\n",
      "판타지 전쟁 0.2731189\n",
      "판타지 서부극 -0.26161385\n",
      "역사 호러 -0.1315095\n",
      "역사 뮤지컬 0.81298625\n",
      "역사 미스테리 -0.26856998\n",
      "역사 로맨스 -0.6363169\n",
      "역사 SF 0.82955897\n",
      "역사 쇼 0.3808937\n",
      "역사 스릴러 -0.10258019\n",
      "역사 전쟁 0.87210447\n",
      "역사 서부극 0.40607235\n",
      "호러 뮤지컬 0.6316674\n",
      "호러 미스테리 -0.509387\n",
      "호러 로맨스 -0.62941915\n",
      "호러 SF 0.68092954\n",
      "호러 쇼 0.25928232\n",
      "호러 스릴러 -0.0026263234\n",
      "호러 전쟁 0.64530474\n",
      "호러 서부극 0.42547175\n",
      "뮤지컬 미스테리 -0.6500482\n",
      "뮤지컬 로맨스 -0.84949327\n",
      "뮤지컬 SF -0.36330754\n",
      "뮤지컬 쇼 -0.87839746\n",
      "뮤지컬 스릴러 -0.5513726\n",
      "뮤지컬 전쟁 -0.24156848\n",
      "뮤지컬 서부극 -0.59217656\n",
      "미스테리 로맨스 -0.4803221\n",
      "미스테리 SF 0.69817954\n",
      "미스테리 쇼 0.34742567\n",
      "미스테리 스릴러 0.4364731\n",
      "미스테리 전쟁 0.67011726\n",
      "미스테리 서부극 0.5089858\n",
      "로맨스 SF 0.7834664\n",
      "로맨스 쇼 0.7034155\n",
      "로맨스 스릴러 0.66867036\n",
      "로맨스 전쟁 0.79170173\n",
      "로맨스 서부극 0.7486531\n",
      "SF 쇼 -0.38394225\n",
      "SF 스릴러 -0.525142\n",
      "SF 전쟁 0.20473742\n",
      "SF 서부극 -0.4303574\n",
      "쇼 스릴러 -0.22494432\n",
      "쇼 전쟁 0.5925857\n",
      "쇼 서부극 0.03730535\n",
      "스릴러 전쟁 0.5793615\n",
      "스릴러 서부극 0.33946854\n",
      "전쟁 서부극 -0.6494829\n"
     ]
    }
   ],
   "source": [
    "for i in range(len(genre_name)-1):\n",
    "    for j in range(i+1,len(genre_name)):\n",
    "        print(genre_name[i],genre_name[j],matrix[i][j])"
   ]
  },
  {
   "cell_type": "code",
   "execution_count": 58,
   "id": "d91f07c2",
   "metadata": {},
   "outputs": [
    {
     "data": {
      "text/plain": [
       "<AxesSubplot:>"
      ]
     },
     "execution_count": 58,
     "metadata": {},
     "output_type": "execute_result"
    },
    {
     "data": {
      "image/png": "[encoded data removed]",
      "text/plain": [
       "<Figure size 1080x1080 with 2 Axes>"
      ]
     },
     "metadata": {},
     "output_type": "display_data"
    }
   ],
   "source": [
    "import numpy as np; \n",
    "import seaborn as sns; \n",
    "\n",
    "np.random.seed(0)\n",
    "plt.figure(figsize=(15,15))\n",
    "\n",
    "# 한글 지원 폰트\n",
    "sns.set(font='AppleGothic')\n",
    "\n",
    "# 마이너스 부호 \n",
    "\n",
    "plt.rcParams['axes.unicode_minus'] = False\n",
    "\n",
    "ax = sns.heatmap(matrix, xticklabels=genre_name, yticklabels=genre_name, annot=True,  cmap='RdYlGn_r')\n",
    "ax"
   ]
  },
  {
   "cell_type": "code",
   "execution_count": null,
   "id": "5ce33be3",
   "metadata": {},
   "outputs": [],
   "source": []
  }
 ],
 "metadata": {
  "kernelspec": {
   "display_name": "aiffel",
   "language": "python",
   "name": "aiffel"
  },
  "language_info": {
   "codemirror_mode": {
    "name": "ipython",
    "version": 3
   },
   "file_extension": ".py",
   "mimetype": "text/x-python",
   "name": "python",
   "nbconvert_exporter": "python",
   "pygments_lexer": "ipython3",
   "version": "3.7.15"
  }
 },
 "nbformat": 4,
 "nbformat_minor": 5
}
