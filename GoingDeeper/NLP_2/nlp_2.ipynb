{
 "cells": [
  {
   "cell_type": "markdown",
   "id": "c9a2ece9",
   "metadata": {},
   "source": [
    "# 2-2. 데이터 다운로드 및 분석"
   ]
  },
  {
   "cell_type": "code",
   "execution_count": 1,
   "id": "30138483",
   "metadata": {},
   "outputs": [],
   "source": [
    "import os\n",
    "\n",
    "import matplotlib.pyplot as plt\n",
    "import tensorflow as tf\n",
    "import numpy as np\n",
    "\n",
    "%matplotlib inline"
   ]
  },
  {
   "cell_type": "code",
   "execution_count": 5,
   "id": "f3f11788",
   "metadata": {},
   "outputs": [
    {
     "name": "stdout",
     "output_type": "stream",
     "text": [
      "Data Size:  94123\n",
      "Example : \n",
      ">> 개인용 컴퓨터 사용의 상당 부분은 \"이것보다 뛰어날 수 있느냐?\"\n",
      ">> 북한의 핵무기 계획을 포기하도록 하려는 압력이 거세지고 있는 가운데, 일본과 북한의 외교관들이 외교 관계를 정상화하려는 회담을 재개했다.\n",
      ">> \"경호 로보트가 침입자나 화재를 탐지하기 위해서 개인적으로, 그리고 전문적으로 사용되고 있습니다.\"\n",
      ">> 수자원부 당국은 논란이 되고 있고, 막대한 비용이 드는 이 사업에 대해 내년에 건설을 시작할 계획이다.\n",
      ">> 또한 근력 운동은 활발하게 걷는 것이나 최소한 20분 동안 뛰는 것과 같은 유산소 활동에서 얻는 운동 효과를 심장과 폐에 주지 않기 때문에, 연구학자들은 근력 운동이 심장에 큰 영향을 미치는지 여부에 대해 논쟁을 해왔다.\n"
     ]
    }
   ],
   "source": [
    "import os\n",
    "path_to_file = \"./data/korean-english-park.train.ko\"\n",
    "\n",
    "with open(path_to_file,\"r\") as f:\n",
    "    raw = f.read().splitlines()\n",
    "    \n",
    "print(\"Data Size: \",len(raw))\n",
    "print(\"Example : \")\n",
    "for sen in raw[0:100][::20]: print(\">>\",sen)"
   ]
  },
  {
   "cell_type": "markdown",
   "id": "640a9dfc",
   "metadata": {},
   "source": [
    "### 문장의 개수는 94123개인데 각 문장의 길이는 어떻게 되는지 확인해보기"
   ]
  },
  {
   "cell_type": "code",
   "execution_count": 6,
   "id": "4ae4f9dc",
   "metadata": {},
   "outputs": [
    {
     "name": "stdout",
     "output_type": "stream",
     "text": [
      "문장의 최단 길이 :  1\n",
      "문장의 최장 길이 :  377\n",
      "문장의 평균 길이 :  60\n"
     ]
    },
    {
     "data": {
      "image/png": "[encoded data removed]",
      "text/plain": [
       "<Figure size 432x288 with 1 Axes>"
      ]
     },
     "metadata": {
      "needs_background": "light"
     },
     "output_type": "display_data"
    }
   ],
   "source": [
    "min_len = 999\n",
    "max_len = 0\n",
    "sum_len = 0\n",
    "\n",
    "for sen in raw:\n",
    "    length = len(sen)\n",
    "    if min_len > length : min_len = length\n",
    "    if max_len < length : max_len = length\n",
    "    sum_len += length\n",
    "    \n",
    "print(\"문장의 최단 길이 : \",min_len)\n",
    "print(\"문장의 최장 길이 : \",max_len)\n",
    "print(\"문장의 평균 길이 : \",sum_len//len(raw))\n",
    "\n",
    "sentence_length = np.zeros((max_len),dtype=int)\n",
    "\n",
    "for sen in raw:\n",
    "    sentence_length[len(sen)-1] += 1\n",
    "    \n",
    "plt.bar(range(max_len),sentence_length,width=1.0)\n",
    "plt.title(\"Sentence Length Distribution\")\n",
    "plt.show()"
   ]
  },
  {
   "cell_type": "markdown",
   "id": "2339f56e",
   "metadata": {},
   "source": [
    "### 길이가 1인 문장은 무엇일까?"
   ]
  },
  {
   "cell_type": "code",
   "execution_count": 7,
   "id": "0b3d3ce1",
   "metadata": {},
   "outputs": [
    {
     "name": "stdout",
     "output_type": "stream",
     "text": [
      "’\n"
     ]
    }
   ],
   "source": [
    "def check_sentence_with_length(raw,length):\n",
    "    count = 0\n",
    "    for sen in raw:\n",
    "        if len(sen) == length:\n",
    "            print(sen)\n",
    "            count+=1\n",
    "            if count >100: return\n",
    "\n",
    "#확인을 해보니 데이터 전처리가 되어 있지 않다. \n",
    "check_sentence_with_length(raw,1)"
   ]
  },
  {
   "cell_type": "code",
   "execution_count": 8,
   "id": "04b14956",
   "metadata": {},
   "outputs": [
    {
     "name": "stdout",
     "output_type": "stream",
     "text": [
      "outlier index :  11\n",
      "outlier index :  19\n",
      "outlier index :  21\n"
     ]
    }
   ],
   "source": [
    "#문장의 길이가 1500이상인 문장들의 인덱스 번호 뽑아내기 \n",
    "for idx,_sum in enumerate(sentence_length):\n",
    "    if _sum>1500:\n",
    "        print(\"outlier index : \",idx+1)"
   ]
  },
  {
   "cell_type": "code",
   "execution_count": 9,
   "id": "c577a3d9",
   "metadata": {},
   "outputs": [
    {
     "name": "stdout",
     "output_type": "stream",
     "text": [
      "라고 조던이 말했다.\n",
      "- 모르고 있습니다.\n",
      "- 네, 보이는군요.\n",
      "디즈니사만이 아니다.\n",
      "큰 파티는 아니지요.\n",
      "의자는 비어 있었다.\n",
      "이 일은 계속됩니다.\n",
      "나는 크게 실망했다.\n",
      "그 이유는 간단하다.\n",
      "이력서와 자기 소개서\n",
      "시대가 변하고 있다.\n",
      "는 돌발질문을 했다.\n",
      "9. 몇 분간의 명상\n",
      "하와이, 빅 아일랜드\n",
      "키스를 잘 하는 방법\n",
      "키스를 잘 하는 방법\n",
      "스피어스가 뚱뚱한가?\n",
      "산 위를 나는 느낌.\n",
      "세 시간쯤 걸었을까?\n",
      "(아직 읽고있습니까?\n",
      "처음에는 장난이었다.\n",
      "우리는 운이 좋았다.\n",
      "아기가 숨을 멈출 때\n",
      "건물 전체 무너져내려\n",
      "그녀의 아름다운 눈.\n",
      "대답은 다음과 같다.\n",
      "\"사과할 것이 없다.\n",
      "폭탄테러가 공포 유발\n",
      "그는 \"잘 모르겠다.\n",
      "그는 \"잘 모르겠다.\n",
      "그는 \"잘 모르겠다.\n",
      "그는 \"잘 모르겠다.\n",
      "그는 \"잘 모르겠다.\n",
      "그는 \"잘 모르겠다.\n",
      "그는 \"잘 모르겠다.\n",
      "그는 \"잘 모르겠다.\n",
      "그는 \"잘 모르겠다.\n",
      "케냐 야생동물 고아원\n",
      "경유 1200원대로…\n",
      "더 내려야 하는 이유\n",
      "케냐 야생동물 고아원\n",
      "경유 1200원대로…\n",
      "더 내려야 하는 이유\n",
      "케냐 야생동물 고아원\n",
      "경유 1200원대로…\n",
      "더 내려야 하는 이유\n",
      "케냐 야생동물 고아원\n",
      "경유 1200원대로…\n",
      "더 내려야 하는 이유\n",
      "케냐 야생동물 고아원\n",
      "경유 1200원대로…\n",
      "더 내려야 하는 이유\n",
      "케냐 야생동물 고아원\n",
      "경유 1200원대로…\n",
      "더 내려야 하는 이유\n",
      "케냐 야생동물 고아원\n",
      "경유 1200원대로…\n",
      "더 내려야 하는 이유\n",
      "케냐 야생동물 고아원\n",
      "경유 1200원대로…\n",
      "더 내려야 하는 이유\n",
      "케냐 야생동물 고아원\n",
      "경유 1200원대로…\n",
      "더 내려야 하는 이유\n",
      "케냐 야생동물 고아원\n",
      "경유 1200원대로…\n",
      "더 내려야 하는 이유\n",
      "케냐 야생동물 고아원\n",
      "경유 1200원대로…\n",
      "더 내려야 하는 이유\n",
      "케냐 야생동물 고아원\n",
      "경유 1200원대로…\n",
      "더 내려야 하는 이유\n",
      "케냐 야생동물 고아원\n",
      "경유 1200원대로…\n",
      "더 내려야 하는 이유\n",
      "케냐 야생동물 고아원\n",
      "경유 1200원대로…\n",
      "더 내려야 하는 이유\n",
      "케냐 야생동물 고아원\n",
      "경유 1200원대로…\n",
      "더 내려야 하는 이유\n",
      "케냐 야생동물 고아원\n",
      "경유 1200원대로…\n",
      "더 내려야 하는 이유\n",
      "케냐 야생동물 고아원\n",
      "경유 1200원대로…\n",
      "더 내려야 하는 이유\n",
      "케냐 야생동물 고아원\n",
      "경유 1200원대로…\n",
      "더 내려야 하는 이유\n",
      "케냐 야생동물 고아원\n",
      "경유 1200원대로…\n",
      "더 내려야 하는 이유\n",
      "케냐 야생동물 고아원\n",
      "경유 1200원대로…\n",
      "더 내려야 하는 이유\n",
      "조금은 새침한 샬롯？\n",
      "조금은 새침한 샬롯？\n",
      "케냐 야생동물 고아원\n",
      "경유 1200원대로…\n",
      "성공할 수 있는 일들이 있습니다.\"\n",
      "두번째 목적은 상품을 파는 것이다.\n",
      "그것들은 무엇을 하기 위한 것인가?\n",
      "- 어째서 그렇게 대단한 것입니까?\n",
      "불매운동가들의 시선을 끌고 싶은가?\n",
      "그리고 우리는 계속해서 외식을 하며\n",
      "(나는 그가 정직하다고 생각한다.)\n",
      "박스데일도 동일한 기법을 사용한다.\n",
      "\"우리는 전속력으로 달려야 합니다.\n",
      "수익은 연 25%씩 늘어나고 있다.\n",
      "미국인 반체제 인사 해리 우의 운명\n",
      "국가를 위해 좋은 일이 될 것이라고\n",
      "무역 적자는 무역 흑자로 돌아섰으며\n",
      "경찰에서조차 수사를 벌이고 있습니다\n",
      "다음 번이 3월1일로 예정되어있다.\n",
      "우리는 허구적인 시대에 살고 있다.\n",
      "모 아니면 도였지요’’라고 말했다.\n",
      "이씨는 짧았던 결혼을 세 번 했다.\n",
      "하지만 성인이 되려면 아직 멀었다.\n",
      "양국은 상호 3위의 교역상대국이다.\n",
      "어떻게 지속적인 동기부여를 받느냐?\n",
      "편지는 의사소통 이상의 일을 한다.\n",
      "식량 부족으로 고통받는 북한 주민들\n",
      "그는 뉴욕 금융지구에 살고 있었다.\n",
      "6. “교회에 열심히 나가는가요?”\n",
      "신문사가 발견된 기밀문서를 받았다.\n",
      "3.인맥을 두루 갖춰놓지 못하는 것\n",
      "15.면접 질문에 집중하지 않는 것\n",
      "20.월급 이야기를 일찍 꺼내는 것\n",
      "디아즈는 진지해지려고 하지 않는다.\n",
      "전갈은 월마트 직원에 의해 잡혔다.\n",
      "4.여성은 증상을 스스로 진단한다.\n",
      "당시 휴스는 \"나는 다스 베이더다!\n",
      "회사에 대해 약간의 조사를 한다.:\n",
      "스폰지에 물을 묻혀 청소해도 된다.\n",
      "그러나 이를 뒷받침할 증거는 없다.\n",
      "그는 올해 가을 손자를 보게 된다.\n",
      "린은 칼을 이용해 쓰레기를 뒤진다.\n",
      "거주지가 소아과 병원 인근일 경우.\n",
      "언제든 메모해 두고 가지고 다닌다.\n",
      "대법원의 심리는 6일부터 시작됐다.\n",
      "* 원하는 가격에 흥정을 하는 방법\n",
      "그는 치료 중이던 26일 사망했다.\n",
      "무샤라프 대통령은 참석하지 않았다.\n",
      "이미 경영진 2500명이 해임됐다.\n",
      "스피처는 3명의 자녀를 두고 있다.\n",
      "이들은 보통 10일 내로 사망한다.\n",
      "그는 “왜 대통령이 되려 하느냐?”\n",
      "* 뗏목, 카누등을 타고 구경할 때\n",
      "유대인연합은 법원 결정을 환영했다.\n",
      "\"반사적으로 유도 기술을 사용했다.\n",
      "위원회는 4월 최종 결론을 내린다.\n",
      "기자와 승무원은 얼마 후 석방됐다.\n",
      "그는 아버지와 닮은 것을 인정했다.\n",
      "대부분 서신 시작 내용은 평범하다.\n",
      "그러나 예기치 못한 반전이 있었다.\n",
      "그러던 닌이 이번 에 은퇴를 한다.\n",
      "선거의 최종결과는 24일 발표된다.\n",
      "그는 “위험이 존재한다”고 말했다.\n",
      "아유무라는 침팬지가 가장 잘 했다.\n",
      "이들은 테러 관련 혐의로 수감됐다.\n",
      "*물건은 포장지로 포장하지 않는다.\n",
      "윤리적이고 정치적인 장애물이 있다.\n",
      "유로스타의 운행은 중단되지 않는다.\n",
      "반면 유럽 증시는 보합세를 보였다.\n",
      "고 탄성을 지르는 것을 알고 있다.\n",
      "버섯은 저칼로이지만 영양가는 낮다.\n",
      "소도시와 대도시간 통신도 중단됐다.\n",
      "추락 원인은 아직 알려지지 않았다.\n",
      "실제 아무 문제가 없다”고 전했다.\n",
      "그는 인명피해는 없었다고 덧붙였다.\n",
      "또 최소 30명이 다쳤다고 전했다.\n",
      "이 교전에서 반군 65명이 숨졌다.\n",
      "‘불비’가 3일 동안 계속 내렸다.\n",
      "물론 아이들은 이 주형을 좋아했다.\n",
      "공항 근처의 보안도 한층 강화됐다.\n",
      "체코에서 맥주는 기본적인 음료이다.\n",
      "그러나 체코 사람들은 그렇지 않다.\n",
      "내년 여름에는 자동차를 이용할 것.\n",
      "마샬은 정교하고 신중한 사람이었다.\n",
      "무엇이 이 변질을 가속화 시키는가?\n",
      "팩은 라이스와 함께 운전 중이었다.\n",
      "이 교회는 신석기 시대 묘지였었다.\n",
      "이라크의 인구는 2600만명이이다.\n",
      "비록 짧은 모험이지만 ‘트랜스포머:\n",
      "랜즈먼은 또 다른 문제에 직면했다.\n",
      "브랜든 톰슨 소방관, 27 (4년)\n",
      "최종 결정은 오는 26일 내려진다.\n",
      "젊은 부부는 벨스에 집을 장만했다.\n",
      "그의 아버지도 이 사실을 확인했다.\n",
      "이 시계가 땅바닥에 떨어진 것일까?\n",
      "또한 인명 피해도 없었다고 말했다.\n",
      "그러나 우리를 너무 무시하고 있다.\n",
      "마가 말한것은 옳지않다\"고 말했다.\n",
      "\"이전 탄압은 매우 복잡한 문제다.\n",
      "뱀의 가격은 아직 알려지지 않았다.\n",
      "이 컴퓨터가 얼마나 환경친화적인가?\n",
      "최근 이라크 유치원 졸업식의 풍경.\n",
      "▲오바마, \"1등은 장난이 아니야\"\n",
      "그 모든 것은 오래전부터 시작됐다.\n",
      "금속 지붕은 폭발로 떨어져 나갔다.\n",
      "미국과 영국의 과학자들이 악수를 했다.\n",
      "인력은 기계에 의해 보강되어야만 했다.\n",
      "\"시장은 그들에게 넓게 열려 있습니다.\n",
      "아디다스는 또 다른 이점도 갖고 있다.\n",
      "공부를 위해서만 이용하겠다고 말입니다.\n",
      "환경법규의 도입은 고통스러운 과정이다.\n",
      "- 여보, 이쪽이야, 아니면 저쪽이야?\n",
      "인도는 훨씬 늦게 게임에 뛰어 들었다.\n",
      "요즘 대부분의 기업들이 그렇지 않은가?\n",
      "카리스마적인 지도자들은 위험을 즐긴다.\n",
      "우리가 하려고 하는 일의 모델은 없다.\n",
      "정상 회담은 오늘 늦게 끝날 것입니다.\n",
      "그리고 공화당의 추정은 절반만 맞았다.\n",
      "하지만 증가하고 있는 노인 인구수에따라\n",
      "민간부문에서 그런 일을 할 수는 없다고\n",
      "금년초 이라크 정보부는 \"사담 후세인:\n",
      "실제로 이 방법은 만족스럽지가 못하다.\n",
      "카자흐스탄으로부터 중국으로 입국하려다가\n",
      "클립퍼 칩에 대한 이야기로 들어 가자.\n",
      "북한의 무기 개발에 대한 CIA 보고서\n",
      "어려움을 겪고 있는 멕시코 경제에 대한\n",
      "그는 ''미국은 우리의 최악의 적이다.\n",
      "수로가 오염되고 야생동물이 밀렵되었다.\n",
      "이런 지역들을 보살피고 보호해야 한다.\n",
      "학습 방법은 훨씬 더 흠칫한 것입니다.\n",
      "포옹은 심장에 좋은 약 일 수 도 있다\n",
      "(경찰은 심문을 위해 그를 구금했다.)\n",
      "금년에는 이 숫자가 58%로 증가했다.\n",
      "(금고를 뒤져 많은 서류를 가져갔다.)\n",
      "김치는 열량은 적고 비타민은 풍부하다.\n",
      "smear campaign (흑색선전)\n",
      "아들은 아버지로부터 사업을 이어받는다.\n",
      "그것은 한계 효과가 나타나는 시기이다.\n",
      "\"사람들에게 선택권이 주어져야 합니다.\n",
      "로야 저가는 임시 의사 결정 집단이다.\n",
      "160석이 여성 대표들에게 보장되었다.\n",
      "걷기 용으로 고안된 신발이 가장 좋다.\n",
      "이것을 일주일에 5번 정도 해야 한다.\n",
      "해외 판권은 이미 16개국에서 팔렸다.\n",
      "그리고 나는 이렇게 엄숙히 서약합니다:\n",
      "하지만 오늘의 주제를 그는 알것입니다:\n",
      "(그 사건들은 전쟁 발발로 발전했다.)\n",
      "\"그는 정말로 국민들을 실망시켰습니다.\n",
      "\"제국의 반격\"과 새 영화 \"스타워즈:\n",
      "남북간 해상 교전으로 남한 경비정 침몰\n",
      "공룡들은 필연적으로 굶어 죽게 되었다.\n",
      "新 나치주의자의 시락 대통령 암살 기도\n",
      "그는 또 사무실 출입문에 불을 질렀다.\n",
      "영화 ‘월E’는 완벽한 영화는 아니다.\n",
      "부상자수는 지난주 초 12명 증가했다.\n",
      "이는 지난 2005년 사실상 중단됐다.\n",
      "프라나브 메타는 빛이 없이 살고 있다.\n",
      "일부 학부모들은 황당함을 금치 못했다.\n",
      "부상자 중 8명은 경찰관으로 알려졌다.\n",
      "그는 자전거로 통근하는 것을 좋아한다.\n",
      "짐바브웨 대선은 3월 29일 실시됐다.\n",
      "시이저 흉상 만으로도 대단한 발견이다.\n",
      "은퇴를 결정한 것에 대한 후회는 없다.\n",
      "이 교회 소속 신도는 약 30명 이다.\n",
      "이 공격으로 의원 포함 3명이 숨졌다.\n",
      "기내에서 맨 앞 좌석이 가장 한적하다.\n",
      "8명의 대의원은 아직 배정되지 않았다.\n",
      "남아공은 2010년 월드컵을 개최한다.\n",
      "그는 군인들과 무사히 탈출에 성공했다.\n",
      "경찰 당국은 부상자는 없었다고 밝혔다.\n",
      "이들은 매일 같은 일상을 되풀이 한다.\n",
      "이 경우,탐정처럼 병원을 찾아야 한다.\n",
      "미국은 그를 매우 악한 인물로 평했다.\n",
      "이들이 펼친 현수막에는 “하나의 세계.\n",
      "최근들어 남성 게이샤가 증가하고 있다.\n",
      "아직 구속수사 여부는 밝혀지지 않았다.\n",
      "Eyewitness to Murder:\n",
      "상점으로서는 현금 지불을 더 선호한다.\n",
      "이번 사고로 고속도로 전체가 폐쇄됐다.\n",
      "이라크 전쟁은 지난주 5주년을 맞았다.\n",
      "또한 고령화에 따른 문제점도 제기했다.\n",
      "2004년 총선의 투표율은 75%였다.\n",
      "강아지의 생사 여부는 밝혀지지 않았다.\n",
      "텍사스주 프라이머리도 결과는 비슷했다.\n",
      "남편 앤서니에게는 3명의 자식이 있다.\n",
      "텍사스는 193명의 대의원이 걸려있다.\n",
      "이번 비행에는 승객이 탑승하지 않았다.\n",
      "마다가스카르 인구는 1940만 명이다.\n",
      "* 죠셉 라이델 워싱턴주 아메리칸 대학\n",
      "취미로 수집한 페니가 대박을 터뜨렸다.\n",
      "무엇인가를 기념하는 것은 좋은 것이다.\n",
      "미 경기후퇴가 현실화되고 있는 것이다.\n",
      "그는 5일 동안 집에서 병을 앓았었다.\n",
      "관계당국은 검거사실을 18일 발표했다.\n",
      "ABC가 이 시상식을 방영할 계획이다.\n",
      "자살폭탄테러로 민간인도 희생되고 있다.\n",
      "현재 수천명이 교회 뜰에 대피해 있다.\n",
      "한편 CES는 일반에 공개되지 않는다.\n",
      "이 조사의 표본오차는 ±5%포인트였다.\n",
      "이들은 성명을 통해 “쿠퍼는 누구인가?\n",
      "신드는 부토의 고향이며 지지 기반이다.\n",
      "할렘은 최근 관광객들로 넘쳐나고 있다.\n",
      "존 레논의 머리카락이 경매에 올라왔다.\n",
      "팍톤은 머리를 숙인 채 평결을 들었다.\n",
      "그는 4일 오후 사기 혐의로 체포됐다.\n",
      "경찰은 그의 소지품 대부분을 압수했다.\n"
     ]
    }
   ],
   "source": [
    "#확인을 해보니 중복된 문장들이 있다. \n",
    "check_sentence_with_length(raw,11)\n",
    "check_sentence_with_length(raw,19)\n",
    "check_sentence_with_length(raw,21)"
   ]
  },
  {
   "cell_type": "markdown",
   "id": "78100080",
   "metadata": {},
   "source": [
    "### 중복을 제거한 후 분포를 다시 확인해보기 "
   ]
  },
  {
   "cell_type": "code",
   "execution_count": 10,
   "id": "06c7f099",
   "metadata": {},
   "outputs": [
    {
     "name": "stdout",
     "output_type": "stream",
     "text": [
      "Data size:  77591\n",
      "문장의 최단 길이: 1\n",
      "문장의 최장 길이: 377\n",
      "문장의 평균 길이: 64\n"
     ]
    },
    {
     "data": {
      "image/png": "[encoded data removed]",
      "text/plain": [
       "<Figure size 432x288 with 1 Axes>"
      ]
     },
     "metadata": {
      "needs_background": "light"
     },
     "output_type": "display_data"
    }
   ],
   "source": [
    "min_len = 999\n",
    "max_len = 0\n",
    "sum_len = 0\n",
    "\n",
    "############# set을 이용해서 중복된 데이터들을 제거하는 부분\n",
    "cleaned_corpus = list(set(raw))\n",
    "print(\"Data size: \",len(cleaned_corpus))\n",
    "\n",
    "for sen in cleaned_corpus:\n",
    "    length = len(sen)\n",
    "    if min_len > length: min_len = length\n",
    "    if max_len < length: max_len = length\n",
    "    sum_len += length\n",
    "\n",
    "print(\"문장의 최단 길이:\", min_len)\n",
    "print(\"문장의 최장 길이:\", max_len)\n",
    "print(\"문장의 평균 길이:\", sum_len // len(cleaned_corpus))\n",
    "\n",
    "sentence_length = np.zeros((max_len), dtype=int)\n",
    "\n",
    "for sen in cleaned_corpus:   # 중복이 제거된 코퍼스 기준\n",
    "    sentence_length[len(sen)-1] += 1\n",
    "\n",
    "plt.bar(range(max_len), sentence_length, width=1.0)\n",
    "plt.title(\"Sentence Length Distribution\")\n",
    "plt.show()"
   ]
  },
  {
   "cell_type": "markdown",
   "id": "66db29b9",
   "metadata": {},
   "source": [
    "### 길이가 최소 10에서 최대 150 사이인 문장들만 이용"
   ]
  },
  {
   "cell_type": "code",
   "execution_count": 11,
   "id": "7feedb8d",
   "metadata": {},
   "outputs": [
    {
     "name": "stdout",
     "output_type": "stream",
     "text": [
      "[0 0 0 0 0 0 0 0 0 0 0 0 0 0 0 0 0 0 0 0 0 0 0 0 0 0 0 0 0 0 0 0 0 0 0 0 0\n",
      " 0 0 0 0 0 0 0 0 0 0 0 0 0 0 0 0 0 0 0 0 0 0 0 0 0 0 0 0 0 0 0 0 0 0 0 0 0\n",
      " 0 0 0 0 0 0 0 0 0 0 0 0 0 0 0 0 0 0 0 0 0 0 0 0 0 0 0 0 0 0 0 0 0 0 0 0 0\n",
      " 0 0 0 0 0 0 0 0 0 0 0 0 0 0 0 0 0 0 0 0 0 0 0 0 0 0 0 0 0 0 0 0 0 0 0 0 0\n",
      " 0 0]\n"
     ]
    },
    {
     "data": {
      "image/png": "[encoded data removed]",
      "text/plain": [
       "<Figure size 432x288 with 1 Axes>"
      ]
     },
     "metadata": {
      "needs_background": "light"
     },
     "output_type": "display_data"
    }
   ],
   "source": [
    "max_len = 150\n",
    "min_len = 10\n",
    "\n",
    "#min_len보다 길고 Max_len보다 짧은 문장들만 선택\n",
    "filtered_corpus = [s for s in cleaned_corpus if (len(s) < max_len) & (len(s)>=min_len)]\n",
    "\n",
    "\n",
    "#분포도를 다시 그리기\n",
    "sentence_length = np.zeros((max_len),dtype=int)\n",
    "print(sentence_length)\n",
    "\n",
    "for sen in filtered_corpus:\n",
    "    sentence_length[len(sen)-1] +=1\n",
    "    \n",
    "plt.bar(range(max_len),sentence_length,width=1.0)\n",
    "plt.title(\"Sentence Length Distribution\")\n",
    "plt.show()\n",
    "    "
   ]
  },
  {
   "cell_type": "markdown",
   "id": "f82b0380",
   "metadata": {},
   "source": [
    "# 2-3. 공백 기반 토큰화"
   ]
  },
  {
   "cell_type": "code",
   "execution_count": 24,
   "id": "93e3ec37",
   "metadata": {},
   "outputs": [],
   "source": [
    "def tokenize(corpus):  # corpus: Tokenized Sentence's List\n",
    "    tokenizer = tf.keras.preprocessing.text.Tokenizer(filters='')\n",
    "    tokenizer.fit_on_texts(corpus)\n",
    "\n",
    "    tensor = tokenizer.texts_to_sequences(corpus)\n",
    "\n",
    "    tensor = tf.keras.preprocessing.sequence.pad_sequences(tensor, padding='post')\n",
    "\n",
    "    return tensor, tokenizer"
   ]
  },
  {
   "cell_type": "code",
   "execution_count": 25,
   "id": "e5019a44",
   "metadata": {},
   "outputs": [],
   "source": [
    "split_corpus = []\n",
    "for kor in filtered_corpus:\n",
    "    split_corpus.append(kor.split())"
   ]
  },
  {
   "cell_type": "code",
   "execution_count": 26,
   "id": "0dcd8f4f",
   "metadata": {},
   "outputs": [
    {
     "name": "stdout",
     "output_type": "stream",
     "text": [
      "Split Vocab Size: 237435\n"
     ]
    }
   ],
   "source": [
    "split_tensor,split_tokenizer = tokenize(split_corpus)\n",
    "print(\"Split Vocab Size:\", len(split_tokenizer.index_word))"
   ]
  },
  {
   "cell_type": "code",
   "execution_count": 31,
   "id": "67091812",
   "metadata": {},
   "outputs": [
    {
     "name": "stdout",
     "output_type": "stream",
     "text": [
      "idx :  이\n",
      "idx :  밝혔다.\n",
      "idx :  있다.\n",
      "idx :  말했다.\n",
      "idx :  수\n",
      "idx :  있는\n",
      "idx :  그는\n",
      "idx :  대한\n",
      "idx :  위해\n",
      "idx :  전했다.\n",
      "idx :  지난\n",
      "idx :  이번\n"
     ]
    }
   ],
   "source": [
    "for idx,word in enumerate(split_tokenizer.word_index):\n",
    "    print(\"idx : \",word)\n",
    "    if idx > 10 : break\n",
    "        \n",
    "#공백 기준으로 토큰을 만들게 되면\n",
    "#밝히다, 밝다와 같은 단어들을 모두 다른 토큰으로 인식해서\n",
    "#불필요하게 단어사전이 커지게 되고 이는 연산량 증가로 이어지게 된다. "
   ]
  },
  {
   "cell_type": "markdown",
   "id": "c1b2399b",
   "metadata": {},
   "source": [
    "# 2-4 형태소 기반 토큰화"
   ]
  },
  {
   "cell_type": "code",
   "execution_count": 38,
   "id": "ae333c55",
   "metadata": {},
   "outputs": [],
   "source": [
    "from konlpy.tag import Mecab\n",
    "\n",
    "def mecab_split(corpus):  # corpus: Tokenized Sentence's List\n",
    "    mecab = Mecab()\n",
    "    return mecab.morphs(corpus)\n",
    "\n",
    "mecab_corpus = []\n",
    "for kor in filtered_corpus:\n",
    "    mecab_corpus.append(mecab_split(kor))"
   ]
  },
  {
   "cell_type": "code",
   "execution_count": 39,
   "id": "344e44c0",
   "metadata": {},
   "outputs": [
    {
     "name": "stdout",
     "output_type": "stream",
     "text": [
      "MeCab Vocab Size: 52279\n"
     ]
    }
   ],
   "source": [
    "mecab_tensor, mecab_tokenizer = tokenize(mecab_corpus)\n",
    "\n",
    "print(\"MeCab Vocab Size:\", len(mecab_tokenizer.index_word))\n"
   ]
  },
  {
   "cell_type": "markdown",
   "id": "e68a7eab",
   "metadata": {},
   "source": [
    "### tensor를 다시 decoding 하기"
   ]
  },
  {
   "cell_type": "code",
   "execution_count": 51,
   "id": "fdde9989",
   "metadata": {},
   "outputs": [
    {
     "name": "stdout",
     "output_type": "stream",
     "text": [
      "또한 30 위 밖 으로 떨어졌 던 제리 켈리 와 아론 오베르 서 는 손목 부상 으로 10 위 권 안 으로 들어오 게 된다 해도 경기 에 참가 하 지 못하 게 됐 다 .\n"
     ]
    }
   ],
   "source": [
    "decoded_text = mecab_tokenizer.sequences_to_texts([mecab_tensor[100]])\n",
    "print(decoded_text[0])"
   ]
  },
  {
   "cell_type": "code",
   "execution_count": 57,
   "id": "8535e4ab",
   "metadata": {},
   "outputs": [
    {
     "name": "stdout",
     "output_type": "stream",
     "text": [
      "또한 30 위 밖 으로 떨어졌 던 제리 켈리 와 아론 오베르 서 는 손목 부상 으로 10 위 권 안 으로 들어오 게 된다 해도 경기 에 참가 하 지 못하 게 됐 다 . \n"
     ]
    }
   ],
   "source": [
    "sentence = \"\"\n",
    "for i in mecab_tensor[100]:\n",
    "    if i==0: continue\n",
    "    sentence += mecab_tokenizer.index_word[i] + \" \"\n",
    "print(sentence)"
   ]
  },
  {
   "cell_type": "code",
   "execution_count": null,
   "id": "378af210",
   "metadata": {},
   "outputs": [],
   "source": []
  }
 ],
 "metadata": {
  "kernelspec": {
   "display_name": "aiffel",
   "language": "python",
   "name": "aiffel"
  },
  "language_info": {
   "codemirror_mode": {
    "name": "ipython",
    "version": 3
   },
   "file_extension": ".py",
   "mimetype": "text/x-python",
   "name": "python",
   "nbconvert_exporter": "python",
   "pygments_lexer": "ipython3",
   "version": "3.7.15"
  }
 },
 "nbformat": 4,
 "nbformat_minor": 5
}
