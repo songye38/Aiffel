{
 "cells": [
  {
   "cell_type": "markdown",
   "metadata": {},
   "source": [
    "# 20-2. 신경망 구성 (1) 개요"
   ]
  },
  {
   "cell_type": "code",
   "execution_count": 9,
   "metadata": {},
   "outputs": [
    {
     "name": "stdout",
     "output_type": "stream",
     "text": [
      "Model: \"sequential_1\"\n",
      "_________________________________________________________________\n",
      "Layer (type)                 Output Shape              Param #   \n",
      "=================================================================\n",
      "dense_2 (Dense)              (None, 50)                39250     \n",
      "_________________________________________________________________\n",
      "dense_3 (Dense)              (None, 10)                510       \n",
      "=================================================================\n",
      "Total params: 39,760\n",
      "Trainable params: 39,760\n",
      "Non-trainable params: 0\n",
      "_________________________________________________________________\n"
     ]
    },
    {
     "name": "stderr",
     "output_type": "stream",
     "text": [
      "2023-01-02 10:22:29.706591: I tensorflow/compiler/mlir/mlir_graph_optimization_pass.cc:185] None of the MLIR Optimization Passes are enabled (registered 2)\n"
     ]
    },
    {
     "name": "stdout",
     "output_type": "stream",
     "text": [
      "Epoch 1/10\n",
      "1875/1875 [==============================] - 2s 1ms/step - loss: 0.4960 - accuracy: 0.8814\n",
      "Epoch 2/10\n",
      "1875/1875 [==============================] - 2s 1ms/step - loss: 0.2344 - accuracy: 0.9341\n",
      "Epoch 3/10\n",
      "1875/1875 [==============================] - 2s 1ms/step - loss: 0.1836 - accuracy: 0.9480\n",
      "Epoch 4/10\n",
      "1875/1875 [==============================] - 2s 1ms/step - loss: 0.1527 - accuracy: 0.9565\n",
      "Epoch 5/10\n",
      "1875/1875 [==============================] - 2s 1ms/step - loss: 0.1304 - accuracy: 0.9622\n",
      "Epoch 6/10\n",
      "1875/1875 [==============================] - 2s 1ms/step - loss: 0.1134 - accuracy: 0.9677\n",
      "Epoch 7/10\n",
      "1875/1875 [==============================] - 2s 1ms/step - loss: 0.1007 - accuracy: 0.9714\n",
      "Epoch 8/10\n",
      "1875/1875 [==============================] - 2s 1ms/step - loss: 0.0903 - accuracy: 0.9747\n",
      "Epoch 9/10\n",
      "1875/1875 [==============================] - 3s 1ms/step - loss: 0.0813 - accuracy: 0.9769\n",
      "Epoch 10/10\n",
      "1875/1875 [==============================] - 3s 1ms/step - loss: 0.0737 - accuracy: 0.9793\n",
      "313/313 - 0s - loss: 0.0997 - accuracy: 0.9690\n",
      "test loss :  0.09969242662191391\n",
      "test accuracy :  0.968999981880188\n"
     ]
    }
   ],
   "source": [
    "import tensorflow as tf\n",
    "from tensorflow import keras\n",
    "import numpy as np\n",
    "import matplotlib.pyplot as plt\n",
    "\n",
    "mnist = keras.datasets.mnist\n",
    "(x_train,y_train),(x_test,y_test) = mnist.load_data()\n",
    "\n",
    "x_train_norm,x_test_norm = x_train / 255.0, x_test/255.0\n",
    "x_train_reshaped = x_train_norm.reshape(-1,x_train_norm.shape[1]*x_train_norm.shape[2])\n",
    "x_test_reshaped = x_test_norm.reshape(-1,x_test_norm.shape[1]*x_test_norm.shape[2])\n",
    "\n",
    "model = keras.models.Sequential()\n",
    "model.add(keras.layers.Dense(50,activation='sigmoid',input_shape=(784,)))\n",
    "model.add(keras.layers.Dense(10,activation='softmax'))\n",
    "model.summary()\n",
    "\n",
    "model.compile(optimizer='adam',\n",
    "             loss='sparse_categorical_crossentropy',\n",
    "             metrics=['accuracy'])\n",
    "model.fit(x_train_reshaped,y_train,epochs=10)\n",
    "\n",
    "test_loss,test_accuracy = model.evaluate(x_test_reshaped,y_test,verbose=2)\n",
    "print(\"test loss : \",test_loss)\n",
    "print(\"test accuracy : \",test_accuracy)"
   ]
  },
  {
   "cell_type": "code",
   "execution_count": 10,
   "metadata": {},
   "outputs": [
    {
     "name": "stdout",
     "output_type": "stream",
     "text": [
      "(60000, 784)\n"
     ]
    }
   ],
   "source": [
    "print(x_train_reshaped.shape)\n",
    "X = x_train_reshaped[:5]"
   ]
  },
  {
   "cell_type": "code",
   "execution_count": 15,
   "metadata": {},
   "outputs": [
    {
     "name": "stdout",
     "output_type": "stream",
     "text": [
      "W1.shape :  (784, 50)\n",
      "X.shape :  (5, 784)\n",
      "b1.shape :  (50,)\n",
      "a1.shape :  (5, 50)\n"
     ]
    },
    {
     "data": {
      "text/plain": [
       "array([-0.00983114, -1.37875475,  2.19819785,  0.77192578,  1.24863517,\n",
       "       -0.10566862, -0.24947469,  0.9485048 , -0.21018927,  0.12817412,\n",
       "        0.7433245 , -0.54282357,  0.68382561, -0.09827633, -0.21556477,\n",
       "        1.30108752, -1.02745443, -1.72860277,  0.1208033 , -1.45910584,\n",
       "        1.08195607,  0.5523474 , -0.14883073, -3.35666   ,  0.74584734,\n",
       "       -0.9273977 , -0.54132859, -0.67681383, -2.31960427,  1.18094583,\n",
       "       -0.77623608,  0.38338551,  0.99376231,  0.0689014 ,  0.32827914,\n",
       "       -1.26737175,  0.50676979,  0.51492602, -0.13623866, -0.54235793,\n",
       "       -0.74709541, -0.52307492, -0.31588569,  0.41915768, -0.61380269,\n",
       "        1.05405677,  1.01239322, -0.01143752,  0.28859183, -0.19265507])"
      ]
     },
     "execution_count": 15,
     "metadata": {},
     "output_type": "execute_result"
    }
   ],
   "source": [
    "weight_init_std = 0.1\n",
    "input_size = 784\n",
    "hidden_size = 50\n",
    "\n",
    "W1 = weight_init_std * np.random.randn(input_size,hidden_size)\n",
    "b1 = np.zeros(hidden_size)\n",
    "\n",
    "a1 = np.dot(X,W1) + b1\n",
    "\n",
    "print(\"W1.shape : \",W1.shape)\n",
    "print(\"X.shape : \",X.shape)\n",
    "print(\"b1.shape : \",b1.shape)\n",
    "print(\"a1.shape : \",a1.shape)\n",
    "a1[0]"
   ]
  },
  {
   "cell_type": "markdown",
   "metadata": {},
   "source": [
    "# 20-3. 신경망 구성 (2) 활성화 함수와 손실 함수"
   ]
  }
 ],
 "metadata": {
  "kernelspec": {
   "display_name": "aiffel",
   "language": "python",
   "name": "aiffel"
  },
  "language_info": {
   "codemirror_mode": {
    "name": "ipython",
    "version": 3
   },
   "file_extension": ".py",
   "mimetype": "text/x-python",
   "name": "python",
   "nbconvert_exporter": "python",
   "pygments_lexer": "ipython3",
   "version": "3.7.15"
  }
 },
 "nbformat": 4,
 "nbformat_minor": 4
}
