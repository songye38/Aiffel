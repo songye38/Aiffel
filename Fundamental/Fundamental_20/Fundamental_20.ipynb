{
 "cells": [
  {
   "cell_type": "markdown",
   "metadata": {},
   "source": [
    "# 20-2. 신경망 구성 (1) 개요"
   ]
  },
  {
   "cell_type": "code",
   "execution_count": 9,
   "metadata": {},
   "outputs": [
    {
     "name": "stdout",
     "output_type": "stream",
     "text": [
      "Model: \"sequential_1\"\n",
      "_________________________________________________________________\n",
      "Layer (type)                 Output Shape              Param #   \n",
      "=================================================================\n",
      "dense_2 (Dense)              (None, 50)                39250     \n",
      "_________________________________________________________________\n",
      "dense_3 (Dense)              (None, 10)                510       \n",
      "=================================================================\n",
      "Total params: 39,760\n",
      "Trainable params: 39,760\n",
      "Non-trainable params: 0\n",
      "_________________________________________________________________\n"
     ]
    },
    {
     "name": "stderr",
     "output_type": "stream",
     "text": [
      "2023-01-02 10:22:29.706591: I tensorflow/compiler/mlir/mlir_graph_optimization_pass.cc:185] None of the MLIR Optimization Passes are enabled (registered 2)\n"
     ]
    },
    {
     "name": "stdout",
     "output_type": "stream",
     "text": [
      "Epoch 1/10\n",
      "1875/1875 [==============================] - 2s 1ms/step - loss: 0.4960 - accuracy: 0.8814\n",
      "Epoch 2/10\n",
      "1875/1875 [==============================] - 2s 1ms/step - loss: 0.2344 - accuracy: 0.9341\n",
      "Epoch 3/10\n",
      "1875/1875 [==============================] - 2s 1ms/step - loss: 0.1836 - accuracy: 0.9480\n",
      "Epoch 4/10\n",
      "1875/1875 [==============================] - 2s 1ms/step - loss: 0.1527 - accuracy: 0.9565\n",
      "Epoch 5/10\n",
      "1875/1875 [==============================] - 2s 1ms/step - loss: 0.1304 - accuracy: 0.9622\n",
      "Epoch 6/10\n",
      "1875/1875 [==============================] - 2s 1ms/step - loss: 0.1134 - accuracy: 0.9677\n",
      "Epoch 7/10\n",
      "1875/1875 [==============================] - 2s 1ms/step - loss: 0.1007 - accuracy: 0.9714\n",
      "Epoch 8/10\n",
      "1875/1875 [==============================] - 2s 1ms/step - loss: 0.0903 - accuracy: 0.9747\n",
      "Epoch 9/10\n",
      "1875/1875 [==============================] - 3s 1ms/step - loss: 0.0813 - accuracy: 0.9769\n",
      "Epoch 10/10\n",
      "1875/1875 [==============================] - 3s 1ms/step - loss: 0.0737 - accuracy: 0.9793\n",
      "313/313 - 0s - loss: 0.0997 - accuracy: 0.9690\n",
      "test loss :  0.09969242662191391\n",
      "test accuracy :  0.968999981880188\n"
     ]
    }
   ],
   "source": [
    "import tensorflow as tf\n",
    "from tensorflow import keras\n",
    "import numpy as np\n",
    "import matplotlib.pyplot as plt\n",
    "\n",
    "mnist = keras.datasets.mnist\n",
    "(x_train,y_train),(x_test,y_test) = mnist.load_data()\n",
    "\n",
    "x_train_norm,x_test_norm = x_train / 255.0, x_test/255.0\n",
    "x_train_reshaped = x_train_norm.reshape(-1,x_train_norm.shape[1]*x_train_norm.shape[2])\n",
    "x_test_reshaped = x_test_norm.reshape(-1,x_test_norm.shape[1]*x_test_norm.shape[2])\n",
    "\n",
    "model = keras.models.Sequential()\n",
    "model.add(keras.layers.Dense(50,activation='sigmoid',input_shape=(784,)))\n",
    "model.add(keras.layers.Dense(10,activation='softmax'))\n",
    "model.summary()\n",
    "\n",
    "model.compile(optimizer='adam',\n",
    "             loss='sparse_categorical_crossentropy',\n",
    "             metrics=['accuracy'])\n",
    "model.fit(x_train_reshaped,y_train,epochs=10)\n",
    "\n",
    "test_loss,test_accuracy = model.evaluate(x_test_reshaped,y_test,verbose=2)\n",
    "print(\"test loss : \",test_loss)\n",
    "print(\"test accuracy : \",test_accuracy)"
   ]
  },
  {
   "cell_type": "code",
   "execution_count": 10,
   "metadata": {},
   "outputs": [
    {
     "name": "stdout",
     "output_type": "stream",
     "text": [
      "(60000, 784)\n"
     ]
    }
   ],
   "source": [
    "print(x_train_reshaped.shape)\n",
    "X = x_train_reshaped[:5]"
   ]
  },
  {
   "cell_type": "code",
   "execution_count": 15,
   "metadata": {},
   "outputs": [
    {
     "name": "stdout",
     "output_type": "stream",
     "text": [
      "W1.shape :  (784, 50)\n",
      "X.shape :  (5, 784)\n",
      "b1.shape :  (50,)\n",
      "a1.shape :  (5, 50)\n"
     ]
    },
    {
     "data": {
      "text/plain": [
       "array([-0.00983114, -1.37875475,  2.19819785,  0.77192578,  1.24863517,\n",
       "       -0.10566862, -0.24947469,  0.9485048 , -0.21018927,  0.12817412,\n",
       "        0.7433245 , -0.54282357,  0.68382561, -0.09827633, -0.21556477,\n",
       "        1.30108752, -1.02745443, -1.72860277,  0.1208033 , -1.45910584,\n",
       "        1.08195607,  0.5523474 , -0.14883073, -3.35666   ,  0.74584734,\n",
       "       -0.9273977 , -0.54132859, -0.67681383, -2.31960427,  1.18094583,\n",
       "       -0.77623608,  0.38338551,  0.99376231,  0.0689014 ,  0.32827914,\n",
       "       -1.26737175,  0.50676979,  0.51492602, -0.13623866, -0.54235793,\n",
       "       -0.74709541, -0.52307492, -0.31588569,  0.41915768, -0.61380269,\n",
       "        1.05405677,  1.01239322, -0.01143752,  0.28859183, -0.19265507])"
      ]
     },
     "execution_count": 15,
     "metadata": {},
     "output_type": "execute_result"
    }
   ],
   "source": [
    "weight_init_std = 0.1\n",
    "input_size = 784\n",
    "hidden_size = 50\n",
    "\n",
    "W1 = weight_init_std * np.random.randn(input_size,hidden_size)\n",
    "b1 = np.zeros(hidden_size)\n",
    "\n",
    "a1 = np.dot(X,W1) + b1\n",
    "\n",
    "print(\"W1.shape : \",W1.shape)\n",
    "print(\"X.shape : \",X.shape)\n",
    "print(\"b1.shape : \",b1.shape)\n",
    "print(\"a1.shape : \",a1.shape)\n",
    "a1[0]"
   ]
  },
  {
   "cell_type": "markdown",
   "metadata": {},
   "source": [
    "# 20-3. 신경망 구성 (2) 활성화 함수와 손실 함수"
   ]
  },
  {
   "cell_type": "code",
   "execution_count": 20,
   "metadata": {},
   "outputs": [
    {
     "name": "stdout",
     "output_type": "stream",
     "text": [
      "[0.49754224 0.20120907 0.90008756 0.68393733 0.77706351 0.4736074\n",
      " 0.4379528  0.72081438 0.44764529 0.53199973 0.6777224  0.36753099\n",
      " 0.664592   0.47545067 0.44631653 0.78601795 0.26357791 0.15076639\n",
      " 0.53016415 0.18860412 0.74686397 0.63468004 0.46286085 0.03367775\n",
      " 0.67827318 0.28345296 0.36787857 0.33697279 0.08951231 0.76511782\n",
      " 0.31513166 0.59468939 0.72983041 0.51721854 0.58134061 0.2197075\n",
      " 0.62404893 0.62596054 0.46599292 0.36763924 0.32145453 0.3721335\n",
      " 0.42167876 0.60328167 0.35119224 0.74155315 0.73348824 0.49714065\n",
      " 0.57165135 0.45198465]\n"
     ]
    },
    {
     "data": {
      "text/plain": [
       "[<matplotlib.lines.Line2D at 0x7f90342df4d0>]"
      ]
     },
     "execution_count": 20,
     "metadata": {},
     "output_type": "execute_result"
    },
    {
     "data": {
      "image/png": "[encoded data removed]",
      "text/plain": [
       "<Figure size 432x288 with 1 Axes>"
      ]
     },
     "metadata": {
      "needs_background": "light"
     },
     "output_type": "display_data"
    }
   ],
   "source": [
    "def sigmoid(x):\n",
    "    return 1 / (1 + np.exp(-x))\n",
    "\n",
    "z1 = sigmoid(a1)\n",
    "print(z1[0])\n",
    "plt.plot(z1[1])"
   ]
  },
  {
   "cell_type": "code",
   "execution_count": 23,
   "metadata": {},
   "outputs": [
    {
     "name": "stdout",
     "output_type": "stream",
     "text": [
      "[-0.00983082 -0.88067212  0.97565661  0.64804786  0.84790048 -0.10527707\n",
      " -0.2444248   0.7391054  -0.20714766  0.12747679  0.63114954 -0.49512233\n",
      "  0.59400082 -0.09796115 -0.21228672  0.86200286 -0.77288539 -0.9388906\n",
      "  0.12021907 -0.89747879  0.79392335  0.50227748 -0.14774149 -0.9975737\n",
      "  0.632665   -0.72937831 -0.493993   -0.58944414 -0.98085436  0.82774962\n",
      " -0.650541    0.36564398  0.75896202  0.06879257  0.31697366 -0.85308372\n",
      "  0.46742456  0.47377442 -0.13540196 -0.49477076 -0.63341292 -0.48006975\n",
      " -0.30578201  0.39622058 -0.54679837  0.78337855  0.76675006 -0.01143702\n",
      "  0.28083822 -0.1903064 ]\n"
     ]
    }
   ],
   "source": [
    "def tanh(x):\n",
    "    return (np.exp(x) - np.exp(-x)) / (np.exp(x) + np.exp(-x))\n",
    "\n",
    "z1 = tanh(a1)\n",
    "print(z1[0])"
   ]
  },
  {
   "cell_type": "code",
   "execution_count": 26,
   "metadata": {},
   "outputs": [
    {
     "name": "stdout",
     "output_type": "stream",
     "text": [
      "[0.         0.         2.19819785 0.77192578 1.24863517 0.\n",
      " 0.         0.9485048  0.         0.12817412 0.7433245  0.\n",
      " 0.68382561 0.         0.         1.30108752 0.         0.\n",
      " 0.1208033  0.         1.08195607 0.5523474  0.         0.\n",
      " 0.74584734 0.         0.         0.         0.         1.18094583\n",
      " 0.         0.38338551 0.99376231 0.0689014  0.32827914 0.\n",
      " 0.50676979 0.51492602 0.         0.         0.         0.\n",
      " 0.         0.41915768 0.         1.05405677 1.01239322 0.\n",
      " 0.28859183 0.        ]\n"
     ]
    }
   ],
   "source": [
    "def relu(x):\n",
    "    return np.maximum(0,x)\n",
    "\n",
    "z1 = relu(a1)\n",
    "print(z1[0])"
   ]
  },
  {
   "cell_type": "code",
   "execution_count": 27,
   "metadata": {},
   "outputs": [],
   "source": [
    "def affine_layer_forward(X,W,b):\n",
    "    y = np.dot(X,W)+b\n",
    "    cache = (X,W,b)\n",
    "    return y,cache"
   ]
  },
  {
   "cell_type": "code",
   "execution_count": 28,
   "metadata": {},
   "outputs": [
    {
     "name": "stdout",
     "output_type": "stream",
     "text": [
      "[-0.07565537  0.66931716 -0.06383238  0.18598627  0.4081618   0.44400335\n",
      " -0.23826418  0.53405979 -0.3570466   0.0258708 ]\n"
     ]
    }
   ],
   "source": [
    "input_size = 784\n",
    "hidden_size = 50\n",
    "output_size = 10\n",
    "\n",
    "W1 = weight_init_std * np.random.randn(input_size,hidden_size)\n",
    "b1 = np.zeros(hidden_size)\n",
    "W2 = weight_init_std * np.random.randn(hidden_size,output_size)\n",
    "b2 = np.zeros(output_size)\n",
    "\n",
    "a1,cache = affine_layer_forward(X,W1,b1)\n",
    "z1 = sigmoid(a1)\n",
    "a2,cache = affine_layer_forward(z1,W2,b2)"
   ]
  },
  {
   "cell_type": "code",
   "execution_count": 41,
   "metadata": {},
   "outputs": [],
   "source": [
    "def softmax(x):\n",
    "    if x.ndim==2:\n",
    "        x = x.T\n",
    "        x = x-np.max(x,axis=0)\n",
    "        y = np.exp(x) / np.sum(np.exp(x),axis=0)\n",
    "        return y.T\n",
    "    x = x-np.max(x)\n",
    "    return np.exp(x) / np.sum(np.exp(x))"
   ]
  },
  {
   "cell_type": "code",
   "execution_count": 42,
   "metadata": {},
   "outputs": [
    {
     "data": {
      "text/plain": [
       "array([0.07534393, 0.15870322, 0.07624001, 0.09787636, 0.12222707,\n",
       "       0.12668733, 0.06403659, 0.13862584, 0.05686455, 0.0833951 ])"
      ]
     },
     "execution_count": 42,
     "metadata": {},
     "output_type": "execute_result"
    }
   ],
   "source": [
    "y_hat = softmax(a2)\n",
    "y_hat[0]"
   ]
  },
  {
   "cell_type": "code",
   "execution_count": 58,
   "metadata": {},
   "outputs": [],
   "source": [
    "def _change_one_hot_label(X,num_category):\n",
    "    T = np.zeros((X.size,num_category))\n",
    "    for idx,row in enumerate(T):\n",
    "        row[X[idx]] = 1\n",
    "        \n",
    "    return T"
   ]
  },
  {
   "cell_type": "code",
   "execution_count": 60,
   "metadata": {},
   "outputs": [
    {
     "data": {
      "text/plain": [
       "array([[0., 0., 0., 0., 0., 1., 0., 0., 0., 0.],\n",
       "       [1., 0., 0., 0., 0., 0., 0., 0., 0., 0.],\n",
       "       [0., 0., 0., 0., 1., 0., 0., 0., 0., 0.],\n",
       "       [0., 1., 0., 0., 0., 0., 0., 0., 0., 0.],\n",
       "       [0., 0., 0., 0., 0., 0., 0., 0., 0., 1.]])"
      ]
     },
     "execution_count": 60,
     "metadata": {},
     "output_type": "execute_result"
    }
   ],
   "source": [
    "Y_digit = y_train[:5]\n",
    "t = _change_one_hot_label(Y_digit,10)\n",
    "t"
   ]
  },
  {
   "cell_type": "code",
   "execution_count": 96,
   "metadata": {},
   "outputs": [],
   "source": [
    "#cross entropy 손실함수를 이용해 실제결과값과 예측값의 loss를 계산하고 이 값을 줄일 수 있는 방향으로 학습한다.\n",
    "\n",
    "def cross_entropy_error(y,t):\n",
    "    if y.ndim==1:\n",
    "        t = t.reshape(1,t.size)\n",
    "        y = y.reshape(1,y.size)\n",
    "        \n",
    "    if t.size==y.size:\n",
    "        t = t.argmax(axis=1)\n",
    "\n",
    "    \n",
    "    batch_size = y.shape[0]\n",
    "    return -np.sum(np.log(y[np.arange(batch_size),t])) / batch_size"
   ]
  },
  {
   "cell_type": "code",
   "execution_count": 97,
   "metadata": {},
   "outputs": [
    {
     "data": {
      "text/plain": [
       "2.186593207470544"
      ]
     },
     "execution_count": 97,
     "metadata": {},
     "output_type": "execute_result"
    }
   ],
   "source": [
    "Loss = cross_entropy_error(y_hat,t)\n",
    "Loss"
   ]
  },
  {
   "cell_type": "code",
   "execution_count": null,
   "metadata": {},
   "outputs": [],
   "source": []
  }
 ],
 "metadata": {
  "kernelspec": {
   "display_name": "aiffel",
   "language": "python",
   "name": "aiffel"
  },
  "language_info": {
   "codemirror_mode": {
    "name": "ipython",
    "version": 3
   },
   "file_extension": ".py",
   "mimetype": "text/x-python",
   "name": "python",
   "nbconvert_exporter": "python",
   "pygments_lexer": "ipython3",
   "version": "3.7.15"
  }
 },
 "nbformat": 4,
 "nbformat_minor": 4
}
