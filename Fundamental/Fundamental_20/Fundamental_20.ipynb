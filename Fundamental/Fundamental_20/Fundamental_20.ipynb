{
 "cells": [
  {
   "cell_type": "markdown",
   "metadata": {},
   "source": [
    "# 20-2. 신경망 구성 (1) 개요"
   ]
  },
  {
   "cell_type": "code",
   "execution_count": 9,
   "metadata": {},
   "outputs": [
    {
     "name": "stdout",
     "output_type": "stream",
     "text": [
      "Model: \"sequential_1\"\n",
      "_________________________________________________________________\n",
      "Layer (type)                 Output Shape              Param #   \n",
      "=================================================================\n",
      "dense_2 (Dense)              (None, 50)                39250     \n",
      "_________________________________________________________________\n",
      "dense_3 (Dense)              (None, 10)                510       \n",
      "=================================================================\n",
      "Total params: 39,760\n",
      "Trainable params: 39,760\n",
      "Non-trainable params: 0\n",
      "_________________________________________________________________\n"
     ]
    },
    {
     "name": "stderr",
     "output_type": "stream",
     "text": [
      "2023-01-02 10:22:29.706591: I tensorflow/compiler/mlir/mlir_graph_optimization_pass.cc:185] None of the MLIR Optimization Passes are enabled (registered 2)\n"
     ]
    },
    {
     "name": "stdout",
     "output_type": "stream",
     "text": [
      "Epoch 1/10\n",
      "1875/1875 [==============================] - 2s 1ms/step - loss: 0.4960 - accuracy: 0.8814\n",
      "Epoch 2/10\n",
      "1875/1875 [==============================] - 2s 1ms/step - loss: 0.2344 - accuracy: 0.9341\n",
      "Epoch 3/10\n",
      "1875/1875 [==============================] - 2s 1ms/step - loss: 0.1836 - accuracy: 0.9480\n",
      "Epoch 4/10\n",
      "1875/1875 [==============================] - 2s 1ms/step - loss: 0.1527 - accuracy: 0.9565\n",
      "Epoch 5/10\n",
      "1875/1875 [==============================] - 2s 1ms/step - loss: 0.1304 - accuracy: 0.9622\n",
      "Epoch 6/10\n",
      "1875/1875 [==============================] - 2s 1ms/step - loss: 0.1134 - accuracy: 0.9677\n",
      "Epoch 7/10\n",
      "1875/1875 [==============================] - 2s 1ms/step - loss: 0.1007 - accuracy: 0.9714\n",
      "Epoch 8/10\n",
      "1875/1875 [==============================] - 2s 1ms/step - loss: 0.0903 - accuracy: 0.9747\n",
      "Epoch 9/10\n",
      "1875/1875 [==============================] - 3s 1ms/step - loss: 0.0813 - accuracy: 0.9769\n",
      "Epoch 10/10\n",
      "1875/1875 [==============================] - 3s 1ms/step - loss: 0.0737 - accuracy: 0.9793\n",
      "313/313 - 0s - loss: 0.0997 - accuracy: 0.9690\n",
      "test loss :  0.09969242662191391\n",
      "test accuracy :  0.968999981880188\n"
     ]
    }
   ],
   "source": [
    "import tensorflow as tf\n",
    "from tensorflow import keras\n",
    "import numpy as np\n",
    "import matplotlib.pyplot as plt\n",
    "\n",
    "mnist = keras.datasets.mnist\n",
    "(x_train,y_train),(x_test,y_test) = mnist.load_data()\n",
    "\n",
    "x_train_norm,x_test_norm = x_train / 255.0, x_test/255.0\n",
    "x_train_reshaped = x_train_norm.reshape(-1,x_train_norm.shape[1]*x_train_norm.shape[2])\n",
    "x_test_reshaped = x_test_norm.reshape(-1,x_test_norm.shape[1]*x_test_norm.shape[2])\n",
    "\n",
    "model = keras.models.Sequential()\n",
    "model.add(keras.layers.Dense(50,activation='sigmoid',input_shape=(784,)))\n",
    "model.add(keras.layers.Dense(10,activation='softmax'))\n",
    "model.summary()\n",
    "\n",
    "model.compile(optimizer='adam',\n",
    "             loss='sparse_categorical_crossentropy',\n",
    "             metrics=['accuracy'])\n",
    "model.fit(x_train_reshaped,y_train,epochs=10)\n",
    "\n",
    "test_loss,test_accuracy = model.evaluate(x_test_reshaped,y_test,verbose=2)\n",
    "print(\"test loss : \",test_loss)\n",
    "print(\"test accuracy : \",test_accuracy)"
   ]
  },
  {
   "cell_type": "code",
   "execution_count": 10,
   "metadata": {},
   "outputs": [
    {
     "name": "stdout",
     "output_type": "stream",
     "text": [
      "(60000, 784)\n"
     ]
    }
   ],
   "source": [
    "print(x_train_reshaped.shape)\n",
    "X = x_train_reshaped[:5]"
   ]
  },
  {
   "cell_type": "code",
   "execution_count": 15,
   "metadata": {},
   "outputs": [
    {
     "name": "stdout",
     "output_type": "stream",
     "text": [
      "W1.shape :  (784, 50)\n",
      "X.shape :  (5, 784)\n",
      "b1.shape :  (50,)\n",
      "a1.shape :  (5, 50)\n"
     ]
    },
    {
     "data": {
      "text/plain": [
       "array([-0.00983114, -1.37875475,  2.19819785,  0.77192578,  1.24863517,\n",
       "       -0.10566862, -0.24947469,  0.9485048 , -0.21018927,  0.12817412,\n",
       "        0.7433245 , -0.54282357,  0.68382561, -0.09827633, -0.21556477,\n",
       "        1.30108752, -1.02745443, -1.72860277,  0.1208033 , -1.45910584,\n",
       "        1.08195607,  0.5523474 , -0.14883073, -3.35666   ,  0.74584734,\n",
       "       -0.9273977 , -0.54132859, -0.67681383, -2.31960427,  1.18094583,\n",
       "       -0.77623608,  0.38338551,  0.99376231,  0.0689014 ,  0.32827914,\n",
       "       -1.26737175,  0.50676979,  0.51492602, -0.13623866, -0.54235793,\n",
       "       -0.74709541, -0.52307492, -0.31588569,  0.41915768, -0.61380269,\n",
       "        1.05405677,  1.01239322, -0.01143752,  0.28859183, -0.19265507])"
      ]
     },
     "execution_count": 15,
     "metadata": {},
     "output_type": "execute_result"
    }
   ],
   "source": [
    "weight_init_std = 0.1\n",
    "input_size = 784\n",
    "hidden_size = 50\n",
    "\n",
    "W1 = weight_init_std * np.random.randn(input_size,hidden_size)\n",
    "b1 = np.zeros(hidden_size)\n",
    "\n",
    "a1 = np.dot(X,W1) + b1\n",
    "\n",
    "print(\"W1.shape : \",W1.shape)\n",
    "print(\"X.shape : \",X.shape)\n",
    "print(\"b1.shape : \",b1.shape)\n",
    "print(\"a1.shape : \",a1.shape)\n",
    "a1[0]"
   ]
  },
  {
   "cell_type": "markdown",
   "metadata": {},
   "source": [
    "# 20-3. 신경망 구성 (2) 활성화 함수와 손실 함수"
   ]
  },
  {
   "cell_type": "code",
   "execution_count": 20,
   "metadata": {},
   "outputs": [
    {
     "name": "stdout",
     "output_type": "stream",
     "text": [
      "[0.49754224 0.20120907 0.90008756 0.68393733 0.77706351 0.4736074\n",
      " 0.4379528  0.72081438 0.44764529 0.53199973 0.6777224  0.36753099\n",
      " 0.664592   0.47545067 0.44631653 0.78601795 0.26357791 0.15076639\n",
      " 0.53016415 0.18860412 0.74686397 0.63468004 0.46286085 0.03367775\n",
      " 0.67827318 0.28345296 0.36787857 0.33697279 0.08951231 0.76511782\n",
      " 0.31513166 0.59468939 0.72983041 0.51721854 0.58134061 0.2197075\n",
      " 0.62404893 0.62596054 0.46599292 0.36763924 0.32145453 0.3721335\n",
      " 0.42167876 0.60328167 0.35119224 0.74155315 0.73348824 0.49714065\n",
      " 0.57165135 0.45198465]\n"
     ]
    },
    {
     "data": {
      "text/plain": [
       "[<matplotlib.lines.Line2D at 0x7f90342df4d0>]"
      ]
     },
     "execution_count": 20,
     "metadata": {},
     "output_type": "execute_result"
    },
    {
     "data": {
      "image/png": "[encoded data removed]",
      "text/plain": [
       "<Figure size 432x288 with 1 Axes>"
      ]
     },
     "metadata": {
      "needs_background": "light"
     },
     "output_type": "display_data"
    }
   ],
   "source": [
    "def sigmoid(x):\n",
    "    return 1 / (1 + np.exp(-x))\n",
    "\n",
    "z1 = sigmoid(a1)\n",
    "print(z1[0])\n",
    "plt.plot(z1[1])"
   ]
  },
  {
   "cell_type": "code",
   "execution_count": 23,
   "metadata": {},
   "outputs": [
    {
     "name": "stdout",
     "output_type": "stream",
     "text": [
      "[-0.00983082 -0.88067212  0.97565661  0.64804786  0.84790048 -0.10527707\n",
      " -0.2444248   0.7391054  -0.20714766  0.12747679  0.63114954 -0.49512233\n",
      "  0.59400082 -0.09796115 -0.21228672  0.86200286 -0.77288539 -0.9388906\n",
      "  0.12021907 -0.89747879  0.79392335  0.50227748 -0.14774149 -0.9975737\n",
      "  0.632665   -0.72937831 -0.493993   -0.58944414 -0.98085436  0.82774962\n",
      " -0.650541    0.36564398  0.75896202  0.06879257  0.31697366 -0.85308372\n",
      "  0.46742456  0.47377442 -0.13540196 -0.49477076 -0.63341292 -0.48006975\n",
      " -0.30578201  0.39622058 -0.54679837  0.78337855  0.76675006 -0.01143702\n",
      "  0.28083822 -0.1903064 ]\n"
     ]
    }
   ],
   "source": [
    "def tanh(x):\n",
    "    return (np.exp(x) - np.exp(-x)) / (np.exp(x) + np.exp(-x))\n",
    "\n",
    "z1 = tanh(a1)\n",
    "print(z1[0])"
   ]
  },
  {
   "cell_type": "code",
   "execution_count": 26,
   "metadata": {},
   "outputs": [
    {
     "name": "stdout",
     "output_type": "stream",
     "text": [
      "[0.         0.         2.19819785 0.77192578 1.24863517 0.\n",
      " 0.         0.9485048  0.         0.12817412 0.7433245  0.\n",
      " 0.68382561 0.         0.         1.30108752 0.         0.\n",
      " 0.1208033  0.         1.08195607 0.5523474  0.         0.\n",
      " 0.74584734 0.         0.         0.         0.         1.18094583\n",
      " 0.         0.38338551 0.99376231 0.0689014  0.32827914 0.\n",
      " 0.50676979 0.51492602 0.         0.         0.         0.\n",
      " 0.         0.41915768 0.         1.05405677 1.01239322 0.\n",
      " 0.28859183 0.        ]\n"
     ]
    }
   ],
   "source": [
    "def relu(x):\n",
    "    return np.maximum(0,x)\n",
    "\n",
    "z1 = relu(a1)\n",
    "print(z1[0])"
   ]
  },
  {
   "cell_type": "code",
   "execution_count": 27,
   "metadata": {},
   "outputs": [],
   "source": [
    "def affine_layer_forward(X,W,b):\n",
    "    y = np.dot(X,W)+b\n",
    "    cache = (X,W,b)\n",
    "    return y,cache"
   ]
  },
  {
   "cell_type": "code",
   "execution_count": 112,
   "metadata": {},
   "outputs": [],
   "source": [
    "input_size = 784\n",
    "hidden_size = 50\n",
    "output_size = 10\n",
    "\n",
    "W1 = weight_init_std * np.random.randn(input_size,hidden_size)\n",
    "b1 = np.zeros(hidden_size)\n",
    "W2 = weight_init_std * np.random.randn(hidden_size,output_size)\n",
    "b2 = np.zeros(output_size)\n",
    "\n",
    "a1,cache1 = affine_layer_forward(X,W1,b1)\n",
    "z1 = sigmoid(a1)\n",
    "a2,cache2 = affine_layer_forward(z1,W2,b2)"
   ]
  },
  {
   "cell_type": "code",
   "execution_count": 41,
   "metadata": {},
   "outputs": [],
   "source": [
    "def softmax(x):\n",
    "    if x.ndim==2:\n",
    "        x = x.T\n",
    "        x = x-np.max(x,axis=0)\n",
    "        y = np.exp(x) / np.sum(np.exp(x),axis=0)\n",
    "        return y.T\n",
    "    x = x-np.max(x)\n",
    "    return np.exp(x) / np.sum(np.exp(x))"
   ]
  },
  {
   "cell_type": "code",
   "execution_count": 42,
   "metadata": {},
   "outputs": [
    {
     "data": {
      "text/plain": [
       "array([0.07534393, 0.15870322, 0.07624001, 0.09787636, 0.12222707,\n",
       "       0.12668733, 0.06403659, 0.13862584, 0.05686455, 0.0833951 ])"
      ]
     },
     "execution_count": 42,
     "metadata": {},
     "output_type": "execute_result"
    }
   ],
   "source": [
    "y_hat = softmax(a2)\n",
    "y_hat[0]"
   ]
  },
  {
   "cell_type": "code",
   "execution_count": 58,
   "metadata": {},
   "outputs": [],
   "source": [
    "def _change_one_hot_label(X,num_category):\n",
    "    T = np.zeros((X.size,num_category))\n",
    "    for idx,row in enumerate(T):\n",
    "        row[X[idx]] = 1\n",
    "        \n",
    "    return T"
   ]
  },
  {
   "cell_type": "code",
   "execution_count": 60,
   "metadata": {},
   "outputs": [
    {
     "data": {
      "text/plain": [
       "array([[0., 0., 0., 0., 0., 1., 0., 0., 0., 0.],\n",
       "       [1., 0., 0., 0., 0., 0., 0., 0., 0., 0.],\n",
       "       [0., 0., 0., 0., 1., 0., 0., 0., 0., 0.],\n",
       "       [0., 1., 0., 0., 0., 0., 0., 0., 0., 0.],\n",
       "       [0., 0., 0., 0., 0., 0., 0., 0., 0., 1.]])"
      ]
     },
     "execution_count": 60,
     "metadata": {},
     "output_type": "execute_result"
    }
   ],
   "source": [
    "Y_digit = y_train[:5]\n",
    "t = _change_one_hot_label(Y_digit,10)\n",
    "t"
   ]
  },
  {
   "cell_type": "code",
   "execution_count": 96,
   "metadata": {},
   "outputs": [],
   "source": [
    "#cross entropy 손실함수를 이용해 실제결과값과 예측값의 loss를 계산하고 이 값을 줄일 수 있는 방향으로 학습한다.\n",
    "\n",
    "def cross_entropy_error(y,t):\n",
    "    if y.ndim==1:\n",
    "        t = t.reshape(1,t.size)\n",
    "        y = y.reshape(1,y.size)\n",
    "        \n",
    "    if t.size==y.size:\n",
    "        t = t.argmax(axis=1)\n",
    "\n",
    "    \n",
    "    batch_size = y.shape[0]\n",
    "    return -np.sum(np.log(y[np.arange(batch_size),t])) / batch_size"
   ]
  },
  {
   "cell_type": "code",
   "execution_count": 97,
   "metadata": {},
   "outputs": [
    {
     "data": {
      "text/plain": [
       "2.186593207470544"
      ]
     },
     "execution_count": 97,
     "metadata": {},
     "output_type": "execute_result"
    }
   ],
   "source": [
    "Loss = cross_entropy_error(y_hat,t)\n",
    "Loss"
   ]
  },
  {
   "cell_type": "markdown",
   "metadata": {},
   "source": [
    "# 20-4. 경사하강법"
   ]
  },
  {
   "cell_type": "code",
   "execution_count": 105,
   "metadata": {},
   "outputs": [
    {
     "name": "stdout",
     "output_type": "stream",
     "text": [
      "5\n"
     ]
    },
    {
     "data": {
      "text/plain": [
       "array([[ 0.01506879,  0.03174064,  0.015248  ,  0.01957527,  0.02444541,\n",
       "        -0.17466253,  0.01280732,  0.02772517,  0.01137291,  0.01667902],\n",
       "       [-0.18420489,  0.02799031,  0.01744223,  0.01891431,  0.0229957 ,\n",
       "         0.02340575,  0.01669368,  0.02914362,  0.00985972,  0.01775956],\n",
       "       [ 0.01560888,  0.02744953,  0.01755581,  0.02263891, -0.17686232,\n",
       "         0.02217364,  0.01416856,  0.03141728,  0.01016076,  0.01568895],\n",
       "       [ 0.01609322, -0.16784581,  0.01575253,  0.0184427 ,  0.02284969,\n",
       "         0.02042493,  0.01384904,  0.02865597,  0.01404217,  0.01773555],\n",
       "       [ 0.01726354,  0.02668783,  0.0158202 ,  0.0277324 ,  0.02332907,\n",
       "         0.02151644,  0.01352817,  0.0236047 ,  0.01132303, -0.18080537]])"
      ]
     },
     "execution_count": 105,
     "metadata": {},
     "output_type": "execute_result"
    }
   ],
   "source": [
    "batch_num = y_hat.shape[0]\n",
    "print(batch_num)\n",
    "dy = (y_hat - t) / batch_num\n",
    "print(dy)"
   ]
  },
  {
   "cell_type": "code",
   "execution_count": 100,
   "metadata": {},
   "outputs": [
    {
     "data": {
      "text/plain": [
       "array([[-0.01067732, -0.01920638,  0.02854317,  0.03686459, -0.02774051,\n",
       "        -0.09270233,  0.02443947,  0.05019093,  0.02039624, -0.01010786],\n",
       "       [-0.09791141, -0.01464798,  0.05608974,  0.07365948, -0.0956693 ,\n",
       "        -0.02250507,  0.04867819,  0.09597529,  0.037831  , -0.08149992],\n",
       "       [-0.07187931, -0.01751453,  0.05993537,  0.0788036 , -0.06845366,\n",
       "        -0.10206874,  0.05178049,  0.1033354 ,  0.04148806, -0.07542668],\n",
       "       [-0.12146439, -0.02732868,  0.0565187 ,  0.07198482, -0.04030176,\n",
       "        -0.08888639,  0.04943567,  0.09772135,  0.03885344, -0.03653276],\n",
       "       [-0.08835308, -0.01242712,  0.05255709,  0.06915839, -0.08085345,\n",
       "        -0.03295651,  0.04560331,  0.08993989,  0.03561013, -0.07827865],\n",
       "       [-0.05893013, -0.03908907,  0.05684056,  0.07599438, -0.03773019,\n",
       "        -0.07722548,  0.04921039,  0.09725635,  0.04005317, -0.10637999],\n",
       "       [-0.05447241, -0.01325283,  0.03389502,  0.04502784, -0.0071846 ,\n",
       "        -0.05270054,  0.02955384,  0.05781031,  0.02369119, -0.06236782],\n",
       "       [-0.03740765, -0.03812893,  0.03973882,  0.05506599, -0.04548183,\n",
       "         0.0238784 ,  0.0344056 ,  0.06664402,  0.02776381, -0.12647823],\n",
       "       [-0.0393448 , -0.03014681,  0.05420375,  0.07254151, -0.07688399,\n",
       "        -0.06426312,  0.04660036,  0.09308352,  0.0378006 , -0.09359103],\n",
       "       [-0.0446532 , -0.03650006,  0.04596552,  0.06149967, -0.06826172,\n",
       "        -0.02164008,  0.03966546,  0.07859913,  0.0319394 , -0.08661413],\n",
       "       [-0.10811779, -0.08917375,  0.04464453,  0.05608596,  0.00906797,\n",
       "        -0.03090055,  0.03951167,  0.07708351,  0.03187561, -0.03007716],\n",
       "       [-0.07444579, -0.00075409,  0.02725443,  0.03501343, -0.03618317,\n",
       "        -0.00967226,  0.02392344,  0.04657451,  0.01806392, -0.02977443],\n",
       "       [-0.05027291, -0.0477552 ,  0.05588903,  0.07507648, -0.0388524 ,\n",
       "        -0.06480939,  0.04834316,  0.09550959,  0.03956314, -0.1126915 ],\n",
       "       [-0.10389279, -0.02041746,  0.04399144,  0.05481908, -0.04852281,\n",
       "        -0.07088947,  0.03848266,  0.07665128,  0.02991132, -0.00013325],\n",
       "       [-0.10316483, -0.00839423,  0.04646336,  0.06005694, -0.04907592,\n",
       "        -0.04617452,  0.04060707,  0.07970395,  0.03143392, -0.05145573],\n",
       "       [-0.04713143, -0.00786449,  0.05438625,  0.07235281, -0.08299481,\n",
       "        -0.08604763,  0.04672971,  0.09363852,  0.03749977, -0.08056871],\n",
       "       [-0.0600864 , -0.04830937,  0.04477403,  0.0590004 ,  0.01040759,\n",
       "        -0.08219308,  0.03906448,  0.07683234,  0.03215871, -0.0716487 ],\n",
       "       [-0.11399341, -0.00230569,  0.04342104,  0.05584013, -0.02753856,\n",
       "        -0.04977595,  0.03816334,  0.07431655,  0.0293051 , -0.04743255],\n",
       "       [ 0.00185557, -0.03727731,  0.02593426,  0.03484987, -0.06162073,\n",
       "        -0.00467623,  0.02208305,  0.04476307,  0.01831342, -0.04422498],\n",
       "       [-0.01541045, -0.07625431,  0.04047995,  0.05365378, -0.01880382,\n",
       "        -0.05553768,  0.03493923,  0.06995281,  0.02965596, -0.06267547],\n",
       "       [-0.04171284, -0.07185655,  0.03305057,  0.04157301, -0.05990392,\n",
       "        -0.00410875,  0.02865981,  0.05782192,  0.02333524, -0.00685847],\n",
       "       [-0.04153458, -0.00374246,  0.02364406,  0.03009233, -0.02604528,\n",
       "        -0.05172223,  0.02052684,  0.04115525,  0.01619507, -0.008569  ],\n",
       "       [ 0.00475297, -0.0192914 ,  0.03238263,  0.04219575, -0.06871575,\n",
       "        -0.08593212,  0.02743653,  0.05705063,  0.02282764, -0.01270686],\n",
       "       [-0.07597381,  0.00054104,  0.02667249,  0.03486195, -0.03681953,\n",
       "         0.01072027,  0.02345654,  0.04509497,  0.01754713, -0.04610105],\n",
       "       [-0.04135877, -0.00467449,  0.03487357,  0.04630607, -0.04824288,\n",
       "        -0.04640339,  0.03009371,  0.05984198,  0.02393153, -0.05436734],\n",
       "       [-0.11330525, -0.01826867,  0.06742352,  0.08891125, -0.07343424,\n",
       "        -0.06503148,  0.05860968,  0.11528432,  0.04613763, -0.10632676],\n",
       "       [-0.03003031, -0.08340583,  0.04711007,  0.0607837 , -0.09220969,\n",
       "        -0.02588357,  0.0405019 ,  0.08218426,  0.03334307, -0.03239358],\n",
       "       [-0.02816145, -0.06461915,  0.02334305,  0.02927558, -0.01592426,\n",
       "        -0.01673238,  0.02035401,  0.04088868,  0.01704656, -0.00547065],\n",
       "       [-0.08826192,  0.03334635,  0.04436494,  0.05962731, -0.04481806,\n",
       "        -0.0520092 ,  0.03860289,  0.07502584,  0.02959995, -0.09547809],\n",
       "       [-0.09279234, -0.05954624,  0.05120505,  0.06576739, -0.00541418,\n",
       "        -0.08040816,  0.04483739,  0.08841084,  0.03628743, -0.04834717],\n",
       "       [-0.07095527,  0.04106264,  0.03883263,  0.05217274, -0.07530049,\n",
       "        -0.0335606 ,  0.03356978,  0.06585146,  0.02536061, -0.07703349],\n",
       "       [-0.0800452 , -0.05653638,  0.05775776,  0.07716537,  0.0230749 ,\n",
       "        -0.09128626,  0.05046379,  0.09836791,  0.04144186, -0.12040376],\n",
       "       [-0.02759346, -0.06397954,  0.04082173,  0.05418568, -0.02322145,\n",
       "        -0.04755337,  0.0353076 ,  0.07026606,  0.02949263, -0.06772587],\n",
       "       [ 0.00107208, -0.04382717,  0.0239474 ,  0.03324437, -0.01336609,\n",
       "        -0.00772981,  0.02059896,  0.04059167,  0.01756045, -0.07209186],\n",
       "       [-0.00563883, -0.06021773,  0.03579775,  0.047637  , -0.02608584,\n",
       "        -0.055321  ,  0.03076521,  0.06195442,  0.0261307 , -0.05502168],\n",
       "       [-0.05561634, -0.01265204,  0.03307082,  0.0426452 , -0.05302022,\n",
       "        -0.03556908,  0.02867702,  0.05716563,  0.02249195, -0.02719293],\n",
       "       [-0.08557259,  0.01286023,  0.05047419,  0.06652826, -0.06518966,\n",
       "        -0.07064917,  0.04376043,  0.08645364,  0.03409006, -0.07275539],\n",
       "       [-0.02997115, -0.02062581,  0.0322832 ,  0.04246641, -0.06203076,\n",
       "        -0.02833675,  0.0277594 ,  0.05574997,  0.02224842, -0.03954293],\n",
       "       [-0.0310852 , -0.02372686,  0.03297285,  0.04176561, -0.05715696,\n",
       "        -0.07357005,  0.02833314,  0.05804077,  0.02295284,  0.00147386],\n",
       "       [-0.07110441, -0.00734418,  0.04258095,  0.05613852, -0.03769656,\n",
       "        -0.05598621,  0.03702167,  0.07286721,  0.0292277 , -0.06570469],\n",
       "       [-0.04688374, -0.00327677,  0.0360519 ,  0.04854667, -0.06712597,\n",
       "        -0.00853206,  0.03111815,  0.06127443,  0.0243515 , -0.07552411],\n",
       "       [-0.0783268 , -0.02184714,  0.04388222,  0.05799777, -0.0299455 ,\n",
       "        -0.03787525,  0.03828787,  0.07479743,  0.03031049, -0.07728109],\n",
       "       [-0.00924525,  0.01261562,  0.02372633,  0.03262227, -0.07128172,\n",
       "        -0.01079976,  0.02013731,  0.04043317,  0.01578678, -0.05399476],\n",
       "       [-0.10115547, -0.01258077,  0.05322212,  0.06984734, -0.02151652,\n",
       "        -0.0818118 ,  0.04648415,  0.09102021,  0.03675781, -0.08026706],\n",
       "       [-0.0561128 , -0.06287207,  0.03564364,  0.04646616,  0.00090143,\n",
       "        -0.02896206,  0.03123122,  0.06114933,  0.02565543, -0.05310029],\n",
       "       [-0.07071396, -0.03052278,  0.03767371,  0.04811724, -0.0595834 ,\n",
       "        -0.0228458 ,  0.03278936,  0.06516653,  0.02571904, -0.02579993],\n",
       "       [-0.11627959, -0.00570852,  0.05018438,  0.0637453 , -0.06639949,\n",
       "        -0.06278481,  0.04382141,  0.08674637,  0.0337185 , -0.02704355],\n",
       "       [-0.07940391, -0.06016313,  0.04446002,  0.0562238 , -0.05086814,\n",
       "        -0.03776497,  0.03877713,  0.07727769,  0.03100928, -0.01954777],\n",
       "       [-0.0545817 , -0.01652232,  0.03972703,  0.05309192, -0.00658995,\n",
       "        -0.06784262,  0.03455968,  0.06776078,  0.02793928, -0.07754211],\n",
       "       [-0.05788412, -0.00553618,  0.0340197 ,  0.04330112, -0.05839573,\n",
       "        -0.05582198,  0.02945091,  0.05922361,  0.02302947, -0.01138679]])"
      ]
     },
     "execution_count": 100,
     "metadata": {},
     "output_type": "execute_result"
    }
   ],
   "source": [
    "dw2 = np.dot(z1.T,dy)\n",
    "dw2"
   ]
  },
  {
   "cell_type": "code",
   "execution_count": null,
   "metadata": {},
   "outputs": [],
   "source": [
    "dw2 = np.dot(z1.T,dy)\n",
    "db2 = np.sum(dy,axis=0)"
   ]
  },
  {
   "cell_type": "code",
   "execution_count": 101,
   "metadata": {},
   "outputs": [],
   "source": [
    "def sigmoid_grad(x):\n",
    "    return (1.0 - sigmoid(x)) * sigmoid(x)"
   ]
  },
  {
   "cell_type": "code",
   "execution_count": null,
   "metadata": {},
   "outputs": [],
   "source": [
    "dz1 = np.dot(dy,W2.T)\n",
    "da1 = sigmoid_grad(a1) * dz1\n",
    "dw1 = np.dot(X.T,da1)\n",
    "db1 = np.sum(dz1,axis=0)"
   ]
  },
  {
   "cell_type": "code",
   "execution_count": 102,
   "metadata": {},
   "outputs": [],
   "source": [
    "#가중치를 조정해주는 부분\n",
    "#W1에서 learning_rate를 곱한 미분값을 원래의 W1에서 빼준다. \n",
    "learning_rate = 0.1\n",
    "def update_params(W1,b1,W2,b2,dw1,db1,dw2,db2,learning_rate):\n",
    "    W1 = W1 - learning_rate * dw1\n",
    "    b1 = b1 - learning_rate * db1\n",
    "    W2 = W2 - learning_rate * dw2\n",
    "    b2 = b2 - learning_rate * db2\n",
    "    return W1,b1,W2,b2"
   ]
  },
  {
   "cell_type": "markdown",
   "metadata": {},
   "source": [
    "# 20-5. 오차역전파법이란?"
   ]
  },
  {
   "cell_type": "code",
   "execution_count": 114,
   "metadata": {},
   "outputs": [],
   "source": [
    "def affine_layer_backward(dy,cache):\n",
    "    X,W,b = cache\n",
    "    dX = np.dot(dy,W.T)\n",
    "    dW = np.dot(X.T,dy)\n",
    "    db = np.sum(dy,axis=0)\n",
    "    return dX,dW,db"
   ]
  },
  {
   "cell_type": "code",
   "execution_count": 115,
   "metadata": {},
   "outputs": [
    {
     "name": "stdout",
     "output_type": "stream",
     "text": [
      "[[0.04427221 0.20856387 0.10484141 0.08952497 0.05549773 0.10199317\n",
      "  0.06448472 0.08317103 0.10334479 0.14430609]\n",
      " [0.04248753 0.19157196 0.09535889 0.08628931 0.06034136 0.10400087\n",
      "  0.06278955 0.1013779  0.12153754 0.13424509]\n",
      " [0.05854108 0.15413419 0.10158152 0.08309134 0.05674889 0.11226756\n",
      "  0.0584876  0.09026472 0.10815591 0.1767272 ]\n",
      " [0.05835642 0.18470939 0.10680608 0.09176271 0.05850198 0.10172525\n",
      "  0.05940149 0.07487124 0.11204908 0.15181635]\n",
      " [0.04487454 0.16817705 0.10718166 0.07845994 0.06056485 0.10735519\n",
      "  0.05276338 0.09101825 0.11264088 0.17696426]]\n",
      "[[0. 0. 0. 0. 0. 1. 0. 0. 0. 0.]\n",
      " [1. 0. 0. 0. 0. 0. 0. 0. 0. 0.]\n",
      " [0. 0. 0. 0. 1. 0. 0. 0. 0. 0.]\n",
      " [0. 1. 0. 0. 0. 0. 0. 0. 0. 0.]\n",
      " [0. 0. 0. 0. 0. 0. 0. 0. 0. 1.]]\n",
      "Loss :  2.3462584782255793\n"
     ]
    },
    {
     "ename": "TypeError",
     "evalue": "update_params() missing 1 required positional argument: 'learning_rate'",
     "output_type": "error",
     "traceback": [
      "\u001b[0;31m---------------------------------------------------------------------------\u001b[0m",
      "\u001b[0;31mTypeError\u001b[0m                                 Traceback (most recent call last)",
      "\u001b[0;32m/var/folders/v5/f_7vslxd3bj07chbkmd7nlkh0000gn/T/ipykernel_92605/2663598505.py\u001b[0m in \u001b[0;36m<module>\u001b[0;34m\u001b[0m\n\u001b[1;32m     25\u001b[0m \u001b[0;34m\u001b[0m\u001b[0m\n\u001b[1;32m     26\u001b[0m \u001b[0mlearning_rate\u001b[0m \u001b[0;34m=\u001b[0m \u001b[0;36m0.1\u001b[0m\u001b[0;34m\u001b[0m\u001b[0;34m\u001b[0m\u001b[0m\n\u001b[0;32m---> 27\u001b[0;31m \u001b[0mW1\u001b[0m\u001b[0;34m,\u001b[0m\u001b[0mb1\u001b[0m\u001b[0;34m,\u001b[0m\u001b[0mW2\u001b[0m\u001b[0;34m,\u001b[0m\u001b[0mb2\u001b[0m \u001b[0;34m=\u001b[0m \u001b[0mupdate_params\u001b[0m\u001b[0;34m(\u001b[0m\u001b[0mW1\u001b[0m\u001b[0;34m,\u001b[0m\u001b[0mb1\u001b[0m\u001b[0;34m,\u001b[0m\u001b[0mW2\u001b[0m\u001b[0;34m,\u001b[0m\u001b[0mb2\u001b[0m\u001b[0;34m,\u001b[0m\u001b[0mdW1\u001b[0m\u001b[0;34m,\u001b[0m\u001b[0mdW2\u001b[0m\u001b[0;34m,\u001b[0m\u001b[0mdb2\u001b[0m\u001b[0;34m,\u001b[0m\u001b[0mlearning_rate\u001b[0m\u001b[0;34m)\u001b[0m\u001b[0;34m\u001b[0m\u001b[0;34m\u001b[0m\u001b[0m\n\u001b[0m",
      "\u001b[0;31mTypeError\u001b[0m: update_params() missing 1 required positional argument: 'learning_rate'"
     ]
    }
   ],
   "source": [
    "W1 = weight_init_std * np.random.randn(input_size,hidden_size)\n",
    "b1 = np.zeros(hidden_size)\n",
    "W2 = weight_init_std * np.random.randn(hidden_size,output_size)\n",
    "b2 = np.zeros(output_size)\n",
    "\n",
    "#forward propagation\n",
    "a1,cache = affine_layer_forward(X,W1,b1)\n",
    "z1 = sigmoid(a1) #hidden layer에서 만들어진 a1에 sigmoid 함수 적용 \n",
    "a2,cache = affine_layer_forward(z1,W2,b2) #sigmoid를 적용한 값을 다시 입력값으로 이용\n",
    "\n",
    "#추론과 오차 계산\n",
    "y_hat = softmax(a2) #output으로 나온 a2값에 softmax 함수를 적용시켜 최종 예측결과 도출\n",
    "t = _change_one_hot_label(Y_digit,10)\n",
    "Loss = cross_entropy_error(y_hat,t)\n",
    "\n",
    "print(y_hat)\n",
    "print(t)\n",
    "print(\"Loss : \",Loss)\n",
    "\n",
    "\n",
    "dy = (y_hat - t) / X.shape[0]\n",
    "dz1,dW2,db2 = affine_layer_backward(dy,cache2)\n",
    "da1 = sigmoid_grad(a1) * dz1\n",
    "dX,dW1,db1 = affine_layer_backward(da1,cache1)\n",
    "\n",
    "learning_rate = 0.1\n",
    "W1, b1, W2, b2 = update_params(W1, b1, W2, b2, dW1, db1, dW2, db2, learning_rate)"
   ]
  },
  {
   "cell_type": "code",
   "execution_count": null,
   "metadata": {},
   "outputs": [],
   "source": []
  }
 ],
 "metadata": {
  "kernelspec": {
   "display_name": "aiffel",
   "language": "python",
   "name": "aiffel"
  },
  "language_info": {
   "codemirror_mode": {
    "name": "ipython",
    "version": 3
   },
   "file_extension": ".py",
   "mimetype": "text/x-python",
   "name": "python",
   "nbconvert_exporter": "python",
   "pygments_lexer": "ipython3",
   "version": "3.7.15"
  }
 },
 "nbformat": 4,
 "nbformat_minor": 4
}
