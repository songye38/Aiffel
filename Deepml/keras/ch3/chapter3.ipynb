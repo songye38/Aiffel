{
 "cells": [
  {
   "cell_type": "code",
   "execution_count": 1,
   "id": "22ab3c8d",
   "metadata": {},
   "outputs": [
    {
     "name": "stdout",
     "output_type": "stream",
     "text": [
      "tf.Tensor(\n",
      "[[1.]\n",
      " [1.]], shape=(2, 1), dtype=float32)\n"
     ]
    },
    {
     "name": "stderr",
     "output_type": "stream",
     "text": [
      "2023-01-08 20:30:25.649262: I tensorflow/core/platform/cpu_feature_guard.cc:145] This TensorFlow binary is optimized with Intel(R) MKL-DNN to use the following CPU instructions in performance critical operations:  SSE4.1 SSE4.2 AVX AVX2 FMA\n",
      "To enable them in non-MKL-DNN operations, rebuild TensorFlow with the appropriate compiler flags.\n",
      "2023-01-08 20:30:25.649560: I tensorflow/core/common_runtime/process_util.cc:115] Creating new thread pool with default inter op setting: 8. Tune using inter_op_parallelism_threads for best performance.\n"
     ]
    }
   ],
   "source": [
    "#code 3-1 tensor with 1 or 0\n",
    "import tensorflow as tf\n",
    "x = tf.ones(shape=(2,1))\n",
    "print(x)\n",
    "x = tf.zeros(shape=(2,1))\n",
    "print(x)"
   ]
  },
  {
   "cell_type": "code",
   "execution_count": 4,
   "id": "6904ea11",
   "metadata": {},
   "outputs": [
    {
     "name": "stdout",
     "output_type": "stream",
     "text": [
      "tf.Tensor(\n",
      "[[0.32532892]\n",
      " [0.8667175 ]\n",
      " [0.9838208 ]], shape=(3, 1), dtype=float32)\n",
      "tf.Tensor(\n",
      "[[0.3001715]\n",
      " [0.8160777]\n",
      " [0.2839476]], shape=(3, 1), dtype=float32)\n"
     ]
    }
   ],
   "source": [
    "# code 3-2 random tensor\n",
    "x = tf.random.normal(shape=(3,1),mean=0.,stddev=1.) #표준편차 1 평균이 1인 정규 분포에서 뽑은 랜던값\n",
    "print(x)\n",
    "x = tf.random.uniform(shape=(3,1),minval=0., maxval=1.) #최소 0에서 최대 1 사이의 균등 분포에서 뽑은 랜덤값\n",
    "print(x)"
   ]
  },
  {
   "cell_type": "code",
   "execution_count": 5,
   "id": "8f7bd212",
   "metadata": {},
   "outputs": [
    {
     "name": "stdout",
     "output_type": "stream",
     "text": [
      "[[0. 1.]\n",
      " [1. 1.]]\n"
     ]
    }
   ],
   "source": [
    "#code 3-3 assign a value to numpy array\n",
    "import numpy as np\n",
    "x = np.ones(shape=(2,2))\n",
    "x[0,0] = 0.\n",
    "print(x)"
   ]
  },
  {
   "cell_type": "code",
   "execution_count": 6,
   "id": "5766282d",
   "metadata": {},
   "outputs": [
    {
     "ename": "TypeError",
     "evalue": "'tensorflow.python.framework.ops.EagerTensor' object does not support item assignment",
     "output_type": "error",
     "traceback": [
      "\u001b[0;31m---------------------------------------------------------------------------\u001b[0m",
      "\u001b[0;31mTypeError\u001b[0m                                 Traceback (most recent call last)",
      "\u001b[0;32m/var/folders/v5/f_7vslxd3bj07chbkmd7nlkh0000gn/T/ipykernel_24348/1443765816.py\u001b[0m in \u001b[0;36m<module>\u001b[0;34m\u001b[0m\n\u001b[1;32m      1\u001b[0m \u001b[0;31m#code 3-4 can not assign a value to tensor\u001b[0m\u001b[0;34m\u001b[0m\u001b[0;34m\u001b[0m\u001b[0;34m\u001b[0m\u001b[0m\n\u001b[1;32m      2\u001b[0m \u001b[0mx\u001b[0m \u001b[0;34m=\u001b[0m \u001b[0mtf\u001b[0m\u001b[0;34m.\u001b[0m\u001b[0mones\u001b[0m\u001b[0;34m(\u001b[0m\u001b[0mshape\u001b[0m\u001b[0;34m=\u001b[0m\u001b[0;34m(\u001b[0m\u001b[0;36m2\u001b[0m\u001b[0;34m,\u001b[0m\u001b[0;36m2\u001b[0m\u001b[0;34m)\u001b[0m\u001b[0;34m)\u001b[0m\u001b[0;34m\u001b[0m\u001b[0;34m\u001b[0m\u001b[0m\n\u001b[0;32m----> 3\u001b[0;31m \u001b[0mx\u001b[0m\u001b[0;34m[\u001b[0m\u001b[0;36m0\u001b[0m\u001b[0;34m,\u001b[0m\u001b[0;36m0\u001b[0m\u001b[0;34m]\u001b[0m \u001b[0;34m=\u001b[0m \u001b[0;36m0.\u001b[0m\u001b[0;34m\u001b[0m\u001b[0;34m\u001b[0m\u001b[0m\n\u001b[0m",
      "\u001b[0;31mTypeError\u001b[0m: 'tensorflow.python.framework.ops.EagerTensor' object does not support item assignment"
     ]
    }
   ],
   "source": [
    "#code 3-4 can not assign a value to tensor\n",
    "x = tf.ones(shape=(2,2))\n",
    "x[0,0] = 0."
   ]
  },
  {
   "cell_type": "code",
   "execution_count": 7,
   "id": "1138825c",
   "metadata": {},
   "outputs": [
    {
     "name": "stdout",
     "output_type": "stream",
     "text": [
      "<tf.Variable 'Variable:0' shape=(3, 1) dtype=float32, numpy=\n",
      "array([[1.2489079 ],\n",
      "       [0.7922153 ],\n",
      "       [0.12586612]], dtype=float32)>\n"
     ]
    }
   ],
   "source": [
    "#code 3-5 make a tensor variable\n",
    "v = tf.Variable(initial_value=tf.random.normal(shape=(3,1)))\n",
    "print(v)"
   ]
  },
  {
   "cell_type": "code",
   "execution_count": 8,
   "id": "a332c939",
   "metadata": {},
   "outputs": [
    {
     "data": {
      "text/plain": [
       "<tf.Variable 'UnreadVariable' shape=(3, 1) dtype=float32, numpy=\n",
       "array([[1.],\n",
       "       [1.],\n",
       "       [1.]], dtype=float32)>"
      ]
     },
     "execution_count": 8,
     "metadata": {},
     "output_type": "execute_result"
    }
   ],
   "source": [
    "#code 3-6 assign a value to tensor variable\n",
    "v.assign(tf.ones((3,1)))"
   ]
  },
  {
   "cell_type": "code",
   "execution_count": 9,
   "id": "a96d4b92",
   "metadata": {},
   "outputs": [
    {
     "data": {
      "text/plain": [
       "<tf.Variable 'UnreadVariable' shape=(3, 1) dtype=float32, numpy=\n",
       "array([[3.],\n",
       "       [1.],\n",
       "       [1.]], dtype=float32)>"
      ]
     },
     "execution_count": 9,
     "metadata": {},
     "output_type": "execute_result"
    }
   ],
   "source": [
    "#code 3-7 assign a value to partial tensor\n",
    "v[0,0].assign(3.)"
   ]
  },
  {
   "cell_type": "code",
   "execution_count": 10,
   "id": "b9eba597",
   "metadata": {},
   "outputs": [
    {
     "data": {
      "text/plain": [
       "<tf.Variable 'UnreadVariable' shape=(3, 1) dtype=float32, numpy=\n",
       "array([[4.],\n",
       "       [2.],\n",
       "       [2.]], dtype=float32)>"
      ]
     },
     "execution_count": 10,
     "metadata": {},
     "output_type": "execute_result"
    }
   ],
   "source": [
    "#code 3-8 use assign_add function\n",
    "v.assign_add(tf.ones((3,1)))\n"
   ]
  },
  {
   "cell_type": "code",
   "execution_count": 12,
   "id": "2f3121c5",
   "metadata": {},
   "outputs": [
    {
     "name": "stdout",
     "output_type": "stream",
     "text": [
      "tf.Tensor(\n",
      "[[1. 1.]\n",
      " [1. 1.]], shape=(2, 2), dtype=float32) tf.Tensor(\n",
      "[[1. 1.]\n",
      " [1. 1.]], shape=(2, 2), dtype=float32) tf.Tensor(\n",
      "[[0.99999994 0.99999994]\n",
      " [0.99999994 0.99999994]], shape=(2, 2), dtype=float32) tf.Tensor(\n",
      "[[2. 2.]\n",
      " [2. 2.]], shape=(2, 2), dtype=float32) tf.Tensor(\n",
      "[[4. 4.]\n",
      " [4. 4.]], shape=(2, 2), dtype=float32)\n"
     ]
    }
   ],
   "source": [
    "#code 3-9 basic math \n",
    "a = tf.ones((2,2))\n",
    "b = tf.square(a)\n",
    "c = tf.sqrt(a)\n",
    "d = b+c\n",
    "e = tf.matmul(a,b)\n",
    "e *=d\n",
    "print(a,b,c,d,e)"
   ]
  },
  {
   "cell_type": "code",
   "execution_count": 13,
   "id": "ccbfecb3",
   "metadata": {},
   "outputs": [
    {
     "name": "stdout",
     "output_type": "stream",
     "text": [
      "tf.Tensor(6.0, shape=(), dtype=float32)\n"
     ]
    }
   ],
   "source": [
    "#code 3-10 use gradientTape\n",
    "input_var = tf.Variable(initial_value=3.)\n",
    "with tf.GradientTape() as tape:\n",
    "    result = tf.square(input_var)\n",
    "gradient = tape.gradient(result,input_var)\n",
    "print(gradient)"
   ]
  },
  {
   "cell_type": "code",
   "execution_count": 16,
   "id": "473a594a",
   "metadata": {},
   "outputs": [],
   "source": [
    "#code 3-11 use gradient tape with constant tensor input\n",
    "input_const = tf.constant(3.)\n",
    "with tf.GradientTape() as tape:\n",
    "    tape.watch(input_const)\n",
    "    result = tf.square(input_const)\n",
    "gradient = tape.gradient(result,input_const)"
   ]
  },
  {
   "cell_type": "code",
   "execution_count": 17,
   "id": "0148e60c",
   "metadata": {},
   "outputs": [
    {
     "name": "stdout",
     "output_type": "stream",
     "text": [
      "tf.Tensor(9.8, shape=(), dtype=float32)\n"
     ]
    }
   ],
   "source": [
    "#code 3-12 get gradient's gradient second order gradient\n",
    "time = tf.Variable(0.)\n",
    "with tf.GradientTape() as outer_tape:\n",
    "    with tf.GradientTape() as inner_tape:\n",
    "        position = 4.9 * time ** 2\n",
    "    speed = inner_tape.gradient(position,time)\n",
    "acceleration = outer_tape.gradient(speed,time)\n",
    "print(acceleration)        "
   ]
  },
  {
   "cell_type": "markdown",
   "id": "18ae6db3",
   "metadata": {},
   "source": [
    "# 3.5.4 엔드 투 엔드 예제 : 텐서플로 선형 분류기"
   ]
  },
  {
   "cell_type": "code",
   "execution_count": 18,
   "id": "57e9aef8",
   "metadata": {},
   "outputs": [],
   "source": [
    "#code 3-13 2d 평면에 두 클래스의 랜덤한 포인트 생성하기\n",
    "num_samples_per_class=1000\n",
    "negative_samples = np.random.multivariate_normal(\n",
    "    mean = [0,3],\n",
    "    cov=[[1,0.5],[0.5,1]],\n",
    "    size=num_samples_per_class)\n",
    "positive_samples = np.random.multivariate_normal(\n",
    "    mean = [3,0],\n",
    "    cov=[[1,0.5],[0.5,1]],\n",
    "    size=num_samples_per_class)"
   ]
  },
  {
   "cell_type": "code",
   "execution_count": 20,
   "id": "b43cedf3",
   "metadata": {},
   "outputs": [
    {
     "name": "stdout",
     "output_type": "stream",
     "text": [
      "(2000, 2)\n",
      "(1000, 2)\n",
      "(1000, 2)\n"
     ]
    }
   ],
   "source": [
    "#code 3-14 두 클래스를 (2000,2) 크기의 한 배열로 쌓기\n",
    "inputs = np.vstack((negative_samples,positive_samples)).astype(np.float32)\n",
    "print(inputs.shape)\n",
    "print(negative_samples.shape)\n",
    "print(positive_samples.shape)"
   ]
  },
  {
   "cell_type": "code",
   "execution_count": 21,
   "id": "aa375c72",
   "metadata": {},
   "outputs": [
    {
     "name": "stdout",
     "output_type": "stream",
     "text": [
      "[[0.]\n",
      " [0.]\n",
      " [0.]\n",
      " ...\n",
      " [1.]\n",
      " [1.]\n",
      " [1.]]\n"
     ]
    }
   ],
   "source": [
    "#code 3-15 make a target\n",
    "targets = np.vstack((np.zeros((num_samples_per_class,1),dtype=\"float32\"),\n",
    "                    np.ones((num_samples_per_class,1),dtype='float32')))\n",
    "print(targets)"
   ]
  },
  {
   "cell_type": "code",
   "execution_count": 22,
   "id": "77efc900",
   "metadata": {},
   "outputs": [
    {
     "data": {
      "image/png": "[encoded data removed]",
      "text/plain": [
       "<Figure size 432x288 with 1 Axes>"
      ]
     },
     "metadata": {
      "needs_background": "light"
     },
     "output_type": "display_data"
    }
   ],
   "source": [
    "#code 3-16 draw a plot\n",
    "import matplotlib.pyplot as plt\n",
    "plt.scatter(inputs[:,0],inputs[:,1],c=targets[:,0])\n",
    "plt.show()"
   ]
  },
  {
   "cell_type": "code",
   "execution_count": 34,
   "id": "c0b4e3fd",
   "metadata": {},
   "outputs": [],
   "source": [
    "#code 3-17 선형 분류기의 변수 만들기\n",
    "input_dim = 2\n",
    "output_dim = 1\n",
    "W = tf.Variable(initial_value=tf.random.uniform(shape=(input_dim, output_dim)))\n",
    "b = tf.Variable(initial_value=tf.zeros(shape=(output_dim,)))"
   ]
  },
  {
   "cell_type": "code",
   "execution_count": 39,
   "id": "2bda202e",
   "metadata": {},
   "outputs": [],
   "source": [
    "#code 3-18 정방향 패스 함수\n",
    "def model(inputs):\n",
    "    return tf.matmul(inputs, W) + b"
   ]
  },
  {
   "cell_type": "code",
   "execution_count": 40,
   "id": "e2f381c6",
   "metadata": {},
   "outputs": [],
   "source": [
    "#code 3-19 평균 제곱 오차 손실 함수\n",
    "def square_loss(targets, predictions):\n",
    "    per_sample_losses = tf.square(targets - predictions)\n",
    "    return tf.reduce_mean(per_sample_losses)"
   ]
  },
  {
   "cell_type": "code",
   "execution_count": 41,
   "id": "1e6278ee",
   "metadata": {},
   "outputs": [],
   "source": [
    "#code 3-20 learning step function\n",
    "learning_rate = 0.1\n",
    "\n",
    "def training_step(inputs, targets):\n",
    "    with tf.GradientTape() as tape:\n",
    "        predictions = model(inputs)\n",
    "        loss = square_loss(targets, predictions)\n",
    "    grad_loss_wrt_W, grad_loss_wrt_b = tape.gradient(loss, [W, b])\n",
    "    W.assign_sub(grad_loss_wrt_W * learning_rate)\n",
    "    b.assign_sub(grad_loss_wrt_b * learning_rate)\n",
    "    return loss"
   ]
  },
  {
   "cell_type": "code",
   "execution_count": 42,
   "id": "aff8952f",
   "metadata": {},
   "outputs": [
    {
     "name": "stdout",
     "output_type": "stream",
     "text": [
      "Loss at step 0: 4.8722\n",
      "Loss at step 1: 0.6163\n",
      "Loss at step 2: 0.1999\n",
      "Loss at step 3: 0.1418\n",
      "Loss at step 4: 0.1267\n",
      "Loss at step 5: 0.1174\n",
      "Loss at step 6: 0.1095\n",
      "Loss at step 7: 0.1023\n",
      "Loss at step 8: 0.0957\n",
      "Loss at step 9: 0.0897\n",
      "Loss at step 10: 0.0842\n",
      "Loss at step 11: 0.0792\n",
      "Loss at step 12: 0.0746\n",
      "Loss at step 13: 0.0704\n",
      "Loss at step 14: 0.0666\n",
      "Loss at step 15: 0.0631\n",
      "Loss at step 16: 0.0599\n",
      "Loss at step 17: 0.0570\n",
      "Loss at step 18: 0.0543\n",
      "Loss at step 19: 0.0519\n",
      "Loss at step 20: 0.0496\n",
      "Loss at step 21: 0.0476\n",
      "Loss at step 22: 0.0457\n",
      "Loss at step 23: 0.0440\n",
      "Loss at step 24: 0.0425\n",
      "Loss at step 25: 0.0411\n",
      "Loss at step 26: 0.0398\n",
      "Loss at step 27: 0.0386\n",
      "Loss at step 28: 0.0375\n",
      "Loss at step 29: 0.0365\n",
      "Loss at step 30: 0.0356\n",
      "Loss at step 31: 0.0347\n",
      "Loss at step 32: 0.0340\n",
      "Loss at step 33: 0.0333\n",
      "Loss at step 34: 0.0327\n",
      "Loss at step 35: 0.0321\n",
      "Loss at step 36: 0.0316\n",
      "Loss at step 37: 0.0311\n",
      "Loss at step 38: 0.0306\n",
      "Loss at step 39: 0.0302\n"
     ]
    }
   ],
   "source": [
    "for step in range(40):\n",
    "    loss = training_step(inputs, targets)\n",
    "    print(f\"Loss at step {step}: {loss:.4f}\")"
   ]
  },
  {
   "cell_type": "code",
   "execution_count": 44,
   "id": "9c2975cb",
   "metadata": {},
   "outputs": [
    {
     "data": {
      "image/png": "[encoded data removed]",
      "text/plain": [
       "<Figure size 432x288 with 1 Axes>"
      ]
     },
     "metadata": {
      "needs_background": "light"
     },
     "output_type": "display_data"
    }
   ],
   "source": [
    "x = np.linspace(-1,4,100)\n",
    "y = -W[0] / W[1] * x + (0.5 - b) / W[1]\n",
    "plt.plot(x,y,\"-r\")\n",
    "plt.scatter(inputs[:,0],inputs[:,1],c=targets[:,0])\n",
    "plt.show()"
   ]
  },
  {
   "cell_type": "code",
   "execution_count": null,
   "id": "71abe8e5",
   "metadata": {},
   "outputs": [],
   "source": []
  }
 ],
 "metadata": {
  "kernelspec": {
   "display_name": "aiffel",
   "language": "python",
   "name": "aiffel"
  },
  "language_info": {
   "codemirror_mode": {
    "name": "ipython",
    "version": 3
   },
   "file_extension": ".py",
   "mimetype": "text/x-python",
   "name": "python",
   "nbconvert_exporter": "python",
   "pygments_lexer": "ipython3",
   "version": "3.7.15"
  }
 },
 "nbformat": 4,
 "nbformat_minor": 5
}
