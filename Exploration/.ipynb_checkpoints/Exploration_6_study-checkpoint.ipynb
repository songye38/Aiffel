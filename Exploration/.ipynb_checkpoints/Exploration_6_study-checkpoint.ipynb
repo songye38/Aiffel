{
 "cells": [
  {
   "cell_type": "markdown",
   "metadata": {},
   "source": [
    "## 6-3. I 다음 am을 쓰면 반 이상은 맞더라"
   ]
  },
  {
   "cell_type": "code",
   "execution_count": 1,
   "metadata": {},
   "outputs": [
    {
     "name": "stdout",
     "output_type": "stream",
     "text": [
      "Source 문장 :  <start>나는 밥을 먹었다.\n",
      "Target 문장 :  나는 밥을 먹었다.<end>\n"
     ]
    }
   ],
   "source": [
    "sentence = '나는 밥을 먹었다.'\n",
    "\n",
    "source_sentence='<start>'+sentence\n",
    "target_sentence=sentence+'<end>'\n",
    "\n",
    "print(\"Source 문장 : \",source_sentence)\n",
    "print(\"Target 문장 : \",target_sentence)"
   ]
  },
  {
   "cell_type": "code",
   "execution_count": null,
   "metadata": {},
   "outputs": [],
   "source": []
  }
 ],
 "metadata": {
  "kernelspec": {
   "display_name": "Python 3",
   "language": "python",
   "name": "python3"
  },
  "language_info": {
   "codemirror_mode": {
    "name": "ipython",
    "version": 3
   },
   "file_extension": ".py",
   "mimetype": "text/x-python",
   "name": "python",
   "nbconvert_exporter": "python",
   "pygments_lexer": "ipython3",
   "version": "3.7.6"
  }
 },
 "nbformat": 4,
 "nbformat_minor": 4
}
