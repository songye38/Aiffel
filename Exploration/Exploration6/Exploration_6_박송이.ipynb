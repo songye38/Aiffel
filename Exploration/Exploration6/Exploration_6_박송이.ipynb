{
 "cells": [
  {
   "cell_type": "code",
   "execution_count": 1,
   "metadata": {},
   "outputs": [
    {
     "name": "stdout",
     "output_type": "stream",
     "text": [
      "2.6.0\n"
     ]
    }
   ],
   "source": [
    "import glob\n",
    "import tensorflow as tf\n",
    "\n",
    "print(tf.__version__)"
   ]
  },
  {
   "cell_type": "markdown",
   "metadata": {},
   "source": [
    "# Step 2. 데이터 읽어오기"
   ]
  },
  {
   "cell_type": "code",
   "execution_count": 2,
   "metadata": {},
   "outputs": [
    {
     "name": "stdout",
     "output_type": "stream",
     "text": [
      "데이터 크기 :  187088\n",
      "Examples :\n",
      " ['', '', 'All of this and more is for you']\n"
     ]
    }
   ],
   "source": [
    "import glob\n",
    "import os\n",
    "import pandas\n",
    "import matplotlib.pyplot as plt\n",
    "\n",
    "txt_file_path = './data/lyrics/*'\n",
    "txt_list = glob.glob(txt_file_path)\n",
    "raw_corpus = []\n",
    "\n",
    "for txt_file in txt_list:\n",
    "    with open(txt_file,\"r\") as f:\n",
    "        raw = f.read().splitlines()\n",
    "        raw_corpus.extend(raw)\n",
    "\n",
    "print(\"데이터 크기 : \",len(raw_corpus))\n",
    "print(\"Examples :\\n\",raw_corpus[:3])        "
   ]
  },
  {
   "cell_type": "markdown",
   "metadata": {},
   "source": [
    "# Step 3. 데이터 정제"
   ]
  },
  {
   "cell_type": "markdown",
   "metadata": {},
   "source": [
    "### 3-1)정규표현식을 이용한 corpus 생성"
   ]
  },
  {
   "cell_type": "code",
   "execution_count": 4,
   "metadata": {},
   "outputs": [],
   "source": [
    "import re\n",
    "def preprocess_sentence(sentence):\n",
    "    sentence = sentence.lower().strip() # 1\n",
    "    sentence = re.sub(r\"([?.!,¿])\", r\" \\1 \", sentence) # 2\n",
    "    sentence = re.sub(r'[\" \"]+', \" \", sentence) # 3\n",
    "    sentence = re.sub(r\"[^a-zA-Z?.!,¿]+\", \" \", sentence) # 4\n",
    "    sentence = sentence.strip() # 5\n",
    "    sentence = '<start> ' + sentence + ' <end>' # 6\n",
    "    return sentence"
   ]
  },
  {
   "cell_type": "code",
   "execution_count": 114,
   "metadata": {},
   "outputs": [
    {
     "name": "stdout",
     "output_type": "stream",
     "text": [
      "------\n",
      "187088\n"
     ]
    },
    {
     "name": "stderr",
     "output_type": "stream",
     "text": [
      "100%|█████████████████████████████████████████████████████████████████████████████| 187088/187088 [00:15<00:00, 12002.45it/s]"
     ]
    },
    {
     "name": "stdout",
     "output_type": "stream",
     "text": [
      "175232\n"
     ]
    },
    {
     "name": "stderr",
     "output_type": "stream",
     "text": [
      "\n"
     ]
    }
   ],
   "source": [
    "from tqdm import tqdm\n",
    "print(\"------\")\n",
    "print(len(raw_corpus))\n",
    "filtered_corpus = []\n",
    "\n",
    "for sentence in tqdm(raw_corpus):\n",
    "    if len(sentence)==0: continue\n",
    "    \n",
    "    preprocessd_sentence = preprocess_sentence(sentence)\n",
    "    if len(preprocessd_sentence) < 130:\n",
    "        filtered_corpus.append(preprocessd_sentence)"
   ]
  },
  {
   "cell_type": "code",
   "execution_count": 91,
   "metadata": {},
   "outputs": [
    {
     "data": {
      "text/plain": [
       "101444"
      ]
     },
     "execution_count": 91,
     "metadata": {},
     "output_type": "execute_result"
    },
    {
     "data": {
      "image/png": "[encoded data removed]",
      "text/plain": [
       "<Figure size 432x288 with 1 Axes>"
      ]
     },
     "metadata": {
      "needs_background": "light"
     },
     "output_type": "display_data"
    }
   ],
   "source": [
    "#필요없는 부분\n",
    "import matplotlib.pyplot as plt\n",
    "import pandas as pd\n",
    "new_list = []\n",
    "#토큰의 개수가 15개가 넘는 문장들은 삭제하기 위해 문장들의 길이 파악\n",
    "for i in range(len(filtered_corpus)):\n",
    "    new_list.append(len(filtered_corpus[i]))\n",
    "    \n",
    "df['length_of_corpus'] = pd.DataFrame(new_list)\n",
    "df = df[df['length_of_corpus'] < ]\n",
    "plt.plot(df)\n",
    "len(df)\n",
    "#print(\"Length of each corpus :\\n\",len(raw_corpus))\n",
    "#토큰화를 해보고 나서 너무 긴 문장들은 삭제하는 함수를 써주자. "
   ]
  },
  {
   "cell_type": "markdown",
   "metadata": {},
   "source": [
    "### 3-2) 코퍼스를 텐서로 변환"
   ]
  },
  {
   "cell_type": "code",
   "execution_count": 133,
   "metadata": {},
   "outputs": [],
   "source": [
    "def tokenize(corpus):\n",
    "    tokenizer = tf.keras.preprocessing.text.Tokenizer(\n",
    "        num_words = 12000,\n",
    "        filters = ' ', #필터링은 이미 했음.\n",
    "        oov_token = \"<unk>\"\n",
    "    )\n",
    "    tokenizer.fit_on_texts(corpus) #문자 데이터를 입력받아 리스트 형태로 리턴 \n",
    "    tensor = tokenizer.texts_to_sequences(corpus) #텍스트 안의 단어들을 숫자의 시퀀스로 변환\n",
    "    \n",
    "    #입력데이터의 시퀀스 길이를 일정하게 맞춰준다.\n",
    "    tensor = tf.keras.preprocessing.sequence.pad_sequences(tensor,padding='post',maxlen=10)\n",
    "    #print(tensor,tokenizer)\n",
    "    return tensor,tokenizer"
   ]
  },
  {
   "cell_type": "code",
   "execution_count": 134,
   "metadata": {},
   "outputs": [],
   "source": [
    "tensor,tokenizer = tokenize(filtered_corpus)"
   ]
  },
  {
   "cell_type": "code",
   "execution_count": 135,
   "metadata": {},
   "outputs": [
    {
     "name": "stdout",
     "output_type": "stream",
     "text": [
      "[ 2 24 19 42  8 98 26 28  7  3]\n"
     ]
    }
   ],
   "source": [
    "print(tensor[0])  \n",
    "#maxlen = 10 len(tensor)= 175232\n",
    "#maxlen = 20 len(tensor)= 175232\n",
    "#maxlen = 5 len(tensor)= 175232\n",
    "#maxlen = 15 len(tensor)= 175232\n",
    "#왜 maxlen을 바꿔도 텐서의 양은 같은지?"
   ]
  },
  {
   "cell_type": "code",
   "execution_count": 71,
   "metadata": {},
   "outputs": [],
   "source": [
    "for idx in tokenizer.index_word:\n",
    "    print(idx, \":\",tokenizer.index_word[idx])"
   ]
  },
  {
   "cell_type": "code",
   "execution_count": 110,
   "metadata": {},
   "outputs": [
    {
     "name": "stdout",
     "output_type": "stream",
     "text": [
      "지우기전의 tensor 개수  :  134615\n"
     ]
    },
    {
     "name": "stderr",
     "output_type": "stream",
     "text": [
      "100%|█████████████████████████████████████████████████████████████████████████████| 134615/134615 [00:02<00:00, 67206.39it/s]"
     ]
    },
    {
     "name": "stdout",
     "output_type": "stream",
     "text": [
      "지우고 난 후 tensor 개수  :  993\n"
     ]
    },
    {
     "name": "stderr",
     "output_type": "stream",
     "text": [
      "\n"
     ]
    }
   ],
   "source": [
    "#필요없는 부분\n",
    "import numpy as np\n",
    "from tqdm import tqdm\n",
    "\n",
    "print(\"지우기전의 tensor 개수  : \",len(tensor))\n",
    "num = 0\n",
    "for i in tqdm(range(len(tensor))):\n",
    "    if len(np.nonzero(tensor[i])[0]) >=15:\n",
    "        num+=1\n",
    "\n",
    "    \n",
    "print(\"지우고 난 후 tensor 개수  : \",num)"
   ]
  },
  {
   "cell_type": "code",
   "execution_count": 99,
   "metadata": {},
   "outputs": [
    {
     "name": "stdout",
     "output_type": "stream",
     "text": [
      "[ 2 14 33  3  0  0  0  0  0  0  0  0  0  0  0  0  0  0  0  0  0  0]\n"
     ]
    }
   ],
   "source": [
    "print(tensor[50])"
   ]
  },
  {
   "cell_type": "markdown",
   "metadata": {},
   "source": [
    "### 3-3) corpus 텐서를 tf.data.Dataset객체로 변환"
   ]
  },
  {
   "cell_type": "code",
   "execution_count": 100,
   "metadata": {},
   "outputs": [],
   "source": [
    "src_input = tensor[:,:-1]\n",
    "tgt_input = tensor[:,1:]"
   ]
  },
  {
   "cell_type": "code",
   "execution_count": 101,
   "metadata": {},
   "outputs": [
    {
     "data": {
      "text/plain": [
       "<BatchDataset shapes: ((256, 21), (256, 21)), types: (tf.int32, tf.int32)>"
      ]
     },
     "execution_count": 101,
     "metadata": {},
     "output_type": "execute_result"
    }
   ],
   "source": [
    "BUFFER_SIZE = len(src_input)\n",
    "BATCH_SIZE = 256\n",
    "steps_per_epoch = len(src_input) // BATCH_SIZE\n",
    "\n",
    "VOCAB_SIZE = tokenizer.num_words +1\n",
    "\n",
    "dataset = tf.data.Dataset.from_tensor_slices((src_input,tgt_input))\n",
    "dataset = dataset.shuffle(BUFFER_SIZE)\n",
    "dataset = dataset.batch(BATCH_SIZE,drop_remainder=True)\n",
    "dataset"
   ]
  },
  {
   "cell_type": "markdown",
   "metadata": {},
   "source": [
    "# Step 4. 평가 데이터셋 분리"
   ]
  },
  {
   "cell_type": "code",
   "execution_count": 102,
   "metadata": {},
   "outputs": [],
   "source": [
    "from sklearn.model_selection import train_test_split\n",
    "\n",
    "X = tensor[:,:-1]\n",
    "y = tensor[:,1:]\n",
    "enc_train, enc_val, dec_train, dec_val = train_test_split(X,y,test_size = 0.2)"
   ]
  },
  {
   "cell_type": "markdown",
   "metadata": {},
   "source": [
    "# Step 5. 인공지능 만들기"
   ]
  },
  {
   "cell_type": "code",
   "execution_count": 103,
   "metadata": {},
   "outputs": [],
   "source": [
    "class TextGenerator(tf.keras.Model):\n",
    "    def __init__(self, vocab_size, embedding_size, hidden_size):\n",
    "        super().__init__()\n",
    "        # Embedding 레이어, 2개의 LSTM 레이어, 1개의 Dense 레이어로 구성되어 있다.\n",
    "        # Embedding 레이어는 단어 사전의 인덱스 값을 해당 인덱스 번째의 워드 벡터로 바꿔준다.\n",
    "        # 이 워드 벡터는 의미 벡터 공간에서 단어의 추상적 표현으로 사용된다. \n",
    "        self.embedding = tf.keras.layers.Embedding(vocab_size, embedding_size) \n",
    "        self.rnn_1 = tf.keras.layers.LSTM(hidden_size, return_sequences=True)  \n",
    "        self.rnn_2 = tf.keras.layers.LSTM(hidden_size, return_sequences=True)\n",
    "        self.linear = tf.keras.layers.Dense(vocab_size)\n",
    "        \n",
    "    def call(self, x):\n",
    "        out = self.embedding(x)\n",
    "        out = self.rnn_1(out)\n",
    "        out = self.rnn_2(out)\n",
    "        out = self.linear(out)\n",
    "        \n",
    "        return out"
   ]
  },
  {
   "cell_type": "code",
   "execution_count": 104,
   "metadata": {},
   "outputs": [],
   "source": [
    "embedding_size = 256\n",
    "hidden_size = 1024\n",
    "model = TextGenerator(tokenizer.num_words+1, embedding_size,hidden_size)"
   ]
  },
  {
   "cell_type": "code",
   "execution_count": 105,
   "metadata": {},
   "outputs": [
    {
     "data": {
      "text/plain": [
       "<tf.Tensor: shape=(256, 21, 12001), dtype=float32, numpy=\n",
       "array([[[-1.21119730e-04, -1.19738885e-04,  1.70891144e-05, ...,\n",
       "         -6.23908854e-05,  4.93881467e-04, -1.88387367e-05],\n",
       "        [-5.13922889e-04, -3.59182392e-04,  7.76134257e-05, ...,\n",
       "         -2.52882339e-04,  6.29051123e-04,  5.63973772e-05],\n",
       "        [-6.62973442e-04, -4.80086019e-04,  2.25280673e-04, ...,\n",
       "         -3.27938615e-04,  8.52526224e-04, -8.08773402e-05],\n",
       "        ...,\n",
       "        [ 3.57690989e-03,  2.19079480e-03, -6.19052094e-04, ...,\n",
       "         -3.95590393e-03, -1.06324803e-03, -1.46384339e-03],\n",
       "        [ 3.72518622e-03,  2.12947186e-03, -7.10590219e-04, ...,\n",
       "         -3.97755671e-03, -1.04609784e-03, -1.43377075e-03],\n",
       "        [ 3.85128707e-03,  2.06276379e-03, -7.91124592e-04, ...,\n",
       "         -3.98900406e-03, -1.02527882e-03, -1.40316633e-03]],\n",
       "\n",
       "       [[-1.21119730e-04, -1.19738885e-04,  1.70891144e-05, ...,\n",
       "         -6.23908854e-05,  4.93881467e-04, -1.88387367e-05],\n",
       "        [-1.51312124e-05,  8.52534577e-05,  6.30164286e-05, ...,\n",
       "         -6.61510567e-05,  7.65319681e-04, -1.43780679e-04],\n",
       "        [ 1.32959351e-04, -1.57732939e-06,  6.89097069e-05, ...,\n",
       "         -3.05642170e-05,  6.52022485e-04, -1.95099783e-04],\n",
       "        ...,\n",
       "        [ 2.29166518e-03,  1.83562236e-03, -6.61581871e-05, ...,\n",
       "         -3.57529754e-03, -1.38587411e-03, -1.48007669e-03],\n",
       "        [ 2.57229176e-03,  1.96237070e-03, -1.99461239e-04, ...,\n",
       "         -3.70920543e-03, -1.41905167e-03, -1.53181260e-03],\n",
       "        [ 2.83019221e-03,  2.04665517e-03, -3.29403323e-04, ...,\n",
       "         -3.80920153e-03, -1.42449897e-03, -1.56068511e-03]],\n",
       "\n",
       "       [[-1.21119730e-04, -1.19738885e-04,  1.70891144e-05, ...,\n",
       "         -6.23908854e-05,  4.93881467e-04, -1.88387367e-05],\n",
       "        [-4.44921112e-04, -3.64156382e-04, -1.00808757e-05, ...,\n",
       "         -1.31138746e-04,  7.26296334e-04,  1.63717908e-04],\n",
       "        [-4.37397946e-04, -6.55397074e-04, -8.70255826e-05, ...,\n",
       "          1.72171291e-04,  5.97787206e-04,  2.46787677e-04],\n",
       "        ...,\n",
       "        [ 1.81396643e-03,  2.26303400e-03,  6.16216566e-04, ...,\n",
       "         -3.74565087e-03, -1.14265480e-03, -1.62109267e-03],\n",
       "        [ 2.17010756e-03,  2.31727539e-03,  4.01164521e-04, ...,\n",
       "         -3.91877536e-03, -1.18251808e-03, -1.61515840e-03],\n",
       "        [ 2.49000546e-03,  2.33339518e-03,  1.95604225e-04, ...,\n",
       "         -4.04230086e-03, -1.20129972e-03, -1.59440888e-03]],\n",
       "\n",
       "       ...,\n",
       "\n",
       "       [[-1.21119730e-04, -1.19738885e-04,  1.70891144e-05, ...,\n",
       "         -6.23908854e-05,  4.93881467e-04, -1.88387367e-05],\n",
       "        [-4.95969667e-04, -3.75049189e-04,  3.12438322e-04, ...,\n",
       "         -2.11234030e-04,  7.03772646e-04, -6.54435280e-05],\n",
       "        [-6.05608977e-04, -5.35724510e-04,  4.34935675e-04, ...,\n",
       "         -3.76549549e-04,  6.84691942e-04, -2.14939093e-04],\n",
       "        ...,\n",
       "        [ 2.32991832e-03,  2.14958028e-03, -1.94609340e-04, ...,\n",
       "         -3.68202338e-03, -6.18581544e-04, -1.64924795e-03],\n",
       "        [ 2.58442527e-03,  2.27054511e-03, -2.78826541e-04, ...,\n",
       "         -3.83271673e-03, -7.20879179e-04, -1.67820405e-03],\n",
       "        [ 2.82360264e-03,  2.34507490e-03, -3.68387060e-04, ...,\n",
       "         -3.94264236e-03, -7.98522902e-04, -1.68595021e-03]],\n",
       "\n",
       "       [[-1.21119730e-04, -1.19738885e-04,  1.70891144e-05, ...,\n",
       "         -6.23908854e-05,  4.93881467e-04, -1.88387367e-05],\n",
       "        [-1.27239327e-04, -2.25925774e-04, -1.96468027e-05, ...,\n",
       "         -4.07889718e-04,  7.76360277e-04,  1.42192393e-05],\n",
       "        [-4.06826730e-05, -1.76674221e-04, -1.06041029e-04, ...,\n",
       "         -5.23568247e-04,  9.43182909e-04,  1.36410061e-04],\n",
       "        ...,\n",
       "        [ 2.16777902e-03,  1.99489878e-03,  1.79139897e-04, ...,\n",
       "         -3.34409298e-03, -1.01430598e-03, -8.04974814e-04],\n",
       "        [ 2.46975082e-03,  2.07082182e-03,  3.89626948e-05, ...,\n",
       "         -3.54455505e-03, -1.08291279e-03, -9.27464105e-04],\n",
       "        [ 2.74180132e-03,  2.10873364e-03, -1.04173378e-04, ...,\n",
       "         -3.69671895e-03, -1.12663303e-03, -1.02300826e-03]],\n",
       "\n",
       "       [[-1.21119730e-04, -1.19738885e-04,  1.70891144e-05, ...,\n",
       "         -6.23908854e-05,  4.93881467e-04, -1.88387367e-05],\n",
       "        [-8.35190003e-05, -4.79975351e-05, -7.74080909e-05, ...,\n",
       "         -1.00614998e-04,  4.81796043e-04, -3.03782581e-04],\n",
       "        [-1.59534247e-04, -1.30623637e-04, -2.14387823e-04, ...,\n",
       "         -9.28824447e-05,  7.06703635e-04, -4.27782128e-04],\n",
       "        ...,\n",
       "        [ 3.56359174e-03,  2.28101923e-03, -3.55363707e-04, ...,\n",
       "         -3.78533266e-03, -9.15921526e-04, -1.51770632e-03],\n",
       "        [ 3.70055716e-03,  2.22912244e-03, -4.76731046e-04, ...,\n",
       "         -3.83877521e-03, -9.42769810e-04, -1.49641407e-03],\n",
       "        [ 3.81926703e-03,  2.16725841e-03, -5.87083632e-04, ...,\n",
       "         -3.87705117e-03, -9.56914504e-04, -1.46895996e-03]]],\n",
       "      dtype=float32)>"
      ]
     },
     "execution_count": 105,
     "metadata": {},
     "output_type": "execute_result"
    }
   ],
   "source": [
    "for src_sample, tgt_sample in dataset.take(1): break\n",
    "    \n",
    "model(src_sample)"
   ]
  },
  {
   "cell_type": "code",
   "execution_count": 106,
   "metadata": {},
   "outputs": [
    {
     "name": "stdout",
     "output_type": "stream",
     "text": [
      "Model: \"text_generator_1\"\n",
      "_________________________________________________________________\n",
      "Layer (type)                 Output Shape              Param #   \n",
      "=================================================================\n",
      "embedding_1 (Embedding)      multiple                  3072256   \n",
      "_________________________________________________________________\n",
      "lstm_2 (LSTM)                multiple                  5246976   \n",
      "_________________________________________________________________\n",
      "lstm_3 (LSTM)                multiple                  8392704   \n",
      "_________________________________________________________________\n",
      "dense_1 (Dense)              multiple                  12301025  \n",
      "=================================================================\n",
      "Total params: 29,012,961\n",
      "Trainable params: 29,012,961\n",
      "Non-trainable params: 0\n",
      "_________________________________________________________________\n"
     ]
    }
   ],
   "source": [
    "model.summary()"
   ]
  },
  {
   "cell_type": "code",
   "execution_count": 108,
   "metadata": {},
   "outputs": [],
   "source": [
    "optimizer = tf.keras.optimizers.Adam() # Adam은 현재 가장 많이 사용하는 옵티마이저이다. 자세한 내용은 차차 배운다.\n",
    "loss = tf.keras.losses.SparseCategoricalCrossentropy( # 훈련 데이터의 라벨이 정수의 형태로 제공될 때 사용하는 손실함수이다.\n",
    "    from_logits=True, # 기본값은 False이다. 모델에 의해 생성된 출력 값이 정규화되지 않았음을 손실 함수에 알려준다. 즉 softmax함수가 적용되지 않았다는걸 의미한다. \n",
    "    reduction='none'  # 기본값은 SUM이다. 각자 나오는 값의 반환 원할 때 None을 사용한다.\n",
    ")\n",
    "# 모델을 학습시키키 위한 학습과정을 설정하는 단계이다.\n",
    "model.compile(optimizer=optimizer, loss=loss) # 손실함수와 훈련과정을 설정했다.\n",
    "model.fit(dataset,epochs=10) # 만들어둔 데이터셋으로 모델을 학습한다. 30번 학습을 반복하겠다는 의미다."
   ]
  },
  {
   "cell_type": "code",
   "execution_count": null,
   "metadata": {},
   "outputs": [],
   "source": [
    "#로컬 컴퓨터가 너무 느려서 lms상에서 돌렸어요.\n",
    "#우선 결과는 붙여넣기 할게요. \n",
    "##13000개 정도 tensor를 가지고 한 결과 \n",
    "Epoch 1/10\n",
    "525/525 [==============================] - 134s 251ms/step - loss: 2.1619\n",
    "Epoch 2/10\n",
    "525/525 [==============================] - 137s 260ms/step - loss: 1.8200\n",
    "Epoch 3/10\n",
    "525/525 [==============================] - 136s 259ms/step - loss: 1.7123\n",
    "Epoch 4/10\n",
    "525/525 [==============================] - 136s 259ms/step - loss: 1.6304\n",
    "Epoch 5/10\n",
    "525/525 [==============================] - 136s 259ms/step - loss: 1.5593\n",
    "Epoch 6/10\n",
    "525/525 [==============================] - 136s 259ms/step - loss: 1.4944\n",
    "Epoch 7/10\n",
    "525/525 [==============================] - 136s 259ms/step - loss: 1.4348\n",
    "Epoch 8/10\n",
    "525/525 [==============================] - 137s 260ms/step - loss: 1.3797\n",
    "Epoch 9/10\n",
    "525/525 [==============================] - 137s 260ms/step - loss: 1.3283\n",
    "Epoch 10/10\n",
    "525/525 [==============================] - 136s 260ms/step - loss: 1.2802"
   ]
  },
  {
   "cell_type": "code",
   "execution_count": null,
   "metadata": {},
   "outputs": [],
   "source": [
    "'<start> i love -> '<start> i love you , i m a fool <end> '\n",
    "'<start> you are -> '<start> you are the greatest <end> '\n",
    "'<start> always -> '<start> always , i m the one <end> '\n",
    "'<start> you are -> '<start> you re the only one who knows that <end> '\n",
    "'<start> sky ->'<start> sky is the limit and you know that you can have <end> '"
   ]
  },
  {
   "cell_type": "code",
   "execution_count": null,
   "metadata": {},
   "outputs": [],
   "source": [
    "optimizer = tf.keras.optimizers.Adam() # Adam은 현재 가장 많이 사용하는 옵티마이저이다. 자세한 내용은 차차 배운다.\n",
    "loss = tf.keras.losses.SparseCategoricalCrossentropy( # 훈련 데이터의 라벨이 정수의 형태로 제공될 때 사용하는 손실함수이다.\n",
    "    from_logits=True, # 기본값은 False이다. 모델에 의해 생성된 출력 값이 정규화되지 않았음을 손실 함수에 알려준다. 즉 softmax함수가 적용되지 않았다는걸 의미한다. \n",
    "    reduction='none'  # 기본값은 SUM이다. 각자 나오는 값의 반환 원할 때 None을 사용한다.\n",
    ")\n",
    "# 모델을 학습시키키 위한 학습과정을 설정하는 단계이다.\n",
    "model.compile(optimizer=optimizer, loss=loss) # 손실함수와 훈련과정을 설정했다.\n",
    "model.fit(enc_train,dec_train,epochs=10) # 만들어둔 데이터셋으로 모델을 학습한다. 30번 학습을 반복하겠다는 의미다."
   ]
  },
  {
   "cell_type": "code",
   "execution_count": null,
   "metadata": {},
   "outputs": [],
   "source": [
    "#175232개 정도 tensor를 가지고 한 결과 \n",
    "Epoch 1/10\n",
    "3366/3366 [==============================] - 157s 46ms/step - loss: 1.3962\n",
    "Epoch 2/10\n",
    "3366/3366 [==============================] - 153s 45ms/step - loss: 1.2438\n",
    "Epoch 3/10\n",
    "3366/3366 [==============================] - 153s 45ms/step - loss: 1.1475\n",
    "Epoch 4/10\n",
    "3366/3366 [==============================] - 152s 45ms/step - loss: 1.0684\n",
    "Epoch 5/10\n",
    "3366/3366 [==============================] - 152s 45ms/step - loss: 0.9996\n",
    "Epoch 6/10\n",
    "3366/3366 [==============================] - 151s 45ms/step - loss: 0.9387\n",
    "Epoch 7/10\n",
    "3366/3366 [==============================] - 152s 45ms/step - loss: 0.8846\n",
    "Epoch 8/10\n",
    "3366/3366 [==============================] - 151s 45ms/step - loss: 0.8365\n",
    "Epoch 9/10\n",
    "3366/3366 [==============================] - 151s 45ms/step - loss: 0.7947\n",
    "Epoch 10/10\n",
    "3366/3366 [==============================] - 151s 45ms/step - loss: 0.7590"
   ]
  },
  {
   "cell_type": "code",
   "execution_count": null,
   "metadata": {},
   "outputs": [],
   "source": [
    "'<start> i love ->'<start> i love you so <end> '\n",
    "'<start> you are ->'<start> you are the lady in my life <end> '\n",
    "'<start> always ->'<start> always <end> '\n",
    "'<start> you are ->'<start> you are the lady in my life <end> '\n",
    "'<start> sky ->'<start> sky is the limit and you know that you can have <end> '"
   ]
  },
  {
   "cell_type": "code",
   "execution_count": null,
   "metadata": {},
   "outputs": [],
   "source": [
    "#maxlen을 20으로 한 결과\n",
    "Epoch 1/10\n",
    "687/687 [==============================] - 151s 216ms/step - loss: 2.8733\n",
    "Epoch 2/10\n",
    "687/687 [==============================] - 161s 234ms/step - loss: 2.4726\n",
    "Epoch 3/10\n",
    "687/687 [==============================] - 163s 238ms/step - loss: 2.3140\n",
    "Epoch 4/10\n",
    "687/687 [==============================] - 164s 238ms/step - loss: 2.1969\n",
    "Epoch 5/10\n",
    "687/687 [==============================] - 164s 238ms/step - loss: 2.0994\n",
    "Epoch 6/10\n",
    "687/687 [==============================] - 164s 238ms/step - loss: 2.0119\n",
    "Epoch 7/10\n",
    "687/687 [==============================] - 164s 238ms/step - loss: 1.9304\n",
    "Epoch 8/10\n",
    "687/687 [==============================] - 164s 238ms/step - loss: 1.8543\n",
    "Epoch 9/10\n",
    "687/687 [==============================] - 164s 238ms/step - loss: 1.7825\n",
    "Epoch 10/10\n",
    "687/687 [==============================] - 164s 238ms/step - loss: 1.7146"
   ]
  },
  {
   "cell_type": "code",
   "execution_count": null,
   "metadata": {},
   "outputs": [],
   "source": [
    "'<start> i love ->'<start> i love you , i m not gonna crack <end> '\n",
    "'<start> you are ->'<start> you are the only one who knows that i m so glad <end> '\n",
    "'<start> always ->'<start> always , baby , no <end> '\n",
    "'<start> sky ->'<start> sky is the limit and you know that you can have <end> '"
   ]
  },
  {
   "cell_type": "code",
   "execution_count": null,
   "metadata": {},
   "outputs": [],
   "source": [
    "#결과 4 maxlen=15로 조정한 결과\n",
    "tensor = tf.keras.preprocessing.sequence.pad_sequences(tensor,padding='post',maxlen=15)\n",
    "Epoch 1/10\n",
    "684/684 [==============================] - 74s 101ms/step - loss: 4.6258\n",
    "Epoch 2/10\n",
    "684/684 [==============================] - 74s 107ms/step - loss: 3.9809\n",
    "Epoch 3/10\n",
    "684/684 [==============================] - 77s 112ms/step - loss: 3.7159\n",
    "Epoch 4/10\n",
    "684/684 [==============================] - 77s 112ms/step - loss: 3.5053\n",
    "Epoch 5/10\n",
    "684/684 [==============================] - 76s 111ms/step - loss: 3.3123\n",
    "Epoch 6/10\n",
    "684/684 [==============================] - 77s 112ms/step - loss: 3.1274\n",
    "Epoch 7/10\n",
    "684/684 [==============================] - 77s 112ms/step - loss: 2.9479\n",
    "Epoch 8/10\n",
    "684/684 [==============================] - 76s 112ms/step - loss: 2.7742\n",
    "Epoch 9/10\n",
    "684/684 [==============================] - 77s 112ms/step - loss: 2.6038\n",
    "Epoch 10/10\n",
    "684/684 [==============================] - 77s 112ms/step - loss: 2.4391"
   ]
  },
  {
   "cell_type": "code",
   "execution_count": null,
   "metadata": {},
   "outputs": [],
   "source": [
    "'<start> i love ->'<start> i love you <end> '\n",
    "'<start> you are ->'<start> you are my <unk> <end> '\n",
    "'<start> always ->'<start> always <end> '\n",
    "'<start> sky ->'<start> sky and richard <end> '"
   ]
  },
  {
   "cell_type": "code",
   "execution_count": null,
   "metadata": {},
   "outputs": [],
   "source": [
    "#embedding_size = 512 & hidden_size = 1024\n",
    "Epoch 1/10\n",
    "684/684 [==============================] - 120s 169ms/step - loss: 3.5530\n",
    "Epoch 2/10\n",
    "684/684 [==============================] - 120s 176ms/step - loss: 3.0496\n",
    "Epoch 3/10\n",
    "684/684 [==============================] - 121s 177ms/step - loss: 2.8478\n",
    "Epoch 4/10\n",
    "684/684 [==============================] - 121s 176ms/step - loss: 2.6898\n",
    "Epoch 5/10\n",
    "684/684 [==============================] - 121s 177ms/step - loss: 2.5495\n",
    "Epoch 6/10\n",
    "684/684 [==============================] - 121s 177ms/step - loss: 2.4198\n",
    "Epoch 7/10\n",
    "684/684 [==============================] - 121s 177ms/step - loss: 2.2988\n",
    "Epoch 8/10\n",
    "684/684 [==============================] - 241s 352ms/step - loss: 2.1831\n",
    "Epoch 9/10\n",
    "684/684 [==============================] - 255s 372ms/step - loss: 2.0723\n",
    "Epoch 10/10\n",
    "684/684 [==============================] - 259s 378ms/step - loss: 1.9669"
   ]
  },
  {
   "cell_type": "code",
   "execution_count": null,
   "metadata": {},
   "outputs": [],
   "source": [
    "'<start> i love ->'<start> i love you , liberian girl <end> '\n",
    "'<start> you are ->'<start> you are the only one <end> '\n",
    "'<start> always ->'<start> always searching for a minute <end> '\n",
    "'<start> sky ->'<start> sky is the limit and you know that you can have <end> '\n",
    "#표현의 풍부함을 평가할 수는 없을까? \n",
    "#정확도, 재현율 등등으로는 글을 평가할 수 없을 것 같은데?\n",
    "#참신함을 평가할 순 없을까?"
   ]
  },
  {
   "cell_type": "code",
   "execution_count": null,
   "metadata": {},
   "outputs": [],
   "source": [
    "#embedding_size = 256 & hidden_size = 512\n",
    "Epoch 1/10\n",
    "684/684 [==============================] - 91s 130ms/step - loss: 3.9067\n",
    "Epoch 2/10\n",
    "684/684 [==============================] - 108s 158ms/step - loss: 3.3920\n",
    "Epoch 3/10\n",
    "684/684 [==============================] - 108s 158ms/step - loss: 3.1702\n",
    "Epoch 4/10\n",
    "684/684 [==============================] - 108s 158ms/step - loss: 3.0441\n",
    "Epoch 5/10\n",
    "684/684 [==============================] - 109s 158ms/step - loss: 2.9414\n",
    "Epoch 6/10\n",
    "684/684 [==============================] - 109s 159ms/step - loss: 2.8537\n",
    "Epoch 7/10\n",
    "684/684 [==============================] - 108s 158ms/step - loss: 2.7765\n",
    "Epoch 8/10\n",
    "684/684 [==============================] - 109s 159ms/step - loss: 2.7045\n",
    "Epoch 9/10\n",
    "684/684 [==============================] - 109s 158ms/step - loss: 2.6345\n",
    "Epoch 10/10\n",
    "684/684 [==============================] - 109s 159ms/step - loss: 2.5639"
   ]
  },
  {
   "cell_type": "code",
   "execution_count": null,
   "metadata": {},
   "outputs": [],
   "source": [
    "'<start> i love ->'<start> i love you , i love you <end> '\n",
    "'<start> you are ->'<start> you are the one <end> '\n",
    "'<start> always ->'<start> always in the world <end> '\n",
    "'<start> sky ->'<start> sky is the limit and you know that you can do <end> '"
   ]
  },
  {
   "cell_type": "code",
   "execution_count": null,
   "metadata": {},
   "outputs": [],
   "source": [
    "#embedding_size = 128 & hidden_size = 512\n",
    "Epoch 1/10\n",
    "684/684 [==============================] - 49s 68ms/step - loss: 3.9435\n",
    "Epoch 2/10\n",
    "684/684 [==============================] - 46s 67ms/step - loss: 3.3453\n",
    "Epoch 3/10\n",
    "684/684 [==============================] - 47s 68ms/step - loss: 3.1801\n",
    "Epoch 4/10\n",
    "684/684 [==============================] - 47s 68ms/step - loss: 3.0672\n",
    "Epoch 5/10\n",
    "684/684 [==============================] - 47s 68ms/step - loss: 2.9746\n",
    "Epoch 6/10\n",
    "684/684 [==============================] - 47s 68ms/step - loss: 2.8973\n",
    "Epoch 7/10\n",
    "684/684 [==============================] - 47s 68ms/step - loss: 2.8312\n",
    "Epoch 8/10\n",
    "684/684 [==============================] - 47s 68ms/step - loss: 2.7715\n",
    "Epoch 9/10\n",
    "684/684 [==============================] - 47s 68ms/step - loss: 2.7151\n",
    "Epoch 10/10\n",
    "684/684 [==============================] - 47s 68ms/step - loss: 2.6586"
   ]
  },
  {
   "cell_type": "code",
   "execution_count": null,
   "metadata": {},
   "outputs": [],
   "source": [
    "'<start> i love ->'<start> i love you , i m a <unk> <end> '\n",
    "'<start> you are ->'<start> you are the one <end> '\n",
    "'<start> always ->'<start> always <unk> <end> '\n",
    "'<start> sky ->'<start> sky is the limit and you know that you re gonna <end> '"
   ]
  }
 ],
 "metadata": {
  "kernelspec": {
   "display_name": "aiffel",
   "language": "python",
   "name": "aiffel"
  },
  "language_info": {
   "codemirror_mode": {
    "name": "ipython",
    "version": 3
   },
   "file_extension": ".py",
   "mimetype": "text/x-python",
   "name": "python",
   "nbconvert_exporter": "python",
   "pygments_lexer": "ipython3",
   "version": "3.7.15"
  }
 },
 "nbformat": 4,
 "nbformat_minor": 4
}
