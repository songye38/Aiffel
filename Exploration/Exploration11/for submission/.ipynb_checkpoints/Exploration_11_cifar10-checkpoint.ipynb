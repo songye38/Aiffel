{
 "cells": [
  {
   "cell_type": "code",
   "execution_count": 3,
   "id": "1e80d2ab",
   "metadata": {},
   "outputs": [],
   "source": [
    "import os\n",
    "import glob\n",
    "import time\n",
    "\n",
    "import PIL\n",
    "import imageio\n",
    "import numpy as np\n",
    "import tensorflow as tf\n",
    "from tensorflow.keras import layers\n",
    "from IPython import display\n",
    "import matplotlib.pyplot as plt\n",
    "%matplotlib inline"
   ]
  },
  {
   "cell_type": "markdown",
   "id": "858e3c3b",
   "metadata": {},
   "source": [
    "# STEP 2. 데이터셋 구성하기"
   ]
  },
  {
   "cell_type": "code",
   "execution_count": 1,
   "id": "6e9410c9",
   "metadata": {},
   "outputs": [],
   "source": [
    "def load_data(label=None):\n",
    "    (train_x, train_y), (test_x, test_y) = tf.keras.datasets.cifar10.load_data()\n",
    "    if label:\n",
    "        df = pd.DataFrame(list(zip(train_x, train_y)), columns=['image', 'label']) \n",
    "        df = df[df['label']==label]\n",
    "        train_x = np.array([i for i in list(df['image'])])\n",
    "        df = pd.DataFrame(list(zip(test_x, test_y)), columns =['image', 'label']) \n",
    "        df = df[df['label']==label]\n",
    "        test_x = np.array([i for i in list(df['image'])])\n",
    "    return train_x, test_x"
   ]
  },
  {
   "cell_type": "code",
   "execution_count": 4,
   "id": "b66fc69f",
   "metadata": {},
   "outputs": [
    {
     "name": "stdout",
     "output_type": "stream",
     "text": [
      "Downloading data from https://www.cs.toronto.edu/~kriz/cifar-10-python.tar.gz\n",
      "170500096/170498071 [==============================] - 67s 0us/step\n"
     ]
    },
    {
     "data": {
      "text/plain": [
       "(50000, 32, 32, 3)"
      ]
     },
     "execution_count": 4,
     "metadata": {},
     "output_type": "execute_result"
    }
   ],
   "source": [
    "cifar10 = tf.keras.datasets.cifar10\n",
    "#train_x 50,000장 test_x 10,000장으로 이루어져 있음.\n",
    "(train_x,_),(test_x,_) = load_data()\n",
    "train_x.shape"
   ]
  },
  {
   "cell_type": "markdown",
   "id": "5cad658c",
   "metadata": {},
   "source": [
    "### 2-1) 학습에 사용할 train_x의 이미지를 -1, 1로 정규화"
   ]
  },
  {
   "cell_type": "code",
   "execution_count": 7,
   "id": "fb34dcb4",
   "metadata": {},
   "outputs": [
    {
     "name": "stdout",
     "output_type": "stream",
     "text": [
      "255\n",
      "0\n",
      "1.0\n",
      "-1.0\n"
     ]
    }
   ],
   "source": [
    "print(train_x.max()) #255\n",
    "print(train_x.min()) #0\n",
    "train_x = (train_x - 127.5) / 127.5\n",
    "print(train_x.max()) #1\n",
    "print(train_x.min()) #-1"
   ]
  },
  {
   "cell_type": "markdown",
   "id": "1e105491",
   "metadata": {},
   "source": [
    "### 2-2) 로드한 학습 데이터를 시각화를 통해 확인"
   ]
  },
  {
   "cell_type": "code",
   "execution_count": 9,
   "id": "446d7fa5",
   "metadata": {},
   "outputs": [
    {
     "name": "stderr",
     "output_type": "stream",
     "text": [
      "Clipping input data to the valid range for imshow with RGB data ([0..1] for floats or [0..255] for integers).\n",
      "Clipping input data to the valid range for imshow with RGB data ([0..1] for floats or [0..255] for integers).\n",
      "Clipping input data to the valid range for imshow with RGB data ([0..1] for floats or [0..255] for integers).\n",
      "Clipping input data to the valid range for imshow with RGB data ([0..1] for floats or [0..255] for integers).\n",
      "Clipping input data to the valid range for imshow with RGB data ([0..1] for floats or [0..255] for integers).\n",
      "Clipping input data to the valid range for imshow with RGB data ([0..1] for floats or [0..255] for integers).\n",
      "Clipping input data to the valid range for imshow with RGB data ([0..1] for floats or [0..255] for integers).\n",
      "Clipping input data to the valid range for imshow with RGB data ([0..1] for floats or [0..255] for integers).\n",
      "Clipping input data to the valid range for imshow with RGB data ([0..1] for floats or [0..255] for integers).\n",
      "Clipping input data to the valid range for imshow with RGB data ([0..1] for floats or [0..255] for integers).\n"
     ]
    },
    {
     "data": {
      "image/png": "[encoded data removed]",
      "text/plain": [
       "<Figure size 720x360 with 10 Axes>"
      ]
     },
     "metadata": {
      "needs_background": "light"
     },
     "output_type": "display_data"
    }
   ],
   "source": [
    "plt.figure(figsize=(10,5))\n",
    "#plt.imshow(train_x[0],cmap='gray') #0번 인덱스 이미지 그려보기 \n",
    "for i in range(10): #10개의 이미지를 subplot을 이용해 그리기\n",
    "    plt.subplot(2,5,i+1)\n",
    "    plt.imshow(train_x[i],cmap='gray')\n",
    "    plt.axis('off')\n",
    "plt.show()"
   ]
  },
  {
   "cell_type": "markdown",
   "id": "09ec7d8d",
   "metadata": {},
   "source": [
    "### 2-3) tf.data.Dataset 모듈의 from_tensor_slices() 함수를 사용하여 미니배치 데이터셋을 구성"
   ]
  },
  {
   "cell_type": "code",
   "execution_count": 11,
   "id": "3f6e3e1b",
   "metadata": {},
   "outputs": [
    {
     "name": "stderr",
     "output_type": "stream",
     "text": [
      "2023-01-17 16:29:15.053025: I tensorflow/core/platform/cpu_feature_guard.cc:145] This TensorFlow binary is optimized with Intel(R) MKL-DNN to use the following CPU instructions in performance critical operations:  SSE4.1 SSE4.2 AVX AVX2 FMA\n",
      "To enable them in non-MKL-DNN operations, rebuild TensorFlow with the appropriate compiler flags.\n",
      "2023-01-17 16:29:15.053557: I tensorflow/core/common_runtime/process_util.cc:115] Creating new thread pool with default inter op setting: 8. Tune using inter_op_parallelism_threads for best performance.\n"
     ]
    }
   ],
   "source": [
    "train_dataset = tf.data.Dataset.from_tensor_slices(train_x)"
   ]
  },
  {
   "cell_type": "markdown",
   "id": "8f747c31",
   "metadata": {},
   "source": [
    "# STEP 3. 생성자 모델 구현하기"
   ]
  },
  {
   "cell_type": "markdown",
   "id": "1db16bf9",
   "metadata": {},
   "source": [
    "### 3-1) (32, 32, 3)의 shape를 가진 이미지를 생성하는 생성자 모델 구현 함수를 작성"
   ]
  },
  {
   "cell_type": "code",
   "execution_count": 12,
   "id": "15146508",
   "metadata": {},
   "outputs": [],
   "source": [
    "def make_generator_model():\n",
    "\n",
    "    # Start\n",
    "    model = tf.keras.Sequential()\n",
    "\n",
    "    # First: Dense layer\n",
    "    model.add(layers.Dense(8*8*256, use_bias=False, input_shape=(100,)))\n",
    "    model.add(layers.BatchNormalization())\n",
    "    model.add(layers.LeakyReLU())\n",
    "\n",
    "    # Second: Reshape layer\n",
    "    model.add(layers.Reshape((8, 8, 256)))\n",
    "\n",
    "    # Third: Conv2DTranspose layer\n",
    "    model.add(layers.Conv2DTranspose(128, kernel_size=(5, 5), strides=(1, 1), padding='same', use_bias=False))\n",
    "    model.add(layers.BatchNormalization())\n",
    "    model.add(layers.LeakyReLU())\n",
    "\n",
    "    # Fourth: Conv2DTranspose layer\n",
    "    model.add(layers.Conv2DTranspose(64, kernel_size=(5, 5), strides=(2, 2), padding='same', use_bias=False))\n",
    "    model.add(layers.BatchNormalization())\n",
    "    model.add(layers.LeakyReLU())\n",
    "\n",
    "    # Fifth: Conv2DTranspose layer\n",
    "    model.add(layers.Conv2DTranspose(3, kernel_size=(5, 5), strides=(2, 2), padding='same', use_bias=False, \\\n",
    "                                     activation='tanh'))\n",
    "\n",
    "    return model"
   ]
  },
  {
   "cell_type": "code",
   "execution_count": 13,
   "id": "86607c21",
   "metadata": {},
   "outputs": [
    {
     "name": "stdout",
     "output_type": "stream",
     "text": [
      "Model: \"sequential\"\n",
      "_________________________________________________________________\n",
      "Layer (type)                 Output Shape              Param #   \n",
      "=================================================================\n",
      "dense (Dense)                (None, 16384)             1638400   \n",
      "_________________________________________________________________\n",
      "batch_normalization (BatchNo (None, 16384)             65536     \n",
      "_________________________________________________________________\n",
      "leaky_re_lu (LeakyReLU)      (None, 16384)             0         \n",
      "_________________________________________________________________\n",
      "reshape (Reshape)            (None, 8, 8, 256)         0         \n",
      "_________________________________________________________________\n",
      "conv2d_transpose (Conv2DTran (None, 8, 8, 128)         819200    \n",
      "_________________________________________________________________\n",
      "batch_normalization_1 (Batch (None, 8, 8, 128)         512       \n",
      "_________________________________________________________________\n",
      "leaky_re_lu_1 (LeakyReLU)    (None, 8, 8, 128)         0         \n",
      "_________________________________________________________________\n",
      "conv2d_transpose_1 (Conv2DTr (None, 16, 16, 64)        204800    \n",
      "_________________________________________________________________\n",
      "batch_normalization_2 (Batch (None, 16, 16, 64)        256       \n",
      "_________________________________________________________________\n",
      "leaky_re_lu_2 (LeakyReLU)    (None, 16, 16, 64)        0         \n",
      "_________________________________________________________________\n",
      "conv2d_transpose_2 (Conv2DTr (None, 32, 32, 3)         4800      \n",
      "=================================================================\n",
      "Total params: 2,733,504\n",
      "Trainable params: 2,700,352\n",
      "Non-trainable params: 33,152\n",
      "_________________________________________________________________\n"
     ]
    }
   ],
   "source": [
    "generator = make_generator_model()\n",
    "\n",
    "generator.summary()"
   ]
  },
  {
   "cell_type": "markdown",
   "id": "afc17f08",
   "metadata": {},
   "source": [
    "### 3-2) noise = tf.random.normal([1, 100])로 생성된 랜덤 노이즈를 입력으로 하여 방금 구현한 생성자로 랜덤 이미지를 생성"
   ]
  },
  {
   "cell_type": "code",
   "execution_count": 14,
   "id": "33752ee1",
   "metadata": {},
   "outputs": [
    {
     "name": "stdout",
     "output_type": "stream",
     "text": [
      "(1, 32, 32, 3)\n"
     ]
    }
   ],
   "source": [
    "noise = tf.random.normal([1,100])\n",
    "generated_image = generator(noise,training=False)\n",
    "print(generated_image.shape)"
   ]
  },
  {
   "cell_type": "code",
   "execution_count": null,
   "id": "5b4e5131",
   "metadata": {},
   "outputs": [],
   "source": []
  },
  {
   "cell_type": "markdown",
   "id": "495f8075",
   "metadata": {},
   "source": [
    "### 3-3) 생성된 랜덤 이미지가 생성자 출력 규격에 잘 맞는지 확인"
   ]
  },
  {
   "cell_type": "code",
   "execution_count": 45,
   "id": "025e1416",
   "metadata": {},
   "outputs": [
    {
     "ename": "AttributeError",
     "evalue": "'tensorflow.python.framework.ops.EagerTensor' object has no attribute 'reshape'",
     "output_type": "error",
     "traceback": [
      "\u001b[0;31m---------------------------------------------------------------------------\u001b[0m",
      "\u001b[0;31mAttributeError\u001b[0m                            Traceback (most recent call last)",
      "\u001b[0;32m/var/folders/v5/f_7vslxd3bj07chbkmd7nlkh0000gn/T/ipykernel_23774/533894208.py\u001b[0m in \u001b[0;36m<module>\u001b[0;34m\u001b[0m\n\u001b[0;32m----> 1\u001b[0;31m \u001b[0mplt\u001b[0m\u001b[0;34m.\u001b[0m\u001b[0mimshow\u001b[0m\u001b[0;34m(\u001b[0m\u001b[0mgenerated_image\u001b[0m\u001b[0;34m.\u001b[0m\u001b[0mreshape\u001b[0m\u001b[0;34m(\u001b[0m\u001b[0;36m32\u001b[0m\u001b[0;34m,\u001b[0m \u001b[0;36m32\u001b[0m\u001b[0;34m,\u001b[0m \u001b[0;36m3\u001b[0m\u001b[0;34m)\u001b[0m\u001b[0;34m)\u001b[0m\u001b[0;34m\u001b[0m\u001b[0;34m\u001b[0m\u001b[0m\n\u001b[0m\u001b[1;32m      2\u001b[0m \u001b[0mplt\u001b[0m\u001b[0;34m.\u001b[0m\u001b[0mcolorbar\u001b[0m\u001b[0;34m(\u001b[0m\u001b[0;34m)\u001b[0m\u001b[0;34m\u001b[0m\u001b[0;34m\u001b[0m\u001b[0m\n\u001b[1;32m      3\u001b[0m \u001b[0mplt\u001b[0m\u001b[0;34m.\u001b[0m\u001b[0mshow\u001b[0m\u001b[0;34m(\u001b[0m\u001b[0;34m)\u001b[0m\u001b[0;34m\u001b[0m\u001b[0;34m\u001b[0m\u001b[0m\n",
      "\u001b[0;31mAttributeError\u001b[0m: 'tensorflow.python.framework.ops.EagerTensor' object has no attribute 'reshape'"
     ]
    }
   ],
   "source": [
    "plt.imshow(generated_image.reshape(32, 32, 3))\n",
    "plt.colorbar()\n",
    "plt.show()"
   ]
  },
  {
   "cell_type": "markdown",
   "id": "a6852625",
   "metadata": {},
   "source": [
    "# STEP 4. 판별자 모델 구현하기"
   ]
  },
  {
   "cell_type": "markdown",
   "id": "cc399bdc",
   "metadata": {},
   "source": [
    "### 4-1) (32, 32, 3)의 이미지를 입력으로 받아 1dim을 판별결과를 출력하는 판별자 모델 구현 함수를 작성"
   ]
  },
  {
   "cell_type": "code",
   "execution_count": 33,
   "id": "1e647555",
   "metadata": {},
   "outputs": [],
   "source": [
    "def make_discriminator_model():\n",
    "\n",
    "    # Start\n",
    "    model = tf.keras.Sequential()\n",
    "\n",
    "    # First: Conv2D Layer\n",
    "    model.add(layers.Conv2D(64, (5, 5), strides=(2, 2), padding='same', input_shape=[32, 32, 3]))\n",
    "    model.add(layers.LeakyReLU())\n",
    "    model.add(layers.Dropout(0.3))\n",
    "\n",
    "    # Second: Conv2D Layer\n",
    "    model.add(layers.Conv2D(128, (5, 5), strides=(2, 2), padding='same'))\n",
    "    model.add(layers.LeakyReLU())\n",
    "    model.add(layers.Dropout(0.3))\n",
    "\n",
    "    # Third: Flatten Layer\n",
    "    model.add(layers.Flatten())\n",
    "\n",
    "    # Fourth: Dense Layer\n",
    "    model.add(layers.Dense(1))\n",
    "\n",
    "    return model"
   ]
  },
  {
   "cell_type": "code",
   "execution_count": 34,
   "id": "bef2ae88",
   "metadata": {},
   "outputs": [
    {
     "name": "stdout",
     "output_type": "stream",
     "text": [
      "Model: \"sequential_2\"\n",
      "_________________________________________________________________\n",
      "Layer (type)                 Output Shape              Param #   \n",
      "=================================================================\n",
      "conv2d_2 (Conv2D)            (None, 16, 16, 64)        4864      \n",
      "_________________________________________________________________\n",
      "leaky_re_lu_5 (LeakyReLU)    (None, 16, 16, 64)        0         \n",
      "_________________________________________________________________\n",
      "dropout_2 (Dropout)          (None, 16, 16, 64)        0         \n",
      "_________________________________________________________________\n",
      "conv2d_3 (Conv2D)            (None, 8, 8, 128)         204928    \n",
      "_________________________________________________________________\n",
      "leaky_re_lu_6 (LeakyReLU)    (None, 8, 8, 128)         0         \n",
      "_________________________________________________________________\n",
      "dropout_3 (Dropout)          (None, 8, 8, 128)         0         \n",
      "_________________________________________________________________\n",
      "flatten_1 (Flatten)          (None, 8192)              0         \n",
      "_________________________________________________________________\n",
      "dense_2 (Dense)              (None, 1)                 8193      \n",
      "=================================================================\n",
      "Total params: 217,985\n",
      "Trainable params: 217,985\n",
      "Non-trainable params: 0\n",
      "_________________________________________________________________\n"
     ]
    }
   ],
   "source": [
    "discriminator = make_discriminator_model()\n",
    "discriminator.summary()"
   ]
  },
  {
   "cell_type": "markdown",
   "id": "9531e2cb",
   "metadata": {},
   "source": [
    "### 4-2) 위 STEP 2에서 생성한 랜덤 이미지를 판별자 모델이 판별한 결과값을 확인"
   ]
  },
  {
   "cell_type": "code",
   "execution_count": 36,
   "id": "df705a78",
   "metadata": {},
   "outputs": [
    {
     "name": "stdout",
     "output_type": "stream",
     "text": [
      "tf.Tensor([[-0.00095175]], shape=(1, 1), dtype=float32)\n"
     ]
    }
   ],
   "source": [
    "decision = discriminator(generated_image,training=False)\n",
    "print(decision)"
   ]
  },
  {
   "cell_type": "markdown",
   "id": "1dbb5737",
   "metadata": {},
   "source": [
    "# STEP 5. 손실함수와 최적화 함수 구현하기"
   ]
  },
  {
   "cell_type": "markdown",
   "id": "70c60d98",
   "metadata": {},
   "source": [
    "### 5-1) 생성자와 판별자의 손실함수(loss)를 구현"
   ]
  },
  {
   "cell_type": "code",
   "execution_count": 38,
   "id": "f785dd36",
   "metadata": {},
   "outputs": [],
   "source": [
    "cross_entropy = tf.keras.losses.BinaryCrossentropy(from_logits=True)\n",
    "def generator_loss(fake_output):\n",
    "    return cross_entropy(tf.ones_like(fake_output),fake_output)\n",
    "    \n",
    "def discriminator_loss(real_output,fake_output):\n",
    "    real_loss = cross_entropy(tf.ones_like(real_output),real_output)\n",
    "    fake_loss = cross_entropy(tf.zeros_like(fake_output),fake_output)\n",
    "    total_loss = real_loss + fake_loss\n",
    "    return total_loss "
   ]
  },
  {
   "cell_type": "markdown",
   "id": "9998c477",
   "metadata": {},
   "source": [
    "### 5-2) 판별자의 출력값을 가지고 실제/생성(real/fake) 이미지 판별 정확도(accuracy)를 계산하는 함수를 구현"
   ]
  },
  {
   "cell_type": "code",
   "execution_count": 40,
   "id": "c8a5ff1e",
   "metadata": {},
   "outputs": [],
   "source": [
    "def discriminator_accuracy(real_output,fake_output):\n",
    "    real_accuracy = tf.reduce_mean(tf.cast(tf.math.greater_equal(real_output, tf.constant([0.5])), tf.float32))\n",
    "    fake_accuracy = tf.reduce_mean(tf.cast(tf.math.less(fake_output, tf.constant([0.5])), tf.float32))\n",
    "    return real_accuracy, fake_accuracy"
   ]
  },
  {
   "cell_type": "markdown",
   "id": "267e6b33",
   "metadata": {},
   "source": [
    "### 5-3) 생성자와 판별자를 최적화하는 optimizer를 정의"
   ]
  },
  {
   "cell_type": "code",
   "execution_count": 42,
   "id": "259cc81a",
   "metadata": {},
   "outputs": [],
   "source": [
    "generator_optimizer = tf.keras.optimizers.Adam(1e-4)\n",
    "discriminator_optimizer = tf.keras.optimizers.Adam(1e-4)"
   ]
  },
  {
   "cell_type": "code",
   "execution_count": null,
   "id": "6f361fb3",
   "metadata": {},
   "outputs": [],
   "source": [
    "BATCH_SIZE = 256\n",
    "noise_dim = 100\n",
    "num_examples_to_generate = 16\n",
    "\n",
    "seed = tf.random.normal([num_examples_to_generate, noise_dim])\n",
    "seed.shape"
   ]
  },
  {
   "cell_type": "markdown",
   "id": "faca2e06",
   "metadata": {},
   "source": [
    "# STEP 6. 훈련과정 상세 기능 구현하기"
   ]
  },
  {
   "cell_type": "markdown",
   "id": "d06f52de",
   "metadata": {},
   "source": [
    "### 6-1) 1개 미니배치의 훈련 과정을 처리하는 train_step() 함수를 구현"
   ]
  },
  {
   "cell_type": "code",
   "execution_count": null,
   "id": "a1eef0ce",
   "metadata": {},
   "outputs": [],
   "source": [
    "def train_step(images):\n",
    "    #1. 노이즈를 생성해준다.\n",
    "    noise = tf.random.normal([BATCH_SIZE,noise_dim])\n",
    "    #2. 미분을 계산할 수 있는 그라디언트 테이프를 생성자, 판별자용으로 2개 만든다.\n",
    "    with tf.GradientTape() as gen_tape, tf.GradientTape() as disc_tape:\n",
    "        #3. 그 안에서 계산을 해준다. \n",
    "        #4. 위에서 만든 노이즈를 가지고 생성자로 이미지를 만든다. \n",
    "        generated_images = generator(noise,training=True)\n",
    "        #5. 판별자로 판별한다. \n",
    "        real_output= discriminator(images,training=True)\n",
    "        fake_output = discriminator(generated_images,training=True)\n",
    "    #6. loss 계산한다.\n",
    "        gen_loss =  generator_loss(fake_output)\n",
    "        disc_loss = discriminator_loss(real_output,fake_output)\n",
    "    #7. accuracy 계산한다. \n",
    "        real_accuracy, fake_accuracy = discriminator_accuracy(real_output,fake_output)\n",
    "    #8. 미분을 계산해야 할 것들의 계산이 끝난다. \n",
    "    #9. gradient를 생성자,판별자 각각 계산한다. \n",
    "        gen_graident = gen_tape.gradient(gen_loss,generator.trainable_variables)\n",
    "        disc_gradient = disc_tape.gradient(disc_loss,dicriminator.trainable_variables)\n",
    "    #10. 각각의 옵티마이저에 그라디언트를 적용한다. \n",
    "        generator_optimizer.apply_gradients(zip(gen_graident,generator.trainable_variables))\n",
    "        discriminator_optimizer.apply_gradients(zip(disc_gradient,dicriminator.trainable_variables))\n",
    "    #11. 생성자와 판별자의 loss, accuracy를 리턴한다. \n",
    "        return gen_loss,disc_loss,real_accuracy,fake_accuracy"
   ]
  },
  {
   "cell_type": "markdown",
   "id": "b2c4f776",
   "metadata": {},
   "source": [
    "### 6-2) 16개의 고정된 seed를 입력으로 하여 훈련 과정 동안 생성한 이미지를 시각화하는 generate_and_save_images() 함수를 구현"
   ]
  },
  {
   "cell_type": "code",
   "execution_count": null,
   "id": "9d57f648",
   "metadata": {},
   "outputs": [],
   "source": [
    "def generate_and_save_images(model,epoch,it,sample_seeds):\n",
    "    #1. 모델을 통해 샘플을 prediction을 하나 만든다. \n",
    "    predictions = model(sample_seeds,training=False)\n",
    "    #2. 4,4 subplot으로 이미지 그려주기\n",
    "    for i in range(predictions.shape[0]):\n",
    "        plt.subplot(4,4,i+1)\n",
    "        plt.imshow(predictions[i,:,:,0],cmap='hsv')\n",
    "        plt.axis('off')\n",
    "    #3. savefig를 통해 그렇게 만들어진 이미지를 저장해주기 \n",
    "    plt.savefig('./cifar10/generated_samples/sample_epoch_{:04d}_iter_{:03d}.png'.format(epoch, it))\n",
    "    plt.show()"
   ]
  },
  {
   "cell_type": "markdown",
   "id": "07202405",
   "metadata": {},
   "source": [
    "### 6-3) 훈련 epoch마다 생성자/판별자의 loss 및 판별자의 실제/생성(real/fake) 이미지 판별 accuracy 히스토리(history)를 그래프로 시각화하는 draw_train_history() 함수를 구현"
   ]
  },
  {
   "cell_type": "code",
   "execution_count": null,
   "id": "b40a323b",
   "metadata": {},
   "outputs": [],
   "source": [
    "def draw_train_history(history,epoch):\n",
    "    #1. loss 그려주기\n",
    "    plt.subplot(211)\n",
    "    plt.plot(history['gen_loss'])\n",
    "    plt.plot(history['disc_loss'])\n",
    "    plt.title('model loss')\n",
    "    plt.ylabel('loss')\n",
    "    plt.xlabel('batch iters')\n",
    "    plt.legend(['gen_loss','disc_loss'],loc='upper left')\n",
    "    \n",
    "    #2. accuracy 그려주기 \n",
    "    plt.subplot(212)\n",
    "    plt.plot(history['fake_accuracy'])\n",
    "    plt.plot(history['real_accuracy'])\n",
    "    plt.title('discriminator accuracy')\n",
    "    plt.ylabel('accuracy')\n",
    "    plt.xlabel('batch iters')\n",
    "    plt.legend(['fake_accuracy','real_accuracy'],loc='upper left')\n",
    "    \n",
    "    #3. 저장해주기 \n",
    "    plt.savefig('./cifar10/training_history/train_history_{:04d}.png'.format(epoch))\n",
    "    plt.show()"
   ]
  },
  {
   "cell_type": "markdown",
   "id": "1be57f97",
   "metadata": {},
   "source": [
    "### training_checkpoints 디렉토리에 몇 epoch마다 모델을 저장하는 checkpoint 모듈을 설정"
   ]
  },
  {
   "cell_type": "code",
   "execution_count": null,
   "id": "76d4c2dc",
   "metadata": {},
   "outputs": [],
   "source": [
    "#1. 체크포인트를 저장할 폴더 위치 정해주기\n",
    "checkpoint_dir = \"./cifar10/training_checkpoints\"\n",
    "checkpoint_prefix = os.path.join(checkpoint_dir,'ckpt')\n",
    "#2. 옵티마이저 각각, 모델 각각 저장해주기 \n",
    "checkpoints = tf.train.Checkpoint(generator_optimizer=generator_optimizer,\n",
    "                                 discriminator_optimizer=discriminator_optimizer,\n",
    "                                 generator = generator,\n",
    "                                 discriminator=discriminator)"
   ]
  },
  {
   "cell_type": "markdown",
   "id": "daea4543",
   "metadata": {},
   "source": [
    "# STEP 7. 학습 과정 진행하기"
   ]
  },
  {
   "cell_type": "markdown",
   "id": "fba4020b",
   "metadata": {},
   "source": [
    "### 7-1) 위 STEP 5에서 구현한 기능들을 활용하여 최소 50 epoch만큼의 모델 학습을 진행"
   ]
  },
  {
   "cell_type": "markdown",
   "id": "97fbac54",
   "metadata": {},
   "source": [
    "### 7-2) 학습 과정에서 생성된 샘플 이미지로 만든 gif 파일을 통해 학습 진행 과정을 시각적으로 표현"
   ]
  },
  {
   "cell_type": "markdown",
   "id": "1f128c24",
   "metadata": {},
   "source": [
    "### 7-3) 학습 과정을 담은 샘플 이미지, gif 파일, 학습 진행 그래프 이미지를 함께 제출"
   ]
  }
 ],
 "metadata": {
  "kernelspec": {
   "display_name": "aiffel",
   "language": "python",
   "name": "aiffel"
  },
  "language_info": {
   "codemirror_mode": {
    "name": "ipython",
    "version": 3
   },
   "file_extension": ".py",
   "mimetype": "text/x-python",
   "name": "python",
   "nbconvert_exporter": "python",
   "pygments_lexer": "ipython3",
   "version": "3.7.15"
  }
 },
 "nbformat": 4,
 "nbformat_minor": 5
}
