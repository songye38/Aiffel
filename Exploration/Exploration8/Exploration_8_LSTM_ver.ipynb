{
 "cells": [
  {
   "cell_type": "code",
   "execution_count": 1,
   "id": "2c730578",
   "metadata": {},
   "outputs": [],
   "source": [
    "import tensorflow as tf"
   ]
  },
  {
   "cell_type": "code",
   "execution_count": 2,
   "id": "f03f7cb0",
   "metadata": {},
   "outputs": [
    {
     "name": "stderr",
     "output_type": "stream",
     "text": [
      "/Users/songye/opt/anaconda3/envs/aiffel/lib/python3.7/site-packages/tensorflow_core/python/keras/datasets/imdb.py:129: VisibleDeprecationWarning: Creating an ndarray from ragged nested sequences (which is a list-or-tuple of lists-or-tuples-or ndarrays with different lengths or shapes) is deprecated. If you meant to do this, you must specify 'dtype=object' when creating the ndarray\n",
      "  x_train, y_train = np.array(xs[:idx]), np.array(labels[:idx])\n"
     ]
    },
    {
     "name": "stdout",
     "output_type": "stream",
     "text": [
      "25000 25000\n"
     ]
    },
    {
     "name": "stderr",
     "output_type": "stream",
     "text": [
      "/Users/songye/opt/anaconda3/envs/aiffel/lib/python3.7/site-packages/tensorflow_core/python/keras/datasets/imdb.py:130: VisibleDeprecationWarning: Creating an ndarray from ragged nested sequences (which is a list-or-tuple of lists-or-tuples-or ndarrays with different lengths or shapes) is deprecated. If you meant to do this, you must specify 'dtype=object' when creating the ndarray\n",
      "  x_test, y_test = np.array(xs[idx:]), np.array(labels[idx:])\n"
     ]
    }
   ],
   "source": [
    "imdb = tf.keras.datasets.imdb\n",
    "\n",
    "(x_train,y_train),(x_test,y_test) = imdb.load_data(num_words=10000)\n",
    "print(len(x_train),len(x_test))"
   ]
  },
  {
   "cell_type": "code",
   "execution_count": 3,
   "id": "5bcd5fac",
   "metadata": {},
   "outputs": [
    {
     "name": "stdout",
     "output_type": "stream",
     "text": [
      "[1, 14, 22, 16, 43, 530, 973, 1622, 1385, 65, 458, 4468, 66, 3941, 4, 173, 36, 256, 5, 25, 100, 43, 838, 112, 50, 670, 2, 9, 35, 480, 284, 5, 150, 4, 172, 112, 167, 2, 336, 385, 39, 4, 172, 4536, 1111, 17, 546, 38, 13, 447, 4, 192, 50, 16, 6, 147, 2025, 19, 14, 22, 4, 1920, 4613, 469, 4, 22, 71, 87, 12, 16, 43, 530, 38, 76, 15, 13, 1247, 4, 22, 17, 515, 17, 12, 16, 626, 18, 2, 5, 62, 386, 12, 8, 316, 8, 106, 5, 4, 2223, 5244, 16, 480, 66, 3785, 33, 4, 130, 12, 16, 38, 619, 5, 25, 124, 51, 36, 135, 48, 25, 1415, 33, 6, 22, 12, 215, 28, 77, 52, 5, 14, 407, 16, 82, 2, 8, 4, 107, 117, 5952, 15, 256, 4, 2, 7, 3766, 5, 723, 36, 71, 43, 530, 476, 26, 400, 317, 46, 7, 4, 2, 1029, 13, 104, 88, 4, 381, 15, 297, 98, 32, 2071, 56, 26, 141, 6, 194, 7486, 18, 4, 226, 22, 21, 134, 476, 26, 480, 5, 144, 30, 5535, 18, 51, 36, 28, 224, 92, 25, 104, 4, 226, 65, 16, 38, 1334, 88, 12, 16, 283, 5, 16, 4472, 113, 103, 32, 15, 16, 5345, 19, 178, 32]\n",
      "1\n"
     ]
    }
   ],
   "source": [
    "#0번째 리뷰 확인\n",
    "print(x_train[0])\n",
    "\n",
    "#0번째 리뷰의 라벨\n",
    "print(y_train[0]) #긍정"
   ]
  },
  {
   "cell_type": "code",
   "execution_count": 4,
   "id": "42626d16",
   "metadata": {},
   "outputs": [
    {
     "name": "stdout",
     "output_type": "stream",
     "text": [
      "the\n",
      "1\n"
     ]
    }
   ],
   "source": [
    "word_to_index = imdb.get_word_index()\n",
    "index_to_word = {index:word for word, index in word_to_index.items()}\n",
    "print(index_to_word[1])\n",
    "print(word_to_index['the'])"
   ]
  },
  {
   "cell_type": "code",
   "execution_count": 5,
   "id": "301bb827",
   "metadata": {},
   "outputs": [],
   "source": [
    "def get_encoded_sentence(sentence, word_to_index):\n",
    "    return [word_to_index['<BOS>']]+[word_to_index[word] if word in word_to_index else word_to_index['<UNK>'] for word in sentence.split()]\n",
    "def get_encoded_sentences(sentences, word_to_index):\n",
    "    return [get_encoded_sentence(sentence, word_to_index) for sentence in sentences]"
   ]
  },
  {
   "cell_type": "code",
   "execution_count": 6,
   "id": "4b50e81a",
   "metadata": {},
   "outputs": [],
   "source": [
    "def get_decoded_sentence(encoded_sentence, index_to_word):\n",
    "    return ' '.join(index_to_word[index] if index in index_to_word else '<UNK>' for index in encoded_sentence[1:])  #[1:]를 통해 <BOS>를 제외\n",
    "# 여러 개의 숫자 벡터로 encode된 문장을 한꺼번에 원래대로 decode하는 함수입니다. \n",
    "def get_decoded_sentences(encoded_sentences, index_to_word):\n",
    "    return [get_decoded_sentence(encoded_sentence, index_to_word) for encoded_sentence in encoded_sentences]"
   ]
  },
  {
   "cell_type": "code",
   "execution_count": 7,
   "id": "391124a7",
   "metadata": {},
   "outputs": [
    {
     "name": "stdout",
     "output_type": "stream",
     "text": [
      "as you with out themselves powerful lets loves their becomes reaching had journalist of lot from anyone to have after out atmosphere never more room and it so heart shows to years of every never going and help moments or of every chest visual movie except her was several of enough more with is now current film as you of mine potentially unfortunately of you than him that with out themselves her get for was camp of you movie sometimes movie that with scary but and to story wonderful that in seeing in character to of 70s musicians with heart had shadows they of here that with her serious to have does when from why what have critics they is you that isn't one will very to as itself with other and in of seen over landed for anyone of and br show's to whether from than out themselves history he name half some br of and odd was two most of mean for 1 any an boat she he should is thought frog but of script you not while history he heart to real at barrel but when from one bit then have two of script their with her nobody most that with wasn't to with armed acting watch an for with heartfelt film want an\n"
     ]
    }
   ],
   "source": [
    "print(get_decoded_sentence(x_train[0],index_to_word))"
   ]
  },
  {
   "cell_type": "code",
   "execution_count": 8,
   "id": "54484fa8",
   "metadata": {},
   "outputs": [
    {
     "name": "stdout",
     "output_type": "stream",
     "text": [
      "<BOS>\n",
      "4\n",
      "the\n",
      "this film was just brilliant casting location scenery story direction everyone's really suited the part they played and you could just imagine being there robert <UNK> is an amazing actor and now the same being director <UNK> father came from the same scottish island as myself so i loved the fact there was a real connection with this film the witty remarks throughout the film were great it was just brilliant so much that i bought the film as soon as it was released for <UNK> and would recommend it to everyone to watch and the fly fishing was amazing really cried at the end it was so sad and you know what they say if you cry at a film it must have been good and this definitely was also <UNK> to the two little boy's that played the <UNK> of norman and paul they were just brilliant children are often left out of the <UNK> list i think because the stars that play them all grown up are such a big profile for the whole film but these children are amazing and should be praised for what they have done don't you think the whole story was so lovely because it was true and was someone's life after all that was shared with us all\n"
     ]
    }
   ],
   "source": [
    "#실제 인코딩 인덱스는 제공된 word_to_index에서 index 기준으로 3씩 뒤로 밀려 있습니다.  \n",
    "word_to_index = {k:(v+3) for k,v in word_to_index.items()}\n",
    "\n",
    "# 처음 몇 개 인덱스는 사전에 정의되어 있습니다.\n",
    "word_to_index[\"<PAD>\"] = 0\n",
    "word_to_index[\"<BOS>\"] = 1\n",
    "word_to_index[\"<UNK>\"] = 2  # unknown\n",
    "word_to_index[\"<UNUSED>\"] = 3\n",
    "\n",
    "index_to_word = {index:word for word, index in word_to_index.items()}\n",
    "\n",
    "print(index_to_word[1])     # '<BOS>' 가 출력됩니다. \n",
    "print(word_to_index['the'])  # 4 이 출력됩니다. \n",
    "print(index_to_word[4])     # 'the' 가 출력됩니다.\n",
    "\n",
    "# 보정 후 x_train[0] 데이터\n",
    "print(get_decoded_sentence(x_train[0], index_to_word))"
   ]
  },
  {
   "cell_type": "code",
   "execution_count": 10,
   "id": "5d1a68ff",
   "metadata": {},
   "outputs": [
    {
     "name": "stdout",
     "output_type": "stream",
     "text": [
      "this film was just brilliant casting location scenery story direction everyone's really suited the part they played and you could just imagine being there robert <UNK> is an amazing actor and now the same being director <UNK> father came from the same scottish island as myself so i loved the fact there was a real connection with this film the witty remarks throughout the film were great it was just brilliant so much that i bought the film as soon as it was released for <UNK> and would recommend it to everyone to watch and the fly fishing was amazing really cried at the end it was so sad and you know what they say if you cry at a film it must have been good and this definitely was also <UNK> to the two little boy's that played the <UNK> of norman and paul they were just brilliant children are often left out of the <UNK> list i think because the stars that play them all grown up are such a big profile for the whole film but these children are amazing and should be praised for what they have done don't you think the whole story was so lovely because it was true and was someone's life after all that was shared with us all\n",
      "라벨 :  1\n"
     ]
    }
   ],
   "source": [
    "#encode된 텍스트가 정상적으로 decode되는지 확인해보기\n",
    "print(get_decoded_sentence(x_train[0],index_to_word))\n",
    "print(\"라벨 : \",y_train[0])"
   ]
  },
  {
   "cell_type": "code",
   "execution_count": 13,
   "id": "0ba52e16",
   "metadata": {},
   "outputs": [
    {
     "name": "stdout",
     "output_type": "stream",
     "text": [
      "문장길이 평균 :  234.75892\n",
      "문장길이 최대 :  2494\n",
      "문장길이 표준편차 :  172.91149458735703\n"
     ]
    }
   ],
   "source": [
    "import numpy as np\n",
    "#결국 리뷰들의 문장길이는 전부 다르다. \n",
    "#이 길이를 어느 길이로 통일시키는지에 따라 모델의 성능이 달라진다.\n",
    "total_data_text = list(x_train) + list(x_test)\n",
    "num_tokens = [len(token) for token in total_data_text] #한 문장의 길이가 쭈욱 나온다.\n",
    "num_tokens = np.array(num_tokens)\n",
    "\n",
    "print(\"문장길이 평균 : \",np.mean(num_tokens))\n",
    "print(\"문장길이 최대 : \",np.max(num_tokens))\n",
    "print(\"문장길이 표준편차 : \",np.std(num_tokens))"
   ]
  },
  {
   "cell_type": "code",
   "execution_count": 15,
   "id": "33fb2eed",
   "metadata": {},
   "outputs": [
    {
     "name": "stdout",
     "output_type": "stream",
     "text": [
      "pad sequence maxlen :  580\n",
      "전체 문장의 0.94536%가 maxlen 설정값 이내에 포함됩니다. \n"
     ]
    }
   ],
   "source": [
    "max_tokens = np.mean(num_tokens) + 2 * np.std(num_tokens)\n",
    "maxlen = int(max_tokens)\n",
    "print(\"pad sequence maxlen : \",maxlen)\n",
    "print(\"전체 문장의 {}%가 maxlen 설정값 이내에 포함됩니다. \".format(np.sum(num_tokens < max_tokens) / len(num_tokens)))"
   ]
  },
  {
   "cell_type": "code",
   "execution_count": 16,
   "id": "d41f0efb",
   "metadata": {},
   "outputs": [
    {
     "name": "stdout",
     "output_type": "stream",
     "text": [
      "(25000, 580)\n"
     ]
    }
   ],
   "source": [
    "x_train = tf.keras.preprocessing.sequence.pad_sequences(x_train,\n",
    "                                                        value=word_to_index[\"<PAD>\"],\n",
    "                                                        padding='post', # 혹은 'pre'\n",
    "                                                        maxlen=maxlen)\n",
    "\n",
    "x_test = tf.keras.preprocessing.sequence.pad_sequences(x_test,\n",
    "                                                       value=word_to_index[\"<PAD>\"],\n",
    "                                                       padding='post', # 혹은 'pre'\n",
    "                                                       maxlen=maxlen)\n",
    "\n",
    "print(x_train.shape)"
   ]
  },
  {
   "cell_type": "markdown",
   "id": "b53c5eba",
   "metadata": {},
   "source": [
    "# 딥러닝 모델 설계와 훈련"
   ]
  },
  {
   "cell_type": "code",
   "execution_count": 17,
   "id": "3d1a5574",
   "metadata": {},
   "outputs": [
    {
     "name": "stderr",
     "output_type": "stream",
     "text": [
      "2023-01-20 12:23:21.740022: I tensorflow/core/platform/cpu_feature_guard.cc:145] This TensorFlow binary is optimized with Intel(R) MKL-DNN to use the following CPU instructions in performance critical operations:  SSE4.1 SSE4.2 AVX AVX2 FMA\n",
      "To enable them in non-MKL-DNN operations, rebuild TensorFlow with the appropriate compiler flags.\n",
      "2023-01-20 12:23:21.741684: I tensorflow/core/common_runtime/process_util.cc:115] Creating new thread pool with default inter op setting: 8. Tune using inter_op_parallelism_threads for best performance.\n"
     ]
    },
    {
     "name": "stdout",
     "output_type": "stream",
     "text": [
      "Model: \"sequential\"\n",
      "_________________________________________________________________\n",
      "Layer (type)                 Output Shape              Param #   \n",
      "=================================================================\n",
      "embedding (Embedding)        (None, None, 16)          160000    \n",
      "_________________________________________________________________\n",
      "lstm (LSTM)                  (None, 8)                 800       \n",
      "_________________________________________________________________\n",
      "dense (Dense)                (None, 8)                 72        \n",
      "_________________________________________________________________\n",
      "dense_1 (Dense)              (None, 1)                 9         \n",
      "=================================================================\n",
      "Total params: 160,881\n",
      "Trainable params: 160,881\n",
      "Non-trainable params: 0\n",
      "_________________________________________________________________\n"
     ]
    }
   ],
   "source": [
    "vocab_size = 10000\n",
    "word_vector_dim = 16\n",
    "\n",
    "model = tf.keras.Sequential()\n",
    "model.add(tf.keras.layers.Embedding(vocab_size,word_vector_dim,input_shape=(None,)))\n",
    "model.add(tf.keras.layers.LSTM(8))\n",
    "model.add(tf.keras.layers.Dense(8,activation='relu'))\n",
    "model.add(tf.keras.layers.Dense(1,activation='sigmoid'))\n",
    "\n",
    "model.summary()"
   ]
  },
  {
   "cell_type": "code",
   "execution_count": 18,
   "id": "069208e3",
   "metadata": {},
   "outputs": [
    {
     "name": "stdout",
     "output_type": "stream",
     "text": [
      "(15000, 580)\n",
      "(15000,)\n"
     ]
    }
   ],
   "source": [
    "x_val = x_train[:10000]\n",
    "y_val = y_train[:10000]\n",
    "\n",
    "partial_x_train = x_train[10000:]\n",
    "partial_y_train = y_train[10000:]\n",
    "\n",
    "print(partial_x_train.shape)\n",
    "print(partial_y_train.shape)"
   ]
  },
  {
   "cell_type": "markdown",
   "id": "e5526caf",
   "metadata": {},
   "source": [
    "### 모델 학습 진행"
   ]
  },
  {
   "cell_type": "code",
   "execution_count": 19,
   "id": "3de49ce8",
   "metadata": {
    "scrolled": true
   },
   "outputs": [
    {
     "name": "stdout",
     "output_type": "stream",
     "text": [
      "Train on 15000 samples, validate on 10000 samples\n",
      "Epoch 1/20\n"
     ]
    },
    {
     "name": "stderr",
     "output_type": "stream",
     "text": [
      "2023-01-20 12:26:52.930706: W tensorflow/core/grappler/optimizers/implementation_selector.cc:310] Skipping optimization due to error while loading function libraries: Invalid argument: Functions '__inference___backward_standard_lstm_2916_3401_specialized_for_StatefulPartitionedCall_at___inference_distributed_function_3554' and '__inference___backward_cudnn_lstm_with_fallback_2572_2754' both implement 'lstm_31b4dd15-6fb7-4f0c-9df3-d94754d3512d' but their signatures do not match.\n"
     ]
    },
    {
     "name": "stdout",
     "output_type": "stream",
     "text": [
      "14848/15000 [============================>.] - ETA: 1s - loss: 0.6930 - accuracy: 0.5042"
     ]
    },
    {
     "name": "stderr",
     "output_type": "stream",
     "text": [
      "2023-01-20 12:28:44.338869: W tensorflow/core/grappler/optimizers/implementation_selector.cc:310] Skipping optimization due to error while loading function libraries: Invalid argument: Functions '__inference_cudnn_lstm_with_fallback_3955' and '__inference_standard_lstm_3844_specialized_for_sequential_lstm_StatefulPartitionedCall_at___inference_distributed_function_4210' both implement 'lstm_a8a22b0d-b7d5-4924-8f05-07f424d605b1' but their signatures do not match.\n"
     ]
    },
    {
     "name": "stdout",
     "output_type": "stream",
     "text": [
      "15000/15000 [==============================] - 149s 10ms/sample - loss: 0.6930 - accuracy: 0.5035 - val_loss: 0.6928 - val_accuracy: 0.5013\n",
      "Epoch 2/20\n",
      "15000/15000 [==============================] - 97s 6ms/sample - loss: 0.6923 - accuracy: 0.5101 - val_loss: 0.6925 - val_accuracy: 0.5019\n",
      "Epoch 3/20\n",
      "15000/15000 [==============================] - 81s 5ms/sample - loss: 0.6899 - accuracy: 0.5113 - val_loss: 0.6904 - val_accuracy: 0.5051\n",
      "Epoch 4/20\n",
      "15000/15000 [==============================] - 84s 6ms/sample - loss: 0.6840 - accuracy: 0.5259 - val_loss: 0.6871 - val_accuracy: 0.5128\n",
      "Epoch 5/20\n",
      "15000/15000 [==============================] - 140s 9ms/sample - loss: 0.6776 - accuracy: 0.5374 - val_loss: 0.6961 - val_accuracy: 0.5142\n",
      "Epoch 6/20\n",
      "15000/15000 [==============================] - 125s 8ms/sample - loss: 0.6729 - accuracy: 0.5384 - val_loss: 0.6819 - val_accuracy: 0.5221\n",
      "Epoch 7/20\n",
      "15000/15000 [==============================] - 125s 8ms/sample - loss: 0.6743 - accuracy: 0.5515 - val_loss: 0.6885 - val_accuracy: 0.5092\n",
      "Epoch 8/20\n",
      "15000/15000 [==============================] - 123s 8ms/sample - loss: 0.6741 - accuracy: 0.5321 - val_loss: 0.6915 - val_accuracy: 0.5082\n",
      "Epoch 9/20\n",
      "15000/15000 [==============================] - 126s 8ms/sample - loss: 0.6718 - accuracy: 0.5347 - val_loss: 0.6916 - val_accuracy: 0.5095\n",
      "Epoch 10/20\n",
      "15000/15000 [==============================] - 126s 8ms/sample - loss: 0.6698 - accuracy: 0.5378 - val_loss: 0.6925 - val_accuracy: 0.5119\n",
      "Epoch 11/20\n",
      "15000/15000 [==============================] - 128s 9ms/sample - loss: 0.6676 - accuracy: 0.5412 - val_loss: 0.6958 - val_accuracy: 0.5152\n",
      "Epoch 12/20\n",
      "15000/15000 [==============================] - 126s 8ms/sample - loss: 0.7253 - accuracy: 0.5997 - val_loss: 1.1126 - val_accuracy: 0.6904\n",
      "Epoch 13/20\n",
      "15000/15000 [==============================] - 97s 6ms/sample - loss: 0.9535 - accuracy: 0.6704 - val_loss: 0.6543 - val_accuracy: 0.7088\n",
      "Epoch 14/20\n",
      "15000/15000 [==============================] - 80s 5ms/sample - loss: 0.5746 - accuracy: 0.7493 - val_loss: 0.5904 - val_accuracy: 0.7293\n",
      "Epoch 15/20\n",
      "15000/15000 [==============================] - 79s 5ms/sample - loss: 0.5562 - accuracy: 0.7559 - val_loss: 0.5675 - val_accuracy: 0.7430\n",
      "Epoch 16/20\n",
      "15000/15000 [==============================] - 79s 5ms/sample - loss: 0.5448 - accuracy: 0.7633 - val_loss: 0.5663 - val_accuracy: 0.7435\n",
      "Epoch 17/20\n",
      "15000/15000 [==============================] - 79s 5ms/sample - loss: 0.5394 - accuracy: 0.7675 - val_loss: 0.5628 - val_accuracy: 0.7475\n",
      "Epoch 18/20\n",
      "15000/15000 [==============================] - 79s 5ms/sample - loss: 0.5367 - accuracy: 0.7700 - val_loss: 0.5611 - val_accuracy: 0.7490\n",
      "Epoch 19/20\n",
      "15000/15000 [==============================] - 79s 5ms/sample - loss: 0.5357 - accuracy: 0.7701 - val_loss: 0.5590 - val_accuracy: 0.7509\n",
      "Epoch 20/20\n",
      "15000/15000 [==============================] - 79s 5ms/sample - loss: 0.5352 - accuracy: 0.7707 - val_loss: 0.5574 - val_accuracy: 0.7522\n"
     ]
    }
   ],
   "source": [
    "model.compile(optimizer='adam',\n",
    "             loss='binary_crossentropy',\n",
    "             metrics=['accuracy'])\n",
    "\n",
    "epochs = 20\n",
    "\n",
    "history = model.fit(partial_x_train,\n",
    "                   partial_y_train,\n",
    "                   epochs = epochs,\n",
    "                   batch_size=512,\n",
    "                   validation_data=(x_val,y_val),\n",
    "                   verbose=1)"
   ]
  },
  {
   "cell_type": "code",
   "execution_count": 21,
   "id": "d0d007b3",
   "metadata": {},
   "outputs": [
    {
     "name": "stdout",
     "output_type": "stream",
     "text": [
      "25000/1 - 211s - loss: 0.5690 - accuracy: 0.7457\n",
      "[0.5652711583518982, 0.74572]\n"
     ]
    }
   ],
   "source": [
    "### 학습이 끝난 모델을 테스트셋으로 평가해보기 \n",
    "results = model.evaluate(x_test,y_test,verbose=2)\n",
    "print(results)"
   ]
  },
  {
   "cell_type": "code",
   "execution_count": 22,
   "id": "72ac9635",
   "metadata": {},
   "outputs": [
    {
     "name": "stdout",
     "output_type": "stream",
     "text": [
      "dict_keys(['loss', 'accuracy', 'val_loss', 'val_accuracy'])\n"
     ]
    }
   ],
   "source": [
    "history_dict = history.history\n",
    "print(history_dict.keys())"
   ]
  },
  {
   "cell_type": "code",
   "execution_count": 23,
   "id": "53a2cd3e",
   "metadata": {},
   "outputs": [
    {
     "data": {
      "image/png": "[encoded data removed]",
      "text/plain": [
       "<Figure size 432x288 with 1 Axes>"
      ]
     },
     "metadata": {
      "needs_background": "light"
     },
     "output_type": "display_data"
    }
   ],
   "source": [
    "### accuracy, loss 그래프 그려보기 \n",
    "import matplotlib.pyplot as plt\n",
    "acc = history_dict['accuracy']\n",
    "val_acc = history_dict['val_accuracy']\n",
    "loss = history_dict['loss']\n",
    "val_loss = history_dict['val_loss']\n",
    "\n",
    "epochs = range(1,len(acc)+1)\n",
    "\n",
    "plt.plot(epochs,loss,'bo',label='Training loss')\n",
    "plt.plot(epochs,val_loss,'b',label='Validation loss')\n",
    "plt.title('training and validation loss')\n",
    "plt.xlabel('epochs')\n",
    "plt.ylabel('loss')\n",
    "plt.legend()\n",
    "plt.show()"
   ]
  },
  {
   "cell_type": "code",
   "execution_count": 24,
   "id": "93885852",
   "metadata": {},
   "outputs": [
    {
     "data": {
      "image/png": "[encoded data removed]",
      "text/plain": [
       "<Figure size 432x288 with 1 Axes>"
      ]
     },
     "metadata": {
      "needs_background": "light"
     },
     "output_type": "display_data"
    }
   ],
   "source": [
    "plt.clf()\n",
    "plt.plot(epochs,acc,'bo',label='Training accuracy')\n",
    "plt.plot(epochs,val_acc,'b',label='Validation accuracy')\n",
    "plt.title('training and validation accuracy')\n",
    "plt.xlabel('epochs')\n",
    "plt.ylabel('accuracy')\n",
    "plt.legend()\n",
    "plt.show()"
   ]
  },
  {
   "cell_type": "markdown",
   "id": "477f4fad",
   "metadata": {},
   "source": [
    "# Word2Vec의 적용"
   ]
  },
  {
   "cell_type": "code",
   "execution_count": 25,
   "id": "7858ef54",
   "metadata": {},
   "outputs": [
    {
     "data": {
      "text/plain": [
       "[<tensorflow.python.keras.layers.embeddings.Embedding at 0x7f851da98dd0>,\n",
       " <tensorflow.python.keras.layers.recurrent_v2.LSTM at 0x7f852e639550>,\n",
       " <tensorflow.python.keras.layers.core.Dense at 0x7f852e3ce850>,\n",
       " <tensorflow.python.keras.layers.core.Dense at 0x7f852e3ce750>]"
      ]
     },
     "execution_count": 25,
     "metadata": {},
     "output_type": "execute_result"
    }
   ],
   "source": [
    "model.layers"
   ]
  },
  {
   "cell_type": "code",
   "execution_count": 29,
   "id": "b8c9b6a6",
   "metadata": {},
   "outputs": [
    {
     "name": "stdout",
     "output_type": "stream",
     "text": [
      "(10000, 16)\n"
     ]
    }
   ],
   "source": [
    "embedding_layer = model.layers[0]\n",
    "weights = embedding_layer.get_weights()[0]\n",
    "print(weights.shape)"
   ]
  },
  {
   "cell_type": "code",
   "execution_count": 30,
   "id": "560c7dd9",
   "metadata": {},
   "outputs": [
    {
     "name": "stdout",
     "output_type": "stream",
     "text": [
      "Model: \"sequential\"\n",
      "_________________________________________________________________\n",
      "Layer (type)                 Output Shape              Param #   \n",
      "=================================================================\n",
      "embedding (Embedding)        (None, None, 16)          160000    \n",
      "_________________________________________________________________\n",
      "lstm (LSTM)                  (None, 8)                 800       \n",
      "_________________________________________________________________\n",
      "dense (Dense)                (None, 8)                 72        \n",
      "_________________________________________________________________\n",
      "dense_1 (Dense)              (None, 1)                 9         \n",
      "=================================================================\n",
      "Total params: 160,881\n",
      "Trainable params: 160,881\n",
      "Non-trainable params: 0\n",
      "_________________________________________________________________\n"
     ]
    }
   ],
   "source": [
    "model.summary()"
   ]
  },
  {
   "cell_type": "markdown",
   "id": "db36805e",
   "metadata": {},
   "source": [
    "### embedding 파라미터를 파일에 저장하기"
   ]
  },
  {
   "cell_type": "code",
   "execution_count": 34,
   "id": "94b03a02",
   "metadata": {},
   "outputs": [],
   "source": [
    "word2vec_file_path = './sentimental_classification/data/word2vec.txt'\n",
    "f = open(word2vec_file_path,'w')\n",
    "f.write('{} {}\\n'.format(vocab_size-4,word_vector_dim))\n",
    "\n",
    "vectors = model.get_weights()[0]\n",
    "for i in range(4,vocab_size):\n",
    "    f.write('{} {}\\n'.format(index_to_word[i],' '.join(map(str,list(vectors[i,:])))))\n",
    "f.close()"
   ]
  },
  {
   "cell_type": "code",
   "execution_count": 39,
   "id": "08a351f8",
   "metadata": {},
   "outputs": [
    {
     "data": {
      "text/plain": [
       "16"
      ]
     },
     "execution_count": 39,
     "metadata": {},
     "output_type": "execute_result"
    }
   ],
   "source": [
    "from gensim.models.keyedvectors import Word2VecKeyedVectors\n",
    "\n",
    "word_vectors = Word2VecKeyedVectors.load_word2vec_format(word2vec_file_path, binary=False)\n",
    "vector = word_vectors['computer']\n",
    "len(vector)"
   ]
  },
  {
   "cell_type": "code",
   "execution_count": 40,
   "id": "50145a05",
   "metadata": {},
   "outputs": [
    {
     "data": {
      "text/plain": [
       "[('hello', 0.7918676137924194),\n",
       " ('overall', 0.7669007778167725),\n",
       " ('possible', 0.75901859998703),\n",
       " ('weaves', 0.7543169856071472),\n",
       " ('questions', 0.7279703617095947),\n",
       " ('others', 0.7055426836013794),\n",
       " ('these', 0.7002300024032593),\n",
       " ('happen', 0.6934060454368591),\n",
       " ('civil', 0.6913589835166931),\n",
       " (\"haven't\", 0.6834456324577332)]"
      ]
     },
     "execution_count": 40,
     "metadata": {},
     "output_type": "execute_result"
    }
   ],
   "source": [
    "word_vectors.similar_by_word('love')\n",
    "#실제 아래 결과를 보게 되면 love와 유사도가 높은 단어가 잘 나오지 않음을 볼 수 있다. \n",
    "#이것은 우리가 학습시킨 파라미터가 결과적으로 잘 학습되지 않았음을 알 수 있다. \n",
    "#그래서 word2vec과 같이 이미 잘 학습시켜 놓은 워드 벡터를 이용한다. "
   ]
  },
  {
   "cell_type": "code",
   "execution_count": null,
   "id": "b70108a4",
   "metadata": {},
   "outputs": [],
   "source": []
  }
 ],
 "metadata": {
  "kernelspec": {
   "display_name": "aiffel",
   "language": "python",
   "name": "aiffel"
  },
  "language_info": {
   "codemirror_mode": {
    "name": "ipython",
    "version": 3
   },
   "file_extension": ".py",
   "mimetype": "text/x-python",
   "name": "python",
   "nbconvert_exporter": "python",
   "pygments_lexer": "ipython3",
   "version": "3.7.15"
  }
 },
 "nbformat": 4,
 "nbformat_minor": 5
}
